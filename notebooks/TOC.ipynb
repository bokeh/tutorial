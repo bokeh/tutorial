{
 "cells": [
  {
   "cell_type": "markdown",
   "metadata": {},
   "source": [
    "<table style=\"float:left; border:none\">\n",
    "   <tr style=\"border:none\">\n",
    "       <td style=\"border:none\">\n",
    "           <a href=\"https://bokeh.org/\" target=\"_blank\">\n",
    "           <img\n",
    "               src=\"assets/bokeh-transparent.png\"\n",
    "               style=\"width:50px\"\n",
    "           >\n",
    "           </a>\n",
    "       </td>\n",
    "       <td style=\"border:none\">\n",
    "           <h1>Bokeh Tutorial</h1>\n",
    "       </td>\n",
    "   </tr>\n",
    "</table>\n"
   ]
  },
  {
   "cell_type": "markdown",
   "metadata": {},
   "source": [
    "<h2>Table of contents</h2>\n",
    "\n",
    "* [01 Introduction](01_introduction.ipynb)\n",
    "* [02 Bokeh installation and setup](02_installation_and_setup.ipynb)\n",
    "* [03 Basic concepts](03_basic_concepts.ipynb)\n",
    "* [04 Basic plotting](04_basic_plots.ipynb)\n",
    "* [05 Styling plots](05_styling.ipynb)\n",
    "* [06 Data sources](06_data_sources.ipynb)\n",
    "* [07 Adding annotations](07_annotations.ipynb)\n",
    "* [08 Plot tools and tooltips](08_plot_tools.ipynb)\n",
    "* [09 More plot types](09_more_plot_types.ipynb)\n",
    "* [10 Layouts](10_layouts.ipynb)\n",
    "* [11 Widgets and interactivity](11_widgets_interactivity.ipynb)\n",
    "* [12 Building the demo dashboard](12_demo_dashboard.ipynb)\n",
    "* [13 Exporting and embedding](13_exporting_embedding.ipynb)\n",
    "* [14 Next steps](14_next_steps.ipynb)"
   ]
  }
 ],
 "metadata": {
  "kernelspec": {
   "display_name": "global-global-interactive-dataviz-bokeh",
   "language": "python",
   "name": "conda-env-global-global-interactive-dataviz-bokeh-py"
  },
  "language_info": {
   "codemirror_mode": {
    "name": "ipython",
    "version": 3
   },
   "file_extension": ".py",
   "mimetype": "text/x-python",
   "name": "python",
   "nbconvert_exporter": "python",
   "pygments_lexer": "ipython3",
   "version": "3.10.12"
  },
  "vscode": {
   "interpreter": {
    "hash": "0494a81e5f69860dcb844ce8e12eb9c88a7e813ddbfb0fbade72137f5ce45437"
   }
  }
 },
 "nbformat": 4,
 "nbformat_minor": 4
}
