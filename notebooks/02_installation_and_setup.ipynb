{
 "cells": [
  {
   "cell_type": "markdown",
   "metadata": {},
   "source": [
    "<table style=\"float:left; border:none\">\n",
    "   <tr style=\"border:none\">\n",
    "       <td style=\"border:none\">\n",
    "           <a href=\"https://bokeh.org/\" target=\"_blank\">\n",
    "           <img\n",
    "               src=\"assets/bokeh-transparent.png\"\n",
    "               style=\"width:50px\"\n",
    "           >\n",
    "           </a>\n",
    "       </td>\n",
    "       <td style=\"border:none\">\n",
    "           <h1>Bokeh Tutorial</h1>\n",
    "       </td>\n",
    "   </tr>\n",
    "</table>\n",
    "\n",
    "<div style=\"float:right;\"><a href=\"TOC.ipynb\" target=\"_blank\">Table of contents</a><br><h2>02 Bokeh Installation and Setup</h2></div>"
   ]
  },
  {
   "cell_type": "markdown",
   "metadata": {},
   "source": [
    "This chapter provides an overview of the installation and setup of Bokeh.\n",
    "\n",
    "**Installing Bokeh is not required in order to read and run this tutorial.**\n",
    "However, this chapter provides all information necessary to install Bokeh for most\n",
    "use cases (beyond this tutorial).\n",
    "\n",
    "If you just want to get a first impression of Bokeh, feel free to skip this chapter\n",
    "and **go straight to [03 Basic Concepts](03_basic_concepts.ipynb)**."
   ]
  },
  {
   "cell_type": "markdown",
   "metadata": {},
   "source": [
    "### Install with pip / conda\n",
    "\n",
    "Since Bokeh is already pre-installed in this notebook environment, you are able\n",
    "to use Bokeh right away. \n",
    "\n",
    "However, if you want to install Bokeh in your local environment or any other\n",
    "environment, you can use `pip` or `conda` to install Bokeh.\n",
    "\n",
    "Installing with `pip`:\n",
    "\n",
    "```bash\n",
    "pip install bokeh\n",
    "```\n",
    "\n",
    "Installing with `conda`:\n",
    "\n",
    "```bash\n",
    "conda install bokeh\n",
    "```\n",
    "\n",
    "See the [Bokeh Installation Guide](https://docs.bokeh.org/en/latest/docs/first_steps/installation.html) for more details."
   ]
  },
  {
   "cell_type": "markdown",
   "metadata": {},
   "source": [
    "### Running Bokeh in classic notebooks\n",
    "\n",
    "Bokeh supports notebooks running in the classic Jupyter notebook without any\n",
    "additional setup.\n",
    "\n",
    "To enable output of Bokeh directly into a notebook cell, you only need to\n",
    "import and call the `output_notebook()` function:\n"
   ]
  },
  {
   "cell_type": "code",
   "execution_count": null,
   "metadata": {},
   "outputs": [],
   "source": [
    "from bokeh.io import output_notebook\n",
    "\n",
    "output_notebook()"
   ]
  },
  {
   "cell_type": "markdown",
   "metadata": {},
   "source": [
    "After calling `output_notebook()` once, Bokeh will automatically display output\n",
    "in the notebook.\n",
    "\n",
    "You will see `output_notebook()` repeated at the top of most of the next\n",
    "chapters in this tutorial."
   ]
  },
  {
   "cell_type": "markdown",
   "metadata": {},
   "source": [
    "### Running Bokeh in JupyterLab\n",
    "\n",
    "To enable Bokeh outputs in JupyterLab, you need to install the\n",
    "[jupyter_bokeh extension](https://github.com/bokeh/jupyter_bokeh).\n",
    "\n",
    "See [Using with Jupyter](https://docs.bokeh.org/en/latest/docs/user_guide/jupyter.html) for more details."
   ]
  },
  {
   "cell_type": "markdown",
   "metadata": {},
   "source": [
    "# Next section\n",
    "\n",
    "<a href=\"03_basic_concepts.ipynb\" target=\"_blank\">\n",
    "    <img src=\"assets/arrow.svg\" alt=\"Next section\" width=\"100\" align=\"right\">\n",
    "</a>\n",
    "\n",
    "In the [next chapter](03_basic_concepts.ipynb) of this tutorial, you will learn about\n",
    "the basic concepts behind Bokeh."
   ]
  }
 ],
 "metadata": {
  "kernelspec": {
   "display_name": "global-global-interactive-dataviz-bokeh",
   "language": "python",
   "name": "conda-env-global-global-interactive-dataviz-bokeh-py"
  },
  "language_info": {
   "codemirror_mode": {
    "name": "ipython",
    "version": 3
   },
   "file_extension": ".py",
   "mimetype": "text/x-python",
   "name": "python",
   "nbconvert_exporter": "python",
   "pygments_lexer": "ipython3",
   "version": "3.11.4"
  },
  "vscode": {
   "interpreter": {
    "hash": "0494a81e5f69860dcb844ce8e12eb9c88a7e813ddbfb0fbade72137f5ce45437"
   }
  }
 },
 "nbformat": 4,
 "nbformat_minor": 4
}
