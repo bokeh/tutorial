{
 "cells": [
  {
   "cell_type": "markdown",
   "metadata": {},
   "source": [
    "<table style=\"float:left; border:none\">\n",
    "   <tr style=\"border:none\">\n",
    "       <td style=\"border:none\">\n",
    "           <a href=\"https://bokeh.org/\" target=\"_blank\">\n",
    "           <img\n",
    "               src=\"assets/bokeh-transparent.png\"\n",
    "               style=\"width:50px\"\n",
    "           >\n",
    "           </a>\n",
    "       </td>\n",
    "       <td style=\"border:none\">\n",
    "           <h1>Bokeh Tutorial</h1>\n",
    "       </td>\n",
    "   </tr>\n",
    "</table>\n",
    "\n",
    "<div style=\"float:right;\"><a href=\"TOC.ipynb\" target=\"_blank\">Table of contents</a><br><h2>05 Styling plots</h2></div>"
   ]
  },
  {
   "cell_type": "code",
   "execution_count": null,
   "metadata": {},
   "outputs": [],
   "source": [
    "# load tutorial data\n",
    "from tutorial_data import data"
   ]
  },
  {
   "cell_type": "code",
   "execution_count": null,
   "metadata": {},
   "outputs": [],
   "source": [
    "# activate notebook output\n",
    "from bokeh.io import output_notebook\n",
    "\n",
    "output_notebook()"
   ]
  },
  {
   "cell_type": "markdown",
   "metadata": {},
   "source": [
    "In this chapter, you will start to customize the appearance of your plots.\n",
    "This includes changing the title, axis labels, and grid lines. You will also learn how\n",
    "to add legends and hover tooltips to your plots.\n",
    "\n",
    "Before diving into how to customize the different elements of your plots, let's first\n",
    "learn about how Bokeh handles general properties, such as defining colors or the\n",
    "appearance of lines."
   ]
  },
  {
   "cell_type": "markdown",
   "metadata": {},
   "source": [
    "### Colors in Bokeh\n",
    "\n",
    "Defining colors works the same across all different parts of Bokeh. There are different\n",
    "ways to define colors, including the following:\n",
    "\n",
    "* any of the [140 named HTML/CSS colors](https://www.w3schools.com/colors/colors_names.asp),\n",
    "e.g ``'green'``, ``'indigo'``\n",
    "* an RGB(A) hex value, e.g., ``'#FF0000'``, ``'#44444444'``\n",
    "* a 3-tuple of integers *(r,g,b)* between 0 and 255\n",
    "*  a 4-tuple of *(r,g,b,a)* where *r*, *g*, *b* are integers between 0 and 255 and *a* is a floating point value between 0 and 1\n",
    "\n",
    "Use this code cell to see the different color formats in action:"
   ]
  },
  {
   "cell_type": "code",
   "execution_count": null,
   "metadata": {},
   "outputs": [],
   "source": [
    "from bokeh.plotting import figure, show\n",
    "\n",
    "fruits = [\"Apples\", \"Pears\", \"Nectarines\", \"Plums\", \"Grapes\", \"Strawberries\"]  # a set of categories\n",
    "counts = [5, 3, 4, 2, 4, 6]\n",
    "\n",
    "color_plot = figure(x_range=fruits, height=350)\n",
    "\n",
    "# 🔁 try different ways to define the vbar's color by uncommenting one of the following lines:\n",
    "color_plot.vbar(x=fruits, top=counts, width=0.9, color=\"indigo\")  # using a named CSS color\n",
    "# color_plot.vbar(x=fruits, top=counts, width=0.9, color=\"#00FF00\")  # using a hex color\n",
    "# color_plot.vbar(x=fruits, top=counts, width=0.9, color=(0, 100, 100))  # using a RGB color\n",
    "# color_plot.vbar(x=fruits, top=counts, width=0.9, color=(0, 100, 100, 0.25))  # using a RGBA color\n",
    "\n",
    "show(color_plot)"
   ]
  },
  {
   "cell_type": "markdown",
   "metadata": {},
   "source": [
    "See [Color properties](https://docs.bokeh.org/en/latest/docs/user_guide/styling/visuals.html#color-properties)\n",
    "in the Bokeh user guide for all ways to define colors."
   ]
  },
  {
   "cell_type": "markdown",
   "metadata": {},
   "source": [
    "### Visual properties\n",
    "\n",
    "All the elements of a Bokeh visualization are Python objects. You can customize their\n",
    "appearance by setting these objects' properties.\n",
    "\n",
    "Bokeh's visual properties work similarly across different kinds of objects.\n",
    "They are organized into four groups:\n",
    "\n",
    "#### Line properties\n",
    "\n",
    "Line properties are used to customize the look of lines, such as color, thickness, and\n",
    "dash pattern.\n",
    "\n",
    "All line properties start with ``line_``. For example: ``line_color``,\n",
    "  ``line_alpha``, ``line_width`` and ``line_dash``.\n",
    "\n",
    "#### Text properties\n",
    "\n",
    "Text properties are used to change the appearance of text, such as font, size, and\n",
    "color.\n",
    "\n",
    "All text properties start with ``text_``. For example: ``text_font``,\n",
    "  ``text_font_size``, ``text_color``, and ``text_alpha``.\n",
    "\n",
    "#### Fill properties\n",
    "\n",
    "Fill properties are used for changing a filled area's color and transparency.\n",
    "\n",
    "Fill properties start with ``fill_``. For example: ``fill_color``, ``fill_alpha``.\n",
    "\n",
    "#### Hatch properties\n",
    "\n",
    "Hatch properties are used for changing the appearance of hatches, such as color,\n",
    "pattern, and thickness.\n",
    "\n",
    "Hatch properties start with ``hatch_``. For example: ``hatch_color``,\n",
    "  ``hatch_alpha``, ``hatch_pattern``, and ``hatch_scale``.\n",
    "\n",
    "For more information with code and examples, see the\n",
    "[General Visual Properties](https://docs.bokeh.org/en/latest/docs/user_guide/styling/visuals.html)\n",
    "section of the user guide."
   ]
  },
  {
   "cell_type": "markdown",
   "metadata": {},
   "source": [
    "In the following code cell, use the different properties to customize the appearance\n",
    "of the plot. This plot uses the same DataFrame set as the previous chapter. You load\n",
    "this DataFrame from the demo data set (`data`).\n",
    "\n",
    "You'll see the following visual properties in action:\n",
    "* ``text_font_size`` and ``text_color`` (see [Text properties](https://docs.bokeh.org/en/latest/docs/user_guide/styling/visuals.html#text-properties)\n",
    "for more details)\n",
    "* ``line_width``, ``line_color``, ``line_alpha``, and ``line_dash`` (see [Line properties](https://docs.bokeh.org/en/latest/docs/user_guide/styling/visuals.html#line-properties)\n",
    "for more details)\n",
    "* ``fill_color`` and ``fill_alpha`` (see [Fill properties](https://docs.bokeh.org/en/latest/docs/user_guide/styling/visuals.html#fill-properties)\n",
    "for more details)\n",
    "* ``hatch_color``, ``hatch_alpha``, and ``hatch_pattern`` (see [Hatch properties](https://docs.bokeh.org/en/latest/docs/user_guide/styling/visuals.html#hatch-properties)\n",
    "for more details)"
   ]
  },
  {
   "cell_type": "code",
   "execution_count": null,
   "metadata": {},
   "outputs": [],
   "source": [
    "# set up the plot\n",
    "visual_properties_plot = figure(\n",
    "    height=300,\n",
    "    title=\"Domestic Freight and Mail (2021)\",\n",
    ")\n",
    "\n",
    "# load data from the monthly_values_df data set from the demo data\n",
    "monthly_values_df = data.get_monthly_values()\n",
    "\n",
    "# use data from the monthly_values_df DataFrame\n",
    "x = monthly_values_df.index  # x-axis is the number of the month\n",
    "freight = monthly_values_df[\"freight\"]  # the amount of freight\n",
    "mail = monthly_values_df[\"mail\"]  # the amount of mail\n",
    "\n",
    "# Change the font size of the title\n",
    "# 🔁 try changing the values of those properties to see how they affect the plot\n",
    "visual_properties_plot.title.text_font_size = \"1.2em\"  # use a CSS-style definition of the font size\n",
    "visual_properties_plot.title.text_color = \"darkblue\"  # use a named CSS color\n",
    "\n",
    "# add a line glyph and customize its appearance\n",
    "# 🔁 try changing the values of those properties to see how they affect the plot\n",
    "visual_properties_plot.line(\n",
    "    x,\n",
    "    freight,\n",
    "    line_width=3,\n",
    "    line_color=\"orange\",\n",
    "    line_alpha=0.6,\n",
    "    line_dash=\"dashed\",  # line properties\n",
    ")\n",
    "\n",
    "# add a vbar glyph and customize its appearance\n",
    "# 🔁 try changing the values of those properties to see how they affect the plot\n",
    "visual_properties_plot.vbar(\n",
    "    x=x,\n",
    "    top=mail,\n",
    "    width=0.9,\n",
    "    fill_alpha=0.5,\n",
    "    fill_color=\"navy\",  # fill properties\n",
    "    hatch_pattern=\"spiral\",\n",
    "    hatch_alpha=0.5,\n",
    "    hatch_color=\"yellow\",  # hatch properties\n",
    ")\n",
    "\n",
    "show(visual_properties_plot)"
   ]
  },
  {
   "cell_type": "markdown",
   "metadata": {},
   "source": [
    "### Styling plots\n",
    "\n",
    "You can define the appearance of many elements of a plot.\n",
    "This includes a plot's width and height, outline, border, or background, for example.\n",
    "\n",
    "In most cases, customizing the appearance of a plot's element uses properties that\n",
    "work just like the visual properties you used in the examples above:"
   ]
  },
  {
   "cell_type": "code",
   "execution_count": null,
   "metadata": {},
   "outputs": [],
   "source": [
    "plot = figure()  # create a new plot without all properties set to default values\n",
    "\n",
    "# 🔁 Try changing the values of the following properties to see how they affect the plot\n",
    "plot.height = 300  # set the height of the plot (in pixels)\n",
    "plot.width = 700  # set the width of the plot (in pixels)\n",
    "plot.outline_line_color = \"navy\"  # use a CSS color for the plot's outline\n",
    "plot.outline_line_width = 2  # set the width of the outline\n",
    "plot.outline_line_alpha = 0.5  # set the transparency of the outline\n",
    "plot.background_fill_color = \"lightblue\"  # set a background color\n",
    "plot.xgrid.grid_line_color = None  # make the x-axis grid lines invisible\n",
    "\n",
    "plot.scatter([1, 2, 3, 4, 5], [2, 5, 8, 2, 7], size=10)\n",
    "\n",
    "show(plot)"
   ]
  },
  {
   "cell_type": "markdown",
   "metadata": {},
   "source": [
    "See the [Styling plot elements](https://docs.bokeh.org/en/latest/docs/user_guide/styling/plots.html#ug-styling-plots) section of the user guide for more details."
   ]
  },
  {
   "cell_type": "markdown",
   "metadata": {},
   "source": [
    "### Styling Glyphs\n",
    "\n",
    "As you have probably seen already, there are two ways to define the properties of the\n",
    "elements in your plot:\n",
    "\n",
    "You either set the properties of the glyph when you define it for the first time.\n",
    "For example:\n",
    "\n",
    "```python\n",
    "plot.scatter(x, y, fill_color='yellow', line_color='red')\n",
    "```\n",
    "\n",
    "Or you can set the properties of the glyph after you have defined it. To access the\n",
    "visual properties of a glyph after defining it for the first time, use the ``.glyph``\n",
    "attribute. For example:\n",
    "\n",
    "```python\n",
    "circle = plot.scatter(x, y)\n",
    "circle.glyph.fill_color = 'green'\n",
    "circle.glyph.line_color = 'blue'\n",
    "```\n",
    "\n",
    "In the following code cell, you can see how the ``fill_color`` and ``line_color`` of the\n",
    "glyph is first set to ``\"yellow\"`` and ``\"red\"`` when the glyph is defined.\n",
    "Then, the ``fill_color`` is changed to ``\"green\"``, and the ``line_color`` is changed to\n",
    "``\"blue\"``:"
   ]
  },
  {
   "cell_type": "code",
   "execution_count": null,
   "metadata": {},
   "outputs": [],
   "source": [
    "plot = figure(height=300)\n",
    "\n",
    "# add a circle glyph and define its colors to be \"yellow\" and \"red\"\n",
    "circle = plot.scatter([1, 2, 3], [2, 5, 8], size=15, fill_color=\"yellow\", line_color=\"red\")\n",
    "circle.glyph.fill_color = \"green\"  # use the .glyph attribute to access the visual properties of the glyph\n",
    "circle.glyph.line_color = \"blue\"\n",
    "\n",
    "show(plot)"
   ]
  },
  {
   "cell_type": "markdown",
   "metadata": {},
   "source": [
    "For more information, see [Styling glyphs](https://docs.bokeh.org/en/latest/docs/user_guide/styling/plots.html#styling-axes)\n",
    "in the user guide."
   ]
  },
  {
   "cell_type": "markdown",
   "metadata": {},
   "source": [
    "### Customizing Axes\n",
    "\n",
    "Another very common element that you can customize is the axes of a plot.\n",
    "\n",
    "You can customize the appearance of the axes, such as the color, thickness, and grid\n",
    "lines.\n",
    "Use the `xaxis` and `yaxis` attributes of the plot object to configure the axes.\n",
    "You can use the same visual properties that you used on plots and glyphs:"
   ]
  },
  {
   "cell_type": "code",
   "execution_count": null,
   "metadata": {},
   "outputs": [],
   "source": [
    "axes_plot = figure(height=300)\n",
    "circle = axes_plot.line([1, 2, 3], [2, 1, 8], line_color=\"purple\")\n",
    "\n",
    "# 🔁 try using different visual attributes to change the appearance of the x-axis\n",
    "axes_plot.xaxis.axis_line_color = \"blue\"  # set the color of the x-axis line\n",
    "axes_plot.xaxis.minor_tick_line_color = \"orange\"  # set the color of the x-axis tick marks\n",
    "axes_plot.xaxis.major_tick_line_color = \"red\"  # set the color of the x-axis tick marks\n",
    "axes_plot.xaxis.major_label_text_font_size = \"1.2em\"  # set the font size of the x-axis label\n",
    "axes_plot.yaxis.axis_line_color = \"red\"  # set the color of the y-axis line\n",
    "\n",
    "show(axes_plot)"
   ]
  },
  {
   "cell_type": "markdown",
   "metadata": {},
   "source": [
    "There are more options for customizing axes than colors and fonts.\n",
    "\n",
    "Two common options are axis label orientations and assigning number formats:\n",
    "\n",
    "* Use the `xaxis` or `yaxis` parameter `major_label_orientation` to rotate the text of\n",
    "the axis labels.\n",
    "The value is a floating point number in radians. A value of 0 means no rotation.\n",
    "This is helpful to prevent longer axis labels from overlapping, for example.\n",
    "See [Tick label orientation](https://docs.bokeh.org/en/latest/docs/user_guide/styling/plots.html#tick-label-orientation)\n",
    "for more information.\n",
    "* Use the `xaxis` or `yaxis` parameter `formatter` to define how Bokeh formats numbers\n",
    "on the axis. This can be helpful for formatting dates, adding units, or changing the\n",
    "number format. Bokeh uses different formatters for different data types. For example,\n",
    "the `NumeralTickFormatter` is used for numeric data. It allows you to switch between\n",
    "scientific and decimal notation and to define the number of decimal places, for\n",
    "example. See [Tick formatters](https://docs.bokeh.org/en/latest/docs/user_guide/styling.html#tick-formatters)\n",
    "for more examples.\n",
    "\n",
    "Revisiting the example from the previous chapter, you can see both those options in\n",
    "action:"
   ]
  },
  {
   "cell_type": "code",
   "execution_count": null,
   "metadata": {},
   "outputs": [],
   "source": [
    "from bokeh.models import NumeralTickFormatter\n",
    "\n",
    "airlines_by_passengers_df = data.get_biggest_airlines_by_passengers()\n",
    "\n",
    "carriers_by_passengers_plot = figure(\n",
    "    x_range=airlines_by_passengers_df[\"unique_carrier_name\"][:10],\n",
    "    title=\"Top 10 carriers by passengers (domestic routes)\",\n",
    "    height=300,\n",
    "    width=600,\n",
    ")\n",
    "carriers_by_passengers_plot.vbar(\n",
    "    x=airlines_by_passengers_df[\"unique_carrier_name\"],\n",
    "    top=airlines_by_passengers_df[\"passengers\"],\n",
    "    legend_label=\"Passengers\",\n",
    "    width=0.6,\n",
    ")\n",
    "\n",
    "carriers_by_passengers_plot.xaxis.major_label_orientation = 0.8  # rotate labels by roughly pi/4 (45 degrees)\n",
    "carriers_by_passengers_plot.yaxis.formatter = NumeralTickFormatter(format=\"0,0\")  # use a NumeralTickFormatter to format the numbers on the y-axis to decimal with thousands separators\n",
    "\n",
    "show(carriers_by_passengers_plot)"
   ]
  },
  {
   "cell_type": "markdown",
   "metadata": {},
   "source": [
    "See [Styling axes](https://docs.bokeh.org/en/latest/docs/user_guide/styling/axes.html#ug-styling-axes)\n",
    "in the user guide for more comprehensive information."
   ]
  },
  {
   "cell_type": "markdown",
   "metadata": {},
   "source": [
    "### Customizing titles\n",
    "\n",
    "Several of the examples so far have included a title for the plot. You did this by\n",
    "passing the ``title`` argument to the ``figure()`` function:\n",
    "\n",
    "```python\n",
    "plot = figure(title=\"Your plot title\")\n",
    "```\n",
    "\n",
    "You can also customize the title using the ``title`` property of the ``Figure`` object:\n",
    "\n",
    "```python\n",
    "plot = figure()\n",
    "plot.title.text = \"Your plot title\"\n",
    "```\n",
    "\n",
    "There are various ways to style the text of your plot title. For example:"
   ]
  },
  {
   "cell_type": "code",
   "execution_count": null,
   "metadata": {},
   "outputs": [],
   "source": [
    "from bokeh.plotting import figure, show\n",
    "\n",
    "x = [1, 2, 3, 4, 5]\n",
    "y = [6, 7, 2, 4, 5]\n",
    "\n",
    "# add a figure with a title\n",
    "titles_plot = figure(title=\"Headline example\", height=300)\n",
    "titles_plot.line(x, y, line_width=2)\n",
    "\n",
    "# 🔁 try updating the following parameters to see how you can customize the title:\n",
    "titles_plot.title_location = \"left\"  # move the title to the left\n",
    "titles_plot.title.text = \"Updated plot title\"  # change the title text\n",
    "titles_plot.title.text_font_size = \"25px\"  # change the font size\n",
    "titles_plot.title.align = \"right\"  # align the title to the right\n",
    "titles_plot.title.background_fill_color = \"darkgrey\"  # change the background color\n",
    "titles_plot.title.text_color = \"white\"  # change the text color\n",
    "\n",
    "show(titles_plot)"
   ]
  },
  {
   "cell_type": "markdown",
   "metadata": {},
   "source": [
    "For more information on styling the title, see\n",
    "[Title](https://docs.bokeh.org/en/latest/docs/user_guide/styling/plots.html#title) in\n",
    "the user guide."
   ]
  },
  {
   "cell_type": "markdown",
   "metadata": {},
   "source": [
    "### Customizing legends\n",
    "\n",
    "Bokeh automatically adds a legend to your plot if you include the ``legend_label``\n",
    "attribute when calling the renderer function. For example:\n",
    "\n",
    "```python\n",
    "p.scatter(x, y3, legend_label=\"Temperature\")\n",
    "```\n",
    "\n",
    "This adds a legend with the entry \"Temperature\" to your plot.\n",
    "\n",
    "You can customize the appearance of the legend using the ``legend`` property of \n",
    "any figure. For example:\n",
    "- ``legend.location``: The location of the legend in your plot\n",
    "- `legend.title`: Add a title to your legend\n",
    "\n",
    "You can also use the usual [visual properties](05_styling.ipynb#Visual-properties) to\n",
    "customize the appearance of a legend. For example:\n",
    "- `legend.label_text_color`: change the text color of the legend labels\n",
    "- `legend.border_line_width`: change the width of the border around the legend\n",
    "- `legend.background_fill_color`: change the background color of the legend\n",
    "\n",
    "The following cell contains several examples of those options:"
   ]
  },
  {
   "cell_type": "code",
   "execution_count": null,
   "metadata": {},
   "outputs": [],
   "source": [
    "# prepare some data\n",
    "x = [1, 2, 3, 4, 5]\n",
    "y1 = [4, 5, 5, 7, 2]\n",
    "y2 = [2, 3, 4, 5, 6]\n",
    "\n",
    "# create a new plot\n",
    "legends_plot = figure(title=\"Legend example\")\n",
    "\n",
    "# add circle renderer with legend_label arguments\n",
    "line = legends_plot.line(\n",
    "    x,\n",
    "    y1,\n",
    "    legend_label=\"Temperature\",\n",
    "    line_color=\"blue\",\n",
    "    line_width=2,\n",
    ")\n",
    "circle = legends_plot.scatter(\n",
    "    x,\n",
    "    y2,\n",
    "    legend_label=\"Objects\",\n",
    "    fill_color=\"red\",\n",
    "    fill_alpha=0.5,\n",
    "    line_color=\"blue\",\n",
    "    size=80,\n",
    ")\n",
    "\n",
    "# 🔁 try changing the following parameters to see how you can customize the legend:\n",
    "# display legend in top left corner (default is top right corner)\n",
    "legends_plot.legend.location = \"top_left\"\n",
    "\n",
    "# add a title to your legend\n",
    "legends_plot.legend.title = \"Observations\"\n",
    "\n",
    "# change appearance of legend text\n",
    "legends_plot.legend.label_text_color = \"navy\"\n",
    "legends_plot.legend.label_text_font = \"times\"\n",
    "legends_plot.legend.label_text_font_style = \"italic\"\n",
    "\n",
    "# change border and background of legend\n",
    "legends_plot.legend.border_line_width = 3\n",
    "legends_plot.legend.border_line_color = \"navy\"\n",
    "legends_plot.legend.border_line_alpha = 0.8\n",
    "legends_plot.legend.background_fill_color = \"navy\"\n",
    "legends_plot.legend.background_fill_alpha = 0.2\n",
    "\n",
    "# show the results\n",
    "show(legends_plot)"
   ]
  },
  {
   "cell_type": "markdown",
   "metadata": {},
   "source": [
    "For more information on customizing legends, see\n",
    "[Styling legends](https://docs.bokeh.org/en/latest/docs/user_guide/styling/plots.html#styling-legends)\n",
    "in the user guide."
   ]
  },
  {
   "cell_type": "markdown",
   "metadata": {},
   "source": [
    "### Color mappers and palettes\n",
    "\n",
    "Bokeh comes with dozens of pre-defined color palettes that you can use to map colors to\n",
    "your data. This includes palettes from\n",
    "[ColorBrewer](http://colorbrewer2.org/#type=sequential&scheme=BuGn&n=3),\n",
    "[D3](https://github.com/d3/d3-3.x-api-reference/blob/master/Ordinal-Scales.md#categorical-colors),\n",
    "or [Matplotlib](https://matplotlib.org/examples/color/colormaps_reference.html)\n",
    "(see [palettes](https://docs.bokeh.org/en/latest/docs/reference/palettes.html#module-bokeh.palettes)\n",
    "in the reference guide for a full list).\n",
    "\n",
    "These palettes are available in the ``bokeh.palettes`` module. Palettes are dictionaries\n",
    "with different pre-defined ranges of colors. In many cases, you can access a list\n",
    "of a specific number of colors by using the number of colors as a key. For example:"
   ]
  },
  {
   "cell_type": "code",
   "execution_count": null,
   "metadata": {},
   "outputs": [],
   "source": [
    "from bokeh.palettes import Cividis  # import the Cividis color palette\n",
    "\n",
    "Cividis[10]  # use \"10\" as a key to get a list of 10 colors from the Cividis palette"
   ]
  },
  {
   "cell_type": "markdown",
   "metadata": {},
   "source": [
    "You can use those lists of colors to map colors to your data. This means that color\n",
    "values are automatically assigned to your data based on the values of the data.\n",
    "\n",
    "Bokeh provides different color mapper methods to do this, including:\n",
    "\n",
    "* ``linear_cmap()``: maps colors to a range of values linearly\n",
    "* ``log_cmap()``: maps colors to a range of values logarithmically\n",
    "\n",
    "The following code cell shows how to use the ``linear_cmap()`` function to map colors\n",
    "from the ``Turbo256`` palette to the ``x`` and ``y`` values of the data:"
   ]
  },
  {
   "cell_type": "code",
   "execution_count": null,
   "metadata": {},
   "outputs": [],
   "source": [
    "from bokeh.io import show\n",
    "from bokeh.plotting import figure\n",
    "from bokeh.transform import linear_cmap\n",
    "\n",
    "# generate data\n",
    "x = list(range(-32, 33))\n",
    "y = [i**2 for i in x]\n",
    "\n",
    "# create plot\n",
    "mapper_plot = figure(width=500, height=250)\n",
    "\n",
    "# create circle renderer with color mapper\n",
    "circle_scatter = mapper_plot.scatter(\n",
    "    x,\n",
    "    y,\n",
    "    color=linear_cmap(\"y\", \"Turbo256\", min(y), max(y)),\n",
    "    size=10,\n",
    ")\n",
    "\n",
    "show(mapper_plot)"
   ]
  },
  {
   "cell_type": "markdown",
   "metadata": {},
   "source": [
    "To provide information about what color maps to which numerical value, you can add a\n",
    "color bar to your plot.\n",
    "\n",
    "Adding a color bar is a two-step process:\n",
    "\n",
    "1. Defining the color bar with the ``construct_color_bar()`` method\n",
    "2. Adding the color bar to the figure. Use the `add_layout` method to\n",
    "    add the object and define its position."
   ]
  },
  {
   "cell_type": "code",
   "execution_count": null,
   "metadata": {},
   "outputs": [],
   "source": [
    "color_bar = circle_scatter.construct_color_bar()  # create a color bar based on the glyph's color mapper\n",
    "mapper_plot.add_layout(obj=color_bar, place=\"right\")  # add the color bar to the plot you created above\n",
    "\n",
    "show(mapper_plot)"
   ]
  },
  {
   "cell_type": "markdown",
   "metadata": {},
   "source": [
    "The ``construct_color_bar()`` method automatically creates a `ColorBar` object. This\n",
    "method uses the color mapper of the object you call it on.\n",
    "\n",
    "You can also create a `ColorBar` object manually.\n",
    "See [Color bars](https://docs.bokeh.org/en/latest/docs/user_guide/basic/annotations.html#color-bars)\n",
    "in the user guide for more information."
   ]
  },
  {
   "cell_type": "markdown",
   "metadata": {},
   "source": [
    "### Using themes\n",
    "\n",
    "Bokeh has a number of built-in themes that you can use to quickly change the appearance\n",
    "of your plot. Themes are a set of pre-defined design parameters such as colors, fonts,\n",
    "or line styles.\n",
    "\n",
    "Bokeh includes the following built-in themes:\n",
    "- caliber\n",
    "- dark_minimal\n",
    "- light_minimal\n",
    "- night_sky\n",
    "- contrast\n",
    "\n",
    "You can apply a theme to your document as a whole. Your\n",
    "[Bokeh document](03_basic_concepts.ipynb#Bokeh-Building-Blocks) is the\n",
    "combination of all the plots, widgets, and layouts that you have defined. You can\n",
    "access this document with the ``curdoc()`` function.\n",
    "\n",
    "To use one of the built-in themes, assign the name of the theme you want to use to the\n",
    "theme property of your ``curdoc()`` object.\n",
    "\n",
    "Try uncommenting the different themes in the following code cell and run the cell to\n",
    "see what they look like:"
   ]
  },
  {
   "cell_type": "code",
   "execution_count": null,
   "metadata": {},
   "outputs": [],
   "source": [
    "from bokeh.io import curdoc\n",
    "\n",
    "# 🔁 uncomment different lines to see different themes\n",
    "# curdoc().theme = \"caliber\"\n",
    "# curdoc().theme = \"dark_minimal\"\n",
    "# curdoc().theme = \"light_minimal\"\n",
    "curdoc().theme = \"night_sky\"\n",
    "# curdoc().theme = \"contrast\"\n",
    "\n",
    "# create a plot\n",
    "x = [1, 2, 3, 4, 5]\n",
    "y = [4, 5, 5, 7, 2]\n",
    "themed_plot = figure(sizing_mode=\"stretch_width\", max_width=500, height=250)\n",
    "themed_plot.line(x, y)\n",
    "\n",
    "show(themed_plot)"
   ]
  },
  {
   "cell_type": "markdown",
   "metadata": {},
   "source": [
    "For more information, including how to create your own custom themes, see\n",
    "[Using Themes](https://docs.bokeh.org/en/latest/docs/user_guide/styling/themes.html#ug-styling-using-themes)\n",
    "in the user guide."
   ]
  },
  {
   "cell_type": "markdown",
   "metadata": {},
   "source": [
    "# Next section\n",
    "\n",
    "<a href=\"06_data_sources.ipynb\" target=\"_blank\">\n",
    "    <img src=\"assets/arrow.svg\" alt=\"Next section\" width=\"100\" align=\"right\">\n",
    "</a>\n",
    "\n",
    "In the [next chapter](06_data_sources.ipynb), you will learn how to use data sources\n",
    "to connect data to plots."
   ]
  }
 ],
 "metadata": {
  "kernelspec": {
   "display_name": "Python 3 (ipykernel)",
   "language": "python",
   "name": "python3"
  },
  "language_info": {
   "codemirror_mode": {
    "name": "ipython",
    "version": 3
   },
   "file_extension": ".py",
   "mimetype": "text/x-python",
   "name": "python",
   "nbconvert_exporter": "python",
   "pygments_lexer": "ipython3",
   "version": "3.12.0"
  },
  "vscode": {
   "interpreter": {
    "hash": "0494a81e5f69860dcb844ce8e12eb9c88a7e813ddbfb0fbade72137f5ce45437"
   }
  }
 },
 "nbformat": 4,
 "nbformat_minor": 4
}
