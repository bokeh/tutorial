{
 "cells": [
  {
   "cell_type": "markdown",
   "metadata": {},
   "source": [
    "<table style=\"float:left; border:none\">\n",
    "   <tr style=\"border:none\">\n",
    "       <td style=\"border:none\">\n",
    "           <a href=\"https://bokeh.org/\" target=\"_blank\">\n",
    "           <img\n",
    "               src=\"assets/bokeh-transparent.png\"\n",
    "               style=\"width:50px\"\n",
    "           >\n",
    "           </a>\n",
    "       </td>\n",
    "       <td style=\"border:none\">\n",
    "           <h1>Bokeh Tutorial</h1>\n",
    "       </td>\n",
    "   </tr>\n",
    "</table>\n",
    "\n",
    "<div style=\"float:right;\"><a href=\"TOC.ipynb\" target=\"_blank\">Table of contents</a><br><h2>Appendix A: WebGL</h2></div>"
   ]
  },
  {
   "cell_type": "markdown",
   "metadata": {},
   "source": [
    "Bokeh draws graphics on web pages using HTML Canvas by default. For larger datasets there is another option which is to use WebGL. This provides hardware acceleration of graphics if you have a processor or graphics cards that supports it.\n",
    "\n",
    "Let's look at an example that compares Canvas and WebGL side-by-side, using a ``hex_tile`` plot which is 2D histogram using hexagons."
   ]
  },
  {
   "cell_type": "code",
   "execution_count": null,
   "metadata": {},
   "outputs": [],
   "source": [
    "from bokeh.io import output_notebook, show\n",
    "from bokeh.layouts import row\n",
    "from bokeh.plotting import figure\n",
    "from bokeh.transform import linear_cmap\n",
    "from bokeh.util.hex import hexbin\n",
    "import numpy as np\n",
    "\n",
    "output_notebook()"
   ]
  },
  {
   "cell_type": "code",
   "execution_count": null,
   "metadata": {},
   "outputs": [],
   "source": [
    "n = 5_000_000\n",
    "x = np.random.standard_normal(n)\n",
    "y = np.random.standard_normal(n)\n",
    "\n",
    "bins = hexbin(x, y, 0.01)\n",
    "print(f\"Number of hexagons: {len(bins):,}\")"
   ]
  },
  {
   "cell_type": "code",
   "execution_count": null,
   "metadata": {},
   "outputs": [],
   "source": [
    "ps = []\n",
    "for backend in ([\"canvas\", \"webgl\"]):\n",
    "    p = figure(title=backend, tools=\"pan, wheel_zoom, box_select, reset\",\n",
    "               output_backend=backend, width=450, height=450, lod_threshold=None)\n",
    "    p.grid.visible = False\n",
    "    p.hex_tile(q=\"q\", r=\"r\", size=1, line_color=None, source=bins,\n",
    "               fill_color=linear_cmap('counts', 'Plasma256', 0, max(bins.counts)))\n",
    "    ps.append(p)\n",
    "show(row(ps))"
   ]
  },
  {
   "cell_type": "markdown",
   "metadata": {},
   "source": [
    "Interact with the plots to see how much faster WebGL is in your browser. Things to try:\n",
    "\n",
    "* Pan using the mouse\n",
    "* Zoom using the mouse wheel\n",
    "* Select a region of the plot such as one quarter of it, and repeat the pan and zoom"
   ]
  },
  {
   "cell_type": "markdown",
   "metadata": {},
   "source": [
    "### How much faster is WebGL?\n",
    "\n",
    "It is difficult to generalize, it depends on the graphics processing hardware you have available. Try it out to see.\n",
    "\n",
    "\n",
    "### How do you enable WebGL?\n",
    "\n",
    "By using the ``output_backend=\"webgl\"`` keyword argument when creating a ``figure``.\n",
    "\n",
    "\n",
    "### What glyphs are supported by WebGL?\n",
    "\n",
    "Not all Bokeh glyphs have WebGL support yet, but we are adding more all the time. If you have chosen to use WebGL then Bokeh will use WebGL for the glyphs that it can, and drop back to using Canvas for those not yet supported.\n",
    "\n",
    "For a full list of glyphs supported using WebGL see the [latest Bokeh documentation](https://docs.bokeh.org/en/latest/docs/user_guide/output/webgl.html#supported-glyphs)"
   ]
  }
 ],
 "metadata": {
  "kernelspec": {
   "display_name": "global-global-interactive-dataviz-bokeh",
   "language": "python",
   "name": "conda-env-global-global-interactive-dataviz-bokeh-py"
  },
  "language_info": {
   "codemirror_mode": {
    "name": "ipython",
    "version": 3
   },
   "file_extension": ".py",
   "mimetype": "text/x-python",
   "name": "python",
   "nbconvert_exporter": "python",
   "pygments_lexer": "ipython3",
   "version": "3.11.4"
  },
  "vscode": {
   "interpreter": {
    "hash": "0494a81e5f69860dcb844ce8e12eb9c88a7e813ddbfb0fbade72137f5ce45437"
   }
  }
 },
 "nbformat": 4,
 "nbformat_minor": 4
}
