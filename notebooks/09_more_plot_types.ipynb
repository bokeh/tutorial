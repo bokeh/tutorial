{
 "cells": [
  {
   "cell_type": "markdown",
   "metadata": {},
   "source": [
    "<table style=\"float:left; border:none\">\n",
    "   <tr style=\"border:none\">\n",
    "       <td style=\"border:none\">\n",
    "           <a href=\"https://bokeh.org/\" target=\"_blank\">\n",
    "           <img\n",
    "               src=\"assets/bokeh-transparent.png\"\n",
    "               style=\"width:50px\"\n",
    "           >\n",
    "           </a>\n",
    "       </td>\n",
    "       <td style=\"border:none\">\n",
    "           <h1>Bokeh Tutorial</h1>\n",
    "       </td>\n",
    "   </tr>\n",
    "</table>\n",
    "\n",
    "<div style=\"float:right;\"><a href=\"TOC.ipynb\" target=\"_blank\">Table of contents</a><br><h2>09 More plot types</h2></div>"
   ]
  },
  {
   "cell_type": "code",
   "execution_count": null,
   "metadata": {},
   "outputs": [],
   "source": [
    "# load tutorial data\n",
    "from tutorial_data import data"
   ]
  },
  {
   "cell_type": "code",
   "execution_count": null,
   "metadata": {},
   "outputs": [],
   "source": [
    "# activate notebook output\n",
    "from bokeh.io import output_notebook\n",
    "\n",
    "output_notebook()"
   ]
  },
  {
   "cell_type": "markdown",
   "metadata": {},
   "source": [
    "This chapter introduces **two additional categories of plot types**:\n",
    "- [Map plots](#Map-plots)\n",
    "- [Wedge plots](#Wedge-plots) (pie and donut charts)"
   ]
  },
  {
   "cell_type": "markdown",
   "metadata": {},
   "source": [
    "### Map plots\n",
    "\n",
    "Bokeh has several functionalities built-in that you can use to **visualize geographical\n",
    "data on maps**."
   ]
  },
  {
   "cell_type": "markdown",
   "metadata": {},
   "source": [
    "#### Tile providers\n",
    "\n",
    "Bokeh works with multiple tile providers that support Web Mercator projection.\n",
    "\n",
    "Bokeh uses the [xyzservices](https://xyzservices.readthedocs.org/) library to manage\n",
    "map tile providers.\n",
    "\n",
    "This way, you can use popular map designs from providers such as OpenStreetMap, CartoDB,\n",
    "Stamen, and Esri.\n",
    "\n",
    "In order to use tiles in a plot, you first need to configure your plot. This is done\n",
    "with the `figure()` function:\n",
    "* The `x_range` and `y_range` parameters need to be defined in Web Mercator coordinates.\n",
    "* The `x_axis_type` and `y_axis_type` parameters need to be set to `mercator`.\n",
    "\n",
    "After configuring your plot, use the `add_tile()` function to add the map tiles to a plot.\n",
    "This function requires the name of a tile source as a parameter.\n",
    "\n",
    "This works similarly to adding a line render with `line()`, or adding bars with\n",
    "`vbar()`:"
   ]
  },
  {
   "cell_type": "code",
   "execution_count": null,
   "metadata": {},
   "outputs": [],
   "source": [
    "import xyzservices.providers as xyz\n",
    "\n",
    "from bokeh.plotting import figure, show\n",
    "\n",
    "# range bounds supplied in Web Mercator coordinates\n",
    "p = figure(x_range=(-2000000, 6000000), y_range=(-1000000, 7000000), x_axis_type=\"mercator\", y_axis_type=\"mercator\")\n",
    "\n",
    "# 🔁 try uncommenting different lines to see different tile providers\n",
    "p.add_tile(\"CartoDB Positron\", retina=True)\n",
    "# p.add_tile(\"Esri World Imagery\", retina=True)\n",
    "# p.add_tile(\"OSM\", retina=True)\n",
    "# p.add_tile(\"Stamen Terrain\", retina=True)\n",
    "# p.add_tile(\"Stamen.Watercolor\", retina=True)\n",
    "\n",
    "show(p)"
   ]
  },
  {
   "cell_type": "markdown",
   "metadata": {},
   "source": [
    "To navigate around the map, use the standard Bokeh tools, such as the box zoom or wheel\n",
    "zoom!\n",
    "\n",
    "For more information on adding tiles to a plot, see the following resources:\n",
    "* [Tile provider maps](https://docs.bokeh.org/en/latest/docs/user_guide/topics/geo.html#tile-provider-maps)\n",
    "in the user guide \n",
    "* [Documentation for `add_tile`](https://docs.bokeh.org/en/latest/docs/reference/plotting/figure.html#bokeh.plotting.figure.add_tile)\n",
    "  in the reference guide.\n",
    "* the [tile_demo](https://docs.bokeh.org/en/latest/docs/examples/topics/geo/tile_demo.html)\n",
    "  example in the Bokeh gallery\n"
   ]
  },
  {
   "cell_type": "markdown",
   "metadata": {},
   "source": [
    "#### Google maps\n",
    "\n",
    "Bokeh also supports Google Maps tiles. To use Google Maps tiles, you need to provide\n",
    "an API key.\n",
    "\n",
    "This makes it difficult to demonstrate Google Maps for the purpose of this tutorial. See\n",
    "[Google Maps](https://docs.bokeh.org/en/latest/docs/user_guide/topics/geo.html#google-maps)\n",
    "in the user guide for more information."
   ]
  },
  {
   "cell_type": "markdown",
   "metadata": {},
   "source": [
    "#### GeoJSONDataSource\n",
    "\n",
    "To process data with geo information, Bokeh includes the GeoJSONDataSource. The\n",
    "GeoJSONDataSource works similarly to the [ColumnDataSource](06_data_sources.ipynb).\n",
    "\n",
    "You can use [GeoJSON](https://geojson.org/) data such as points, lines, and polygons\n",
    "(called Patches in Bokeh) together with other data from a ColumnDataSource.\n",
    "\n"
   ]
  },
  {
   "cell_type": "markdown",
   "metadata": {},
   "source": [
    "To demonstrate this, let's create a small GeoJSON. It contains the location of the UN\n",
    "headquarters as a single point (40.749444, -73.968056, according to [Wikipedia](https://geohack.toolforge.org/geohack.php?pagename=Headquarters_of_the_United_Nations&params=40_44_58_N_73_58_5_W_type:landmark)):"
   ]
  },
  {
   "cell_type": "code",
   "execution_count": null,
   "metadata": {},
   "outputs": [],
   "source": [
    "from shapely.geometry import Point\n",
    "from pyproj import CRS, Transformer\n",
    "import geojson\n",
    "\n",
    "# Create a Point geometry for the UN headquarters (located at 40.748817, -73.968285)\n",
    "un_location = Point(-73.968285, 40.748817)\n",
    "\n",
    "# Create a GeoJSON feature using the Point geometry\n",
    "un_feature = geojson.Feature(geometry=un_location, properties={\"name\": \"United Nations headquarters\"})\n",
    "\n",
    "# Create a GeoJSON FeatureCollection containing the feature\n",
    "un_feature_collection = geojson.FeatureCollection([un_feature])\n",
    "\n",
    "# Print the FeatureCollection as GeoJSON string\n",
    "geojson.dumps(un_feature_collection)"
   ]
  },
  {
   "cell_type": "markdown",
   "metadata": {},
   "source": [
    "Bokeh uses the Web Mercator projection for map plots. Therefore, you need to convert\n",
    "the GeoJSON to the Web Mercator projection. This example uses geopandas\n",
    "to do this:"
   ]
  },
  {
   "cell_type": "code",
   "execution_count": null,
   "metadata": {},
   "outputs": [],
   "source": [
    "import geopandas as gpd\n",
    "\n",
    "gdf = gpd.GeoDataFrame.from_features(un_feature_collection, crs=\"EPSG:4326\")\n",
    "un_web_mercator = gdf.to_crs(epsg=3857).to_json()\n",
    "un_web_mercator"
   ]
  },
  {
   "cell_type": "markdown",
   "metadata": {},
   "source": [
    "Now, we can use the GeoJSON to create a GeoJSONDataSource:"
   ]
  },
  {
   "cell_type": "code",
   "execution_count": null,
   "metadata": {},
   "outputs": [],
   "source": [
    "from bokeh.models import GeoJSONDataSource\n",
    "\n",
    "geo_source = GeoJSONDataSource(geojson=un_web_mercator)"
   ]
  },
  {
   "cell_type": "markdown",
   "metadata": {},
   "source": [
    "When converting the GeoJSON to a GeoJSONDataSource, Bokeh automatically detects the\n",
    "geometry. The GeoJSONDataSource contains two special columns:\n",
    "\n",
    "* `x` and `y` for points\n",
    "* `xs` and `ys` for lines and polygons\n",
    "\n",
    "Bokeh creates those columns for you, based on the GeoJSON geometry.\n",
    "\n",
    "You can use the GeoJSONDataSource to draw the point on a plot. This works just like\n",
    "drawing glyphs from a ColumnDataSource:"
   ]
  },
  {
   "cell_type": "code",
   "execution_count": null,
   "metadata": {},
   "outputs": [],
   "source": [
    "# set up a figure covering North America\n",
    "p = figure(\n",
    "    x_range=(-14000000, -6000000),  # x range bounds supplied in Web Mercator coordinates\n",
    "    y_range=(2000000, 4000000),  # y range bounds supplied in Web Mercator coordinates\n",
    "    x_axis_type=\"mercator\",  # set the x-axis to use Web Mercator coordinates\n",
    "    y_axis_type=\"mercator\",  # set the y-axis to use Web Mercator coordinates\n",
    "    tools=\"pan, wheel_zoom, reset\",  # configure the toolbar for zooming and panning\n",
    "    active_scroll=\"wheel_zoom\",\n",
    ")\n",
    "\n",
    "# add a circle glyph to represent the UN headquarters\n",
    "p.scatter(\n",
    "    x=\"x\",  # use the \"x\" column from the GeoJSONDataSource\n",
    "    y=\"y\",  # use the \"y\" column from the GeoJSONDataSource\n",
    "    fill_color=\"#5B92E5\",\n",
    "    line_color=\"white\",\n",
    "    size=25,\n",
    "    fill_alpha=0.8,\n",
    "    source=geo_source,  # use the GeoJSONDataSource as the source\n",
    ")\n",
    "\n",
    "# add a tile source for the base map\n",
    "p.add_tile(\"Esri World Imagery\", retina=True)\n",
    "\n",
    "show(p)"
   ]
  },
  {
   "cell_type": "markdown",
   "metadata": {},
   "source": [
    "Use the pan and wheel zoom tools to navigate around the map. You can see where\n",
    "exactly the UN headquarters is located!"
   ]
  },
  {
   "cell_type": "markdown",
   "metadata": {},
   "source": [
    "#### GeoJSON map example\n",
    "\n",
    "One of the plots in the demo dashboard is a map of the US states. This map visualizes\n",
    "the number of routes that originate in each state.\n",
    "\n",
    "The map visualization consists only of polygons and does not use a tile provider.\n",
    "\n",
    "This map visualization uses two data sets:\n",
    "1. A GeoJSON file with the shapes of all US states. Alaska and Hawaii are moved from\n",
    "their actual location to make visualization easier:"
   ]
  },
  {
   "cell_type": "code",
   "execution_count": null,
   "metadata": {},
   "outputs": [],
   "source": [
    "states_gdf = gpd.read_file(\"../data/us-states.geojson\")\n",
    "states_gdf.plot()  # use geopandas to plot the state shapes"
   ]
  },
  {
   "cell_type": "markdown",
   "metadata": {},
   "source": [
    "2. A pandas DataFrame with the number of routes beginning and ending in each state:"
   ]
  },
  {
   "cell_type": "code",
   "execution_count": null,
   "metadata": {},
   "outputs": [],
   "source": [
    "# read the pre-processed data frame from the demo data set\n",
    "data.get_states_routes_df().head(2)"
   ]
  },
  {
   "cell_type": "markdown",
   "metadata": {},
   "source": [
    "To create the basis for the GeoJSONDataSource in this example, first join the state\n",
    "shapes with the number of routes:"
   ]
  },
  {
   "cell_type": "code",
   "execution_count": null,
   "metadata": {},
   "outputs": [],
   "source": [
    "states_gdf = states_gdf.join(data.get_states_routes_df(), on=states_gdf[\"Name\"])\n",
    "states_gdf.head(2)"
   ]
  },
  {
   "cell_type": "markdown",
   "metadata": {},
   "source": [
    "The next code cell contains the code to create this visualization.\n",
    "\n",
    "You'll recognize several elements from the previous chapters. For example:\n",
    "* Tooltips\n",
    "* Configuring plot tools\n",
    "* Configuring visual elements of the plot\n",
    "* Using a ColorMapper to map values to colors from a palette\n",
    "* Adding a color bar as a visual guide"
   ]
  },
  {
   "cell_type": "code",
   "execution_count": null,
   "metadata": {},
   "outputs": [],
   "source": [
    "import geopandas as gpd\n",
    "\n",
    "from bokeh.plotting import figure, show\n",
    "from bokeh.models import GeoJSONDataSource, NumeralTickFormatter\n",
    "from bokeh.palettes import Cividis\n",
    "from bokeh.transform import linear_cmap\n",
    "\n",
    "# read the GeoJSON file containing the state shapes\n",
    "states_gdf = gpd.read_file(\"../data/us-states.geojson\")\n",
    "# read the pre-processed data frame from the demo data set and join it to the state shapes\n",
    "states_gdf = states_gdf.join(data.get_states_routes_df(), on=states_gdf[\"Name\"])\n",
    "# create the GeoJSONDataSource\n",
    "geo_source = GeoJSONDataSource(geojson=states_gdf.to_json())\n",
    "\n",
    "# set up the tooltips\n",
    "TOOLTIPS = [\n",
    "    (\"State\", \"@Name\"),\n",
    "    (\"# of routes departing from here\", \"@origin{(0,0)}\"),\n",
    "]\n",
    "\n",
    "# set up the figure\n",
    "map_plot = figure(\n",
    "    height=200,  # set a width and height to define the aspect ratio\n",
    "    width=300,\n",
    "    sizing_mode=\"scale_width\",\n",
    "    tooltips=TOOLTIPS,\n",
    "    title=\"Number of routes with a state as its origin (all domestic carriers)\",\n",
    "    x_axis_location=None,  # deactivate x-axis\n",
    "    y_axis_location=None,  # deactivate y-axis\n",
    "    toolbar_location=None,  # deactivate toolbar\n",
    ")\n",
    "map_plot.grid.grid_line_color = None  # make grid lines invisible\n",
    "\n",
    "# draw the state polygons\n",
    "us = map_plot.patches(  # use the patches method to draw the polygons of all states\n",
    "    xs=\"xs\",\n",
    "    ys=\"ys\",\n",
    "    fill_color=linear_cmap(field_name=\"origin\", palette=Cividis[256], low=states_gdf[\"origin\"].min(), high=states_gdf[\"origin\"].max()),  # color the states by mapping the number of routes to color values from a palette\n",
    "    source=geo_source,\n",
    "    line_color=\"darkgrey\",\n",
    "    line_width=1,\n",
    ")\n",
    "\n",
    "# add color bar\n",
    "color_bar = us.construct_color_bar(formatter=NumeralTickFormatter(format=\"0,0\"), height=10)\n",
    "map_plot.add_layout(obj=color_bar, place=\"below\")\n",
    "\n",
    "show(map_plot)"
   ]
  },
  {
   "cell_type": "markdown",
   "metadata": {},
   "source": [
    "### Wedge plots\n",
    "\n",
    "You can use Bokeh's ``wedge`` glyph method to create donut and pie charts.\n",
    "\n",
    "#### Pie charts\n",
    "\n",
    "Let's create a pie chart representing the shares of pizza toppings ordered at a pizza\n",
    "place in one day\n",
    "\n",
    "First, create a DataFrame with the number of orders for each topping:"
   ]
  },
  {
   "cell_type": "code",
   "execution_count": null,
   "metadata": {},
   "outputs": [],
   "source": [
    "import pandas as pd\n",
    "\n",
    "pizza_df = pd.DataFrame(\n",
    "    {\n",
    "        \"topping\": [\"Pepperoni\", \"Cheese\", \"Mixed Veggies\", \"Bacon\"],  # the four available toppings\n",
    "        \"orders\": [221, 212, 152, 72],  # the number of orders for each topping\n",
    "        \"color\": [\"red\", \"darkorange\", \"darkgreen\", \"hotpink\"],  # define colors for each topping\n",
    "    }\n",
    ")\n",
    "pizza_df"
   ]
  },
  {
   "cell_type": "markdown",
   "metadata": {},
   "source": [
    "Next, calculate the angle for each wedge (in radians):"
   ]
  },
  {
   "cell_type": "code",
   "execution_count": null,
   "metadata": {},
   "outputs": [],
   "source": [
    "from math import pi\n",
    "\n",
    "pizza_df[\"angle\"] = pizza_df[\"orders\"] / pizza_df[\"orders\"].sum() * 2 * pi\n",
    "pizza_df"
   ]
  },
  {
   "cell_type": "markdown",
   "metadata": {},
   "source": [
    "Then, convert the DataFrame to a ColumnDataSource and visualize the data:"
   ]
  },
  {
   "cell_type": "code",
   "execution_count": null,
   "metadata": {},
   "outputs": [],
   "source": [
    "from bokeh.models import ColumnDataSource\n",
    "from bokeh.transform import cumsum\n",
    "\n",
    "pizza_data = ColumnDataSource(pizza_df)  # create a ColumnDataSource from the DataFrame\n",
    "\n",
    "# set up the figure\n",
    "pizza_plot = figure(\n",
    "    height=350,\n",
    "    toolbar_location=None,  # deactivate the toolbar\n",
    "    tooltips=\"@topping: @orders orders\",  # configure tooltips to use the \"topping\" and \"orders\" columns\n",
    "    x_range=(-0.5, 1.0),\n",
    "    background_fill_color=\"#1d1d1d\",  # set the background color to a dark gray\n",
    ")\n",
    "\n",
    "# define the pie chart\n",
    "pizza_plot.wedge(\n",
    "    x=0,  # x coordinate of the center of the pie chart\n",
    "    y=1,  # y coordinate of the center of the pie chart\n",
    "    radius=0.4,  # radius of the pie chart\n",
    "    start_angle=cumsum(\"angle\", include_zero=True),\n",
    "    end_angle=cumsum(\"angle\"),\n",
    "    line_color=\"#94541e\",  # approximate the color of a pizza crust\n",
    "    line_width=6,\n",
    "    fill_color=\"color\",  # color each wedge based on the \"color\" column\n",
    "    legend_field=\"topping\",  # use the \"topping\" column as legend entries\n",
    "    source=pizza_data,  # use the ColumnDataSource as the source\n",
    ")\n",
    "pizza_plot.axis.visible = False  # deactivate the axes\n",
    "pizza_plot.grid.grid_line_color = None  # deactivate the grid lines\n",
    "pizza_plot.legend.background_fill_alpha = 0  # make the legend background transparent\n",
    "\n",
    "show(pizza_plot)"
   ]
  },
  {
   "cell_type": "markdown",
   "metadata": {},
   "source": [
    "For more information on pie charts, see [Pie chart](https://docs.bokeh.org/en/latest/docs/user_guide/topics/pie.html#pie-chart)\n",
    "in the user guide."
   ]
  },
  {
   "cell_type": "markdown",
   "metadata": {},
   "source": [
    "#### Donut charts\n",
    "\n",
    "Donut charts are like pie charts but with a hole in the middle. They work very similarly\n",
    "to pie charts. The only difference is that they use the `annularwedge` method instead of\n",
    "the `wedge` method.\n",
    "\n",
    "The following example is similar to the pie chart above. It uses different donut\n",
    "flavors instead of pizza toppings:"
   ]
  },
  {
   "cell_type": "code",
   "execution_count": null,
   "metadata": {},
   "outputs": [],
   "source": [
    "import pandas as pd\n",
    "from math import pi\n",
    "from bokeh.io import curdoc\n",
    "\n",
    "donut_df = pd.DataFrame(\n",
    "    {\n",
    "        \"topping\": [\"Chocolate frosting\", \"Powdered sugar\", \"Strawberry frosting\", \"Purple glaze\"],  # the four available toppings\n",
    "        \"orders\": [723, 631, 592, 319],  # the number of orders for each topping\n",
    "        \"color\": [\"saddlebrown\", \"cornsilk\", \"crimson\", \"purple\"],  # define colors for each topping\n",
    "    }\n",
    ")\n",
    "\n",
    "donut_df[\"angle\"] = donut_df[\"orders\"] / donut_df[\"orders\"].sum() * 2 * pi\n",
    "\n",
    "from bokeh.models import ColumnDataSource\n",
    "from bokeh.transform import cumsum\n",
    "\n",
    "donut_data = ColumnDataSource(donut_df)  # create a ColumnDataSource from the DataFrame\n",
    "\n",
    "# set up the figure\n",
    "donut_plot = figure(\n",
    "    height=350,\n",
    "    toolbar_location=None,  # deactivate the toolbar\n",
    "    tooltips=\"@topping: @orders orders\",  # configure tooltips to use the \"topping\" and \"orders\" columns\n",
    "    x_range=(-0.5, 1.0),\n",
    "    background_fill_color=\"#1d1d1d\",  # set the background color to a dark gray\n",
    ")\n",
    "\n",
    "# define the donut chart\n",
    "donut_plot.annular_wedge(\n",
    "    x=0,  # x coordinate of the center of the donut chart\n",
    "    y=1,  # y coordinate of the center of the donut chart\n",
    "    outer_radius=0.4,  # outer radius of the donut chart\n",
    "    inner_radius=0.2,  # inner radius of the donut chart\n",
    "    start_angle=cumsum(\"angle\", include_zero=True),\n",
    "    end_angle=cumsum(\"angle\"),\n",
    "    line_color=\"#e89045\",\n",
    "    line_width=6,\n",
    "    fill_color=\"color\",  # color each annular wedge based on the \"color\" column\n",
    "    legend_field=\"topping\",  # use the \"topping\" column as legend entries\n",
    "    source=donut_data,  # use the ColumnDataSource as the source\n",
    ")\n",
    "donut_plot.axis.visible = False  # deactivate the axes\n",
    "donut_plot.grid.grid_line_color = None  # deactivate the grid lines\n",
    "donut_plot.legend.background_fill_alpha = 0  # make the legend background transparent\n",
    "\n",
    "show(donut_plot)"
   ]
  },
  {
   "cell_type": "markdown",
   "metadata": {},
   "source": [
    "For more information on donut charts, see [Donut chart](https://docs.bokeh.org/en/latest/docs/user_guide/topics/pie.html#donut-chart)\n",
    "in the user guide."
   ]
  },
  {
   "cell_type": "markdown",
   "metadata": {},
   "source": [
    "#### Donut chart example\n",
    "\n",
    "One of the plots in the demo dashboard is a donut chart. This chart visualizes the top\n",
    "10 carriers by passengers, freight, or mail.\n",
    "\n",
    "You will learn how to build the tabs for switching between passengers, freight, and\n",
    "mail in a later chapter. For now, let's focus on building a donut chart displaying\n",
    "the top ten domestic carriers by passengers."
   ]
  },
  {
   "cell_type": "markdown",
   "metadata": {},
   "source": [
    "First, create a DataFrame with the top carriers by number of passengers. This data is\n",
    "part of the pre-processed demo data set:"
   ]
  },
  {
   "cell_type": "code",
   "execution_count": null,
   "metadata": {},
   "outputs": [],
   "source": [
    "carrier_df = data.get_top_carriers_by_metrics(\"passengers\")\n",
    "carrier_df.head()"
   ]
  },
  {
   "cell_type": "markdown",
   "metadata": {},
   "source": [
    "This DataFrame contains the carrier names and the number of passengers. For convenience,\n",
    "it also contains pre-computed angles and colors for each of the wedges.\n",
    "\n",
    "The following code cell contains the code to create the donut chart:"
   ]
  },
  {
   "cell_type": "code",
   "execution_count": null,
   "metadata": {},
   "outputs": [],
   "source": [
    "from bokeh.plotting import figure, show\n",
    "from bokeh.transform import cumsum\n",
    "\n",
    "# configure tooltips\n",
    "TOOLTIPS = [\n",
    "    (\"Carrier\", \"@unique_carrier_name\"),\n",
    "    (\"Passengers\", \"@passengers{(0,0)}\"),\n",
    "]\n",
    "\n",
    "# create a ColumnDataSource from the DataFrame\n",
    "passengers_data = ColumnDataSource(carrier_df)\n",
    "\n",
    "# set up the figure\n",
    "annular_plot = figure(\n",
    "    height=350,\n",
    "    toolbar_location=None,\n",
    "    outline_line_color=None,\n",
    "    name=\"region\",\n",
    "    x_range=(-0.66, 1),\n",
    "    title=\"Top ten carriers by passengers (domestic)\",\n",
    "    tooltips=TOOLTIPS,\n",
    ")\n",
    "\n",
    "# define the annular chart\n",
    "annular_plot.annular_wedge(\n",
    "    x=0,\n",
    "    y=1,\n",
    "    inner_radius=0.2,\n",
    "    outer_radius=0.4,\n",
    "    start_angle=cumsum(\"angle\", include_zero=True),\n",
    "    end_angle=cumsum(\"angle\"),\n",
    "    line_color=\"white\",\n",
    "    fill_color=\"color\",\n",
    "    legend_field=\"unique_carrier_name\",\n",
    "    source=passengers_data,\n",
    ")\n",
    "\n",
    "annular_plot.axis.visible = False\n",
    "annular_plot.grid.grid_line_color = None\n",
    "\n",
    "show(annular_plot)"
   ]
  },
  {
   "cell_type": "markdown",
   "metadata": {},
   "source": [
    "# Next section\n",
    "\n",
    "<a href=\"10_layouts.ipynb\" target=\"_blank\">\n",
    "    <img src=\"assets/arrow.svg\" alt=\"Next section\" width=\"100\" align=\"right\">\n",
    "</a>\n",
    "\n",
    "In the [next chapter](10_layouts.ipynb), you'll learn how to combine multiple plots\n",
    "into layouts."
   ]
  }
 ],
 "metadata": {
  "kernelspec": {
   "display_name": "Python 3 (ipykernel)",
   "language": "python",
   "name": "python3"
  },
  "language_info": {
   "codemirror_mode": {
    "name": "ipython",
    "version": 3
   },
   "file_extension": ".py",
   "mimetype": "text/x-python",
   "name": "python",
   "nbconvert_exporter": "python",
   "pygments_lexer": "ipython3",
   "version": "3.12.0"
  }
 },
 "nbformat": 4,
 "nbformat_minor": 4
}
