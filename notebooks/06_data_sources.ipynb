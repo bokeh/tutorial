{
 "cells": [
  {
   "cell_type": "markdown",
   "metadata": {},
   "source": [
    "<table style=\"float:left; border:none\">\n",
    "   <tr style=\"border:none\">\n",
    "       <td style=\"border:none\">\n",
    "           <a href=\"https://bokeh.org/\" target=\"_blank\">\n",
    "           <img\n",
    "               src=\"assets/bokeh-transparent.png\"\n",
    "               style=\"width:50px\"\n",
    "           >\n",
    "           </a>\n",
    "       </td>\n",
    "       <td style=\"border:none\">\n",
    "           <h1>Bokeh Tutorial</h1>\n",
    "       </td>\n",
    "   </tr>\n",
    "</table>\n",
    "\n",
    "<div style=\"float:right;\"><a href=\"TOC.ipynb\" target=\"_blank\">Table of contents</a><br><h2>06 Data sources</h2></div>"
   ]
  },
  {
   "cell_type": "code",
   "execution_count": null,
   "metadata": {},
   "outputs": [],
   "source": [
    "# load tutorial data\n",
    "from tutorial_data import data"
   ]
  },
  {
   "cell_type": "code",
   "execution_count": null,
   "metadata": {},
   "outputs": [],
   "source": [
    "# activate notebook output\n",
    "from bokeh.io import output_notebook\n",
    "\n",
    "output_notebook()"
   ]
  },
  {
   "cell_type": "markdown",
   "metadata": {},
   "source": [
    "This chapter is focused on how Bokeh handles data. The concepts introduced here are\n",
    "fundamental to Bokeh. You will use them throughout the rest of the tutorial.\n",
    "\n",
    "In the previous examples, you have used standard Python lists or Pandas DataFrames as\n",
    "inputs for your data.\n",
    "\n",
    "Behind the scenes, Bokeh converts all these inputs to a Bokeh **ColumnDataSource**.\n",
    "This is **Bokeh's primary internal data structure**. It is used in almost all plots\n",
    "(with the exception of [map plots](#Map-plots)).\n",
    "\n",
    "In most cases, Bokeh can just handle the ColumnDataSource automatically. However,\n",
    "there are many cases where it is useful to create and use a ColumnDataSource\n",
    "directly. Several of Bokeh's more advanced functionalities rely on using\n",
    "a ColumnDataSource. This includes hover tooltips, automatically placed labels,\n",
    "computed transforms, or custom interactions, for example."
   ]
  },
  {
   "cell_type": "markdown",
   "metadata": {},
   "source": [
    "### Creating a ColumnDataSource from a dictionary\n",
    "\n",
    "The first step to creating a `ColumnDataSource` is to import it from `bokeh.models`:"
   ]
  },
  {
   "cell_type": "code",
   "execution_count": null,
   "metadata": {},
   "outputs": [],
   "source": [
    "from bokeh.models import ColumnDataSource"
   ]
  },
  {
   "cell_type": "markdown",
   "metadata": {},
   "source": [
    "A ColumnDataSource works similarly to a table or a pandas DataFrame. It is a mapping of\n",
    "column names to sequences of values.\n",
    "\n",
    "You can create a ColumnDataSource from Python dictionaries. The keys of the dictionary\n",
    "are the column names, and the values of the dictionary are the sequences of values:"
   ]
  },
  {
   "cell_type": "code",
   "execution_count": null,
   "metadata": {},
   "outputs": [],
   "source": [
    "source = ColumnDataSource(\n",
    "    data={\n",
    "        \"x\": [1, 2, 3, 4, 5],  # first dictionary creates a column named \"x\"\n",
    "        \"y\": [3, 7, 8, 5, 1],  # second dictionary creates a column named \"y\"\n",
    "    }\n",
    ")"
   ]
  },
  {
   "cell_type": "markdown",
   "metadata": {},
   "source": [
    "To access the contents of any column, use the `data` property of a `ColumnDataSource`:"
   ]
  },
  {
   "cell_type": "code",
   "execution_count": null,
   "metadata": {},
   "outputs": [],
   "source": [
    "source.data[\"x\"]"
   ]
  },
  {
   "cell_type": "markdown",
   "metadata": {},
   "source": [
    "The data you provide here is not limited to lists. You can also use NumPy arrays or \n",
    "pandas Series:"
   ]
  },
  {
   "cell_type": "code",
   "execution_count": null,
   "metadata": {},
   "outputs": [],
   "source": [
    "import numpy as np\n",
    "\n",
    "# load pandas series frame from demo data set\n",
    "monthly_passengers_series = data.get_monthly_values()[\"passengers\"]\n",
    "\n",
    "# create NumPy array of same length as the pandas series\n",
    "range_array = np.array(range(0, len(monthly_passengers_series), 1))\n",
    "\n",
    "# create a ColumnDataSource from pandas series and NumPy array\n",
    "source = ColumnDataSource(\n",
    "    data={\n",
    "        \"x\": monthly_passengers_series,  # first dictionary uses a pandas Series\n",
    "        \"y\": range_array,  # second dictionary uses a NumPy array\n",
    "    }\n",
    ")\n",
    "\n",
    "print(f\"pandas Series: \\n {source.data['x']}\")\n",
    "print(f\"NumPy Array: \\n {source.data['y']}\")"
   ]
  },
  {
   "cell_type": "markdown",
   "metadata": {},
   "source": [
    "**All the columns in a ColumnDataSource must always be the SAME length**. This is why\n",
    "the NumPy array in the example above uses `len(monthly_passengers_series)`. This way,\n",
    "the NumPy array is the same length as the pandas Series used for the other column.\n",
    "\n",
    "The following code cell will show an error. Adjust one of the lists to create a valid\n",
    "ColumnDataSource:"
   ]
  },
  {
   "cell_type": "code",
   "execution_count": null,
   "metadata": {},
   "outputs": [],
   "source": [
    "# 🔁 Adjust one of the lists so that both lists have the same amount of elements\n",
    "source = ColumnDataSource(\n",
    "    data={\n",
    "        \"x\": [1, 2, 3, 4],  # first list contains 4 elements\n",
    "        \"y\": [3, 7, 8, 5, 1],  # ⚠ second list contains 5 elements - this will throw an error\n",
    "    }\n",
    ")"
   ]
  },
  {
   "cell_type": "markdown",
   "metadata": {},
   "source": [
    "In the examples so far, you have used a Python list or pandas series for the `x` and `y`\n",
    "values of functions like `p.scatter`. This means that Bokeh has created the\n",
    "ColumnDataSource for you automatically.\n",
    "\n",
    "However, instead of passing individual sequences of values to a renderer, you can also\n",
    "use a ColumnDataSource directly. To use a ColumnDataSource directly, you do two things\n",
    "differently:\n",
    "\n",
    "1. You pass the ColumnDataSource as the `source` argument to a glyph method.\n",
    "2. To use values from the column of a ColumnDataSource, you pass the **name** of that\n",
    "    column as the value for the property. For example, instead of passing `x=[1 ,2 ,3]`,\n",
    "    you pass `x=\"x_values\"`.\n",
    "\n",
    "In the following code cell, you first create a ColumnDataSource from two lists in a\n",
    "dictionary.\n",
    "Then you use those two columns as the `x` and `y` values for a circle glyph:"
   ]
  },
  {
   "cell_type": "code",
   "execution_count": null,
   "metadata": {},
   "outputs": [],
   "source": [
    "from bokeh.plotting import figure, show\n",
    "from bokeh.models import ColumnDataSource\n",
    "\n",
    "# create dict as basis for ColumnDataSource\n",
    "data_dict = {\"x_values\": [1, 2, 3, 4, 5], \"y_values\": [6, 7, 2, 3, 6]}\n",
    "\n",
    "# create ColumnDataSource based on the dict\n",
    "source = ColumnDataSource(data=data_dict)\n",
    "\n",
    "# create a plot and renderer with ColumnDataSource data\n",
    "p = figure(height=300)\n",
    "p.scatter(\n",
    "    x=\"x_values\",  # use the sequence in the \"x_values\" column\n",
    "    y=\"y_values\",  # use the sequence in the \"y_values\" column\n",
    "    source=source,  # use the ColumnDataSource as the data source\n",
    ")\n",
    "\n",
    "show(p)"
   ]
  },
  {
   "cell_type": "markdown",
   "metadata": {},
   "source": [
    "### Creating a ColumnDataSource from a DataFrame\n",
    "\n",
    "There are many similarities between a ColumnDataSource and a pandas DataFrame.\n",
    "This is why it is simple to create a `ColumnDataSource` object directly from a\n",
    "DataFrame.\n",
    "\n",
    "Let's use the monthly passenger, freight, and mail data from the demo dataset again:"
   ]
  },
  {
   "cell_type": "code",
   "execution_count": null,
   "metadata": {},
   "outputs": [],
   "source": [
    "monthly_values_df = data.get_monthly_values()\n",
    "monthly_values_df.head(5)"
   ]
  },
  {
   "cell_type": "markdown",
   "metadata": {},
   "source": [
    "To create a ColumnDataSource from a DataFrame, pass the dataframe when creating the\n",
    "`ColumnDataSource` object:"
   ]
  },
  {
   "cell_type": "code",
   "execution_count": null,
   "metadata": {},
   "outputs": [],
   "source": [
    "source = ColumnDataSource(monthly_values_df)"
   ]
  },
  {
   "cell_type": "markdown",
   "metadata": {},
   "source": [
    "You now have a ColumnDataSource with the same columns as the DataFrame:\n",
    "- a series of values in a column called `\"passengers\"`\n",
    "- a series of values in a column called `\"freight\"`\n",
    "- a series of values in a column called `\"mail\"`\n",
    "- a series of strings in a column called `\"month_names\"`\n",
    "\n",
    "You can use the ColumnDataSource in the same way as before:"
   ]
  },
  {
   "cell_type": "code",
   "execution_count": null,
   "metadata": {},
   "outputs": [],
   "source": [
    "from bokeh.plotting import figure, show\n",
    "from bokeh.models import ColumnDataSource\n",
    "\n",
    "# create ColumnDataSource based on DataFrame from the demo data set\n",
    "source = ColumnDataSource(monthly_values_df)\n",
    "\n",
    "# set up the figure\n",
    "p = figure(\n",
    "    height=300,\n",
    "    x_range=source.data[\"month_name\"],  # use the sequence of strings from the \"month_name\" column as categories\n",
    ")\n",
    "\n",
    "# create a line renderer with data from the \"freight\" column\n",
    "p.vbar(\n",
    "    x=\"month_name\",  # use the sequence of strings from the \"month_name\" column as categories\n",
    "    top=\"freight\",  # use the sequence of values from the \"freight\" column as values\n",
    "    width=0.9,\n",
    "    source=source,\n",
    ")\n",
    "\n",
    "# create a second line renderer with data from a different column\n",
    "p.vbar(\n",
    "    x=\"month_name\",  # use the sequence of strings from the \"month_name\" column as categories\n",
    "    top=\"passengers\",  # use the sequence of values from the \"passengers\" column as values\n",
    "    # top=\"mail\",       # 🔁 use this line instead of the one above to use data from the \"mail\" column\n",
    "    width=0.9,\n",
    "    color=\"tomato\",\n",
    "    source=source,\n",
    ")\n",
    "\n",
    "show(p)"
   ]
  },
  {
   "cell_type": "markdown",
   "metadata": {},
   "source": [
    "For more information about the ColumnDataSource, see [Data sources](https://docs.bokeh.org/en/latest/docs/user_guide/basic/data.html)\n",
    "in the user guide."
   ]
  },
  {
   "cell_type": "markdown",
   "metadata": {},
   "source": [
    "### ColumnDataSource transforms\n",
    "\n",
    "Using ColumnDataSource objects also allows you to use Bokeh's built-in transforms.\n",
    "Transforms are useful for performing computations on the data before the data is\n",
    "displayed.\n",
    "These transforms are performed by BokehJS, in the browser.\n",
    "This means the underlying data is not modified and is always available for other plots\n",
    "in the same document.\n",
    "\n",
    "All transforms need to be imported from `bokeh.transform`."
   ]
  },
  {
   "cell_type": "markdown",
   "metadata": {},
   "source": [
    "#### The cumsum transform\n",
    "\n",
    "The `cumsum` transform generates a new sequence of values from a ColumnDataSource\n",
    "column. This new column **cumulatively sums the values in the original column**.\n",
    "\n",
    "For example:"
   ]
  },
  {
   "cell_type": "code",
   "execution_count": null,
   "metadata": {},
   "outputs": [],
   "source": [
    "from bokeh.transform import cumsum\n",
    "\n",
    "# create ColumnDataSource based on DataFrame from the demo data set\n",
    "source = ColumnDataSource(monthly_values_df)\n",
    "\n",
    "# set up the figure\n",
    "p = figure(\n",
    "    height=300,\n",
    "    x_range=source.data[\"month_name\"],\n",
    ")\n",
    "\n",
    "# create a bar chart with cumulative data from the \"mail\" column\n",
    "p.vbar(\n",
    "    x=\"month_name\",\n",
    "    top=cumsum(\"passengers\", include_zero=True),  # use the cumulative sums of the \"passengers\" column as values\n",
    "    width=0.9,\n",
    "    source=source,\n",
    ")\n",
    "\n",
    "\n",
    "show(p)"
   ]
  },
  {
   "cell_type": "markdown",
   "metadata": {},
   "source": [
    "#### The linear_cmap transform\n",
    "\n",
    "The ``linear_cmap`` transform generates a new sequence of colors by **applying a linear\n",
    "color map** to a ColumnDataSource column.\n",
    "\n",
    "See [05 Styling plots](05_styling.ipynb#Color-mappers-and-palettes) for more information\n",
    "about color mappers."
   ]
  },
  {
   "cell_type": "code",
   "execution_count": null,
   "metadata": {},
   "outputs": [],
   "source": [
    "import numpy as np\n",
    "from bokeh.transform import linear_cmap\n",
    "\n",
    "# create random values for x, y and radius\n",
    "N = 2000\n",
    "source = dict(\n",
    "    x=np.random.random(size=N) * 100,\n",
    "    y=np.random.random(size=N) * 100,\n",
    "    r=np.random.random(size=N) * 1.5,\n",
    ")\n",
    "\n",
    "p = figure(height=300)\n",
    "\n",
    "p.scatter(\n",
    "    x=\"x\",\n",
    "    y=\"y\",\n",
    "    radius=\"r\",\n",
    "    source=source,\n",
    "    fill_alpha=0.6,\n",
    "    color=linear_cmap(\"x\", \"Viridis256\", 0, 100),  # use a color map based on the \"x\" column using the Viridis256 palette\n",
    ")\n",
    "\n",
    "show(p)"
   ]
  },
  {
   "cell_type": "markdown",
   "metadata": {},
   "source": [
    "To learn more about color mapping with transforms, see\n",
    "[Client-side color mapping](https://docs.bokeh.org/en/latest/docs/user_guide/basic/data.html#client-side-color-mapping)\n",
    "in the user guide.\n",
    "\n",
    "Bokeh contains several other transforms. See\n",
    "[Transforming data](https://docs.bokeh.org/en/latest/docs/user_guide/basic/data.html#transforming-data)\n",
    "in the user guide for more examples. The\n",
    "[entry for bokeh.transform](https://docs.bokeh.org/en/latest/docs/reference/transform.html)\n",
    "in the reference guide also contains a list of all available transforms."
   ]
  },
  {
   "cell_type": "markdown",
   "metadata": {},
   "source": [
    "# Next section\n",
    "\n",
    "<a href=\"07_annotations.ipynb\" target=\"_blank\">\n",
    "    <img src=\"assets/arrow.svg\" alt=\"Next section\" width=\"100\" align=\"right\">\n",
    "</a>\n",
    "\n",
    "In the [next chapter](07_annotations.ipynb), you'll learn how to use annotations to\n",
    "provide additional information in your plots."
   ]
  }
 ],
 "metadata": {
  "kernelspec": {
   "display_name": "Python 3 (ipykernel)",
   "language": "python",
   "name": "python3"
  },
  "language_info": {
   "codemirror_mode": {
    "name": "ipython",
    "version": 3
   },
   "file_extension": ".py",
   "mimetype": "text/x-python",
   "name": "python",
   "nbconvert_exporter": "python",
   "pygments_lexer": "ipython3",
   "version": "3.12.0"
  },
  "vscode": {
   "interpreter": {
    "hash": "0494a81e5f69860dcb844ce8e12eb9c88a7e813ddbfb0fbade72137f5ce45437"
   }
  }
 },
 "nbformat": 4,
 "nbformat_minor": 4
}
