{
 "cells": [
  {
   "cell_type": "markdown",
   "metadata": {},
   "source": [
    "<table style=\"float:left; border:none\">\n",
    "   <tr style=\"border:none\">\n",
    "       <td style=\"border:none\">\n",
    "           <a href=\"https://bokeh.org/\" target=\"_blank\">\n",
    "           <img\n",
    "               src=\"assets/bokeh-transparent.png\"\n",
    "               style=\"width:50px\"\n",
    "           >\n",
    "           </a>\n",
    "       </td>\n",
    "       <td style=\"border:none\">\n",
    "           <h1>Bokeh Tutorial</h1>\n",
    "       </td>\n",
    "   </tr>\n",
    "</table>\n",
    "\n",
    "<div style=\"float:right;\"><a href=\"TOC.ipynb\" target=\"_blank\">Table of contents</a><br><h2>10 Layouts</h2></div>"
   ]
  },
  {
   "cell_type": "code",
   "execution_count": null,
   "metadata": {},
   "outputs": [],
   "source": [
    "# load tutorial data\n",
    "from tutorial_data import data"
   ]
  },
  {
   "cell_type": "code",
   "execution_count": null,
   "metadata": {},
   "outputs": [],
   "source": [
    "# activate notebook output\n",
    "from bokeh.io import output_notebook\n",
    "\n",
    "output_notebook()"
   ]
  },
  {
   "cell_type": "markdown",
   "metadata": {},
   "source": [
    "In this chapter, you'll learn about creating layouts. Layouts are a way to **combine\n",
    "multiple Bokeh plots and widgets into a single document**.\n",
    "\n",
    "You'll learn how to automatically scale and stretch plots. You'll then learn how to\n",
    "create responsive layouts using the `column` and `row` functions. And learn how to\n",
    "create a tabbed layout using the `Panel` and `Tabs` classes."
   ]
  },
  {
   "cell_type": "markdown",
   "metadata": {},
   "source": [
    "### Sizing modes\n",
    "\n",
    "In order to combine plots into layouts, it is important to understand Bokeh's sizing\n",
    "modes. Sizing modes are a way to control how Bokeh plots and widgets are sized and\n",
    "stretched. There are three basic sizing modes:\n",
    "\n",
    "* **fixed mode**: The plot or widget has a fixed size. The size is determined by the\n",
    "  `width` and `height` properties and does not change.\n",
    "* **stretch mode**: The plot or widget stretches to fill available space\n",
    "* **scale mode**: The plot or widget scales to fill available space but maintains\n",
    "  its aspect ratio"
   ]
  },
  {
   "cell_type": "markdown",
   "metadata": {},
   "source": [
    "\n",
    "#### Fixed mode\n",
    "This is the default sizing mode. In fixed mode, the plot or widget has a fixed size.\n",
    "This fixed size is determined by the `width` and `height` properties.\n",
    "\n",
    "Use the following code cell to create a plot with a fixed size. You'll notice that\n",
    "scroll bars appear if the plot gets too wide or too tall for your screen:"
   ]
  },
  {
   "cell_type": "code",
   "execution_count": null,
   "metadata": {},
   "outputs": [],
   "source": [
    "from bokeh.plotting import figure, show\n",
    "\n",
    "# generate some values\n",
    "x = list(range(1, 50))\n",
    "y = [pow(x, 2) for x in x]\n",
    "\n",
    "# create a new plot\n",
    "p = figure(\n",
    "    height=200,  # 🔁 change the plot height to make vertical scroll bars appear\n",
    "    width=4000,  # 🔁 change the plot width to make horizontal scroll bars appear\n",
    "    sizing_mode=\"fixed\",\n",
    ")\n",
    "# add a line renderer and display the plot\n",
    "p.line(x, y)\n",
    "show(p)"
   ]
  },
  {
   "cell_type": "markdown",
   "metadata": {},
   "source": [
    "\n",
    "#### Stretch mode\n",
    "In stretch mode, the plot or widget **stretches to fill available space**.\n",
    "There are three ways in which a plot or widget can stretch:\n",
    "\n",
    "* `stretch_width`: Component resizes to fill available width but does not maintain any\n",
    "  aspect ratio. If you have defined a value for a plot's `width`, then this value will\n",
    "  be ignored. In a notebook, this stretches the plot to fill the width of the cell.\n",
    "* `stretch_height`: Component resizes to fill available height but does not maintain any\n",
    "  aspect ratio. If you have defined a value for a plot's `height`, then this value will\n",
    "  be ignored. This will not work well in a notebook because the height of the notebook\n",
    "  cell output is flexible.\n",
    "* `stretch_both`: Component resizes to fill available width and height but does not\n",
    "  maintain any aspect ratio. This will not work well in a notebook because the height of\n",
    "  the notebook cell output is flexible.\n",
    "\n",
    "Use the following code cell to try the modes. Resize your browser window to see how\n",
    "the plot changes:"
   ]
  },
  {
   "cell_type": "code",
   "execution_count": null,
   "metadata": {},
   "outputs": [],
   "source": [
    "# generate some values\n",
    "x = list(range(1, 50))\n",
    "y = [pow(x, 2) for x in x]\n",
    "\n",
    "# create a new plot\n",
    "p = figure(\n",
    "    height=300,\n",
    "    width=400,  # this value is ignored when sizing_mode is set to \"stretch_width\"\n",
    "    sizing_mode=\"stretch_width\",  # 🔁 change the plot sizing mode between \"stretch_width\" and \"fixed\" to see the difference\n",
    "    # sizing_mode=\"fixed\",\n",
    ")\n",
    "# add a line renderer and display the plot\n",
    "p.line(x, y)\n",
    "show(p)"
   ]
  },
  {
   "cell_type": "markdown",
   "metadata": {},
   "source": [
    "#### Scale mode\n",
    "\n",
    "In scale mode, the plot or widget **scales to fill available space** but **maintains its\n",
    "aspect ratio**. There are three ways in which a plot or widget can scale:\n",
    "\n",
    "* `scale_width`: Component resizes to fill available width and maintains aspect ratio.\n",
    "  In a notebook, this scales the plot to fill the width of the cell.\n",
    "* `scale_height`: Component resizes to fill available height and maintains aspect ratio.\n",
    "  This will not work well in a notebook because the height of the notebook cell output\n",
    "  is flexible.\n",
    "* `scale_both`: Component resizes to fill available width and height and maintains\n",
    "  aspect ratio. This will not work well in a notebook because the height of the notebook\n",
    "  cell output is flexible.\n",
    "\n",
    "Use the following code cell to try the different modes. Resize your browser window to\n",
    "see how the plot changes:"
   ]
  },
  {
   "cell_type": "code",
   "execution_count": null,
   "metadata": {},
   "outputs": [],
   "source": [
    "# generate some values\n",
    "x = list(range(1, 50))\n",
    "y = [pow(x, 2) for x in x]\n",
    "\n",
    "# create a new plot with a 1:4 aspect ratio\n",
    "p = figure(\n",
    "    height=100,\n",
    "    width=400,  # this value is only used to determine the aspect ratio when sizing_mode is set to \"scale_width\"\n",
    "    sizing_mode=\"scale_width\",  # 🔁 change the plot sizing mode between scale_width\", \"stretch_width\", and \"fixed\" to see the difference\n",
    "    # sizing_mode=\"\"stretch_width\"\",\n",
    "    # sizing_mode=\"fixed\",\n",
    ")\n",
    "# add a line renderer and display the plot\n",
    "p.line(x, y)\n",
    "show(p)"
   ]
  },
  {
   "cell_type": "markdown",
   "metadata": {},
   "source": [
    "For more information and an interactive example of all available sizing modes, see \n",
    "[Sizing modes](https://docs.bokeh.org/en/latest/docs/user_guide/basic/layouts.html#sizing-modes)\n",
    "in the Bokeh user guide."
   ]
  },
  {
   "cell_type": "markdown",
   "metadata": {},
   "source": [
    "### Grid and column layouts\n",
    "\n",
    "Layouts are a way to combine multiple Bokeh plots and widgets into a single document.\n",
    "\n",
    "There are three basic layout modes:\n",
    "* `column`: Plots and widgets are arranged vertically\n",
    "* `row`: Plots and widgets are arranged horizontally\n",
    "* `layout`: Plots and widgets are arranged in a grid consisting of rows and columns"
   ]
  },
  {
   "cell_type": "markdown",
   "metadata": {},
   "source": [
    "#### Column and row layouts\n",
    "\n",
    "The `column` function is used to create a **vertical layout**.\n",
    "The `row` function is used to create a **horizontal layout**. \n",
    "\n",
    "Both functions take multiple plots and widgets as arguments.\n",
    "The plots and widgets are arranged in the order in which they are passed to\n",
    "the function.\n",
    "\n",
    "Use the following code cell to arrange two plots vertically and horizontally:"
   ]
  },
  {
   "cell_type": "code",
   "execution_count": null,
   "metadata": {},
   "outputs": [],
   "source": [
    "from bokeh.layouts import column, row\n",
    "\n",
    "# generate some values\n",
    "x = list(range(1, 50))\n",
    "y = [pow(x, 2) for x in x]\n",
    "\n",
    "# create a plot p1 with a line renderer\n",
    "p1 = figure(height=200, width=400)\n",
    "p1.line(x, y)\n",
    "\n",
    "# create a plot p2 with a circle renderer\n",
    "p2 = figure(height=200, width=400)\n",
    "p2.scatter(x, y, size=10, color=\"red\", alpha=0.5)\n",
    "\n",
    "# 🔁 Use the following line to create a column layout, arranging the plots vertically\n",
    "layout = column([p1, p2])\n",
    "# 🔁 Uncomment the following line to create a row layout, arranging the plots horizontally\n",
    "# layout = row([p1, p2])\n",
    "\n",
    "show(layout)"
   ]
  },
  {
   "cell_type": "markdown",
   "metadata": {},
   "source": [
    "Layouts themselves can use sizing modes. And the elements inside a layout can also use\n",
    "their individual sizing modes:"
   ]
  },
  {
   "cell_type": "code",
   "execution_count": null,
   "metadata": {},
   "outputs": [],
   "source": [
    "# generate some values\n",
    "x = list(range(1, 50))\n",
    "y = [pow(x, 2) for x in x]\n",
    "\n",
    "# create a plot p1 with a line renderer\n",
    "p1 = figure(height=200, width=400, sizing_mode=\"stretch_width\")  # this plot stretches to the width of layout, not maintaining its aspect ratio\n",
    "p1.line(x, y)\n",
    "\n",
    "# create a plot p2 with a circle renderer\n",
    "p2 = figure(height=100, width=400, sizing_mode=\"scale_width\")  # this plot scales to the width of layout, maintaining its aspect ratio\n",
    "p2.scatter(x, y, size=10, color=\"red\", alpha=0.5)\n",
    "\n",
    "# create a column layout\n",
    "layout = column([p1, p2], sizing_mode=\"stretch_width\")  # the layout itself stretches to the width of notebook\n",
    "\n",
    "show(layout)"
   ]
  },
  {
   "cell_type": "markdown",
   "metadata": {},
   "source": [
    "#### Grid layout\n",
    "\n",
    "For **more complex layouts**, you can use the `layout` function. The `layout` function\n",
    "takes a list of lists as an argument. Each list represents a row in the grid. Each\n",
    "element in the list represents a column in the grid. The elements in the list can be\n",
    "plots, widgets, or even other layouts!"
   ]
  },
  {
   "cell_type": "code",
   "execution_count": null,
   "metadata": {},
   "outputs": [],
   "source": [
    "from bokeh.layouts import layout\n",
    "\n",
    "# generate some values\n",
    "x = list(range(1, 50))\n",
    "y = [pow(x, 2) for x in x]\n",
    "\n",
    "# create a plot p1 with a line renderer\n",
    "p1 = figure(height=200, width=400, sizing_mode=\"stretch_width\")  # this plot stretches to the width of layout\n",
    "p1.line(x, y)\n",
    "\n",
    "# create a plot p2 with a circle renderer\n",
    "p2 = figure(height=200, width=400, sizing_mode=\"stretch_width\")  # this plot stretches to the width of layout\n",
    "p2.scatter(x, y, size=10, color=\"red\", alpha=0.5)\n",
    "\n",
    "# create a plot p3 with a square renderer\n",
    "p3 = figure(height=80, width=400, sizing_mode=\"scale_width\")  # this plot scales to the width of layout, maintaining its aspect ratio\n",
    "p3.scatter(x, y, size=10, color=\"green\", alpha=0.5, marker=\"square\")\n",
    "\n",
    "# create a layout\n",
    "layout = layout(\n",
    "    [\n",
    "        [p1, p2],  # the first row contains two plots, spaced evenly across the width of notebook\n",
    "        [p3],  # the second row contains only one plot, spanning the width of notebook\n",
    "    ],\n",
    "    sizing_mode=\"stretch_width\",  # the layout itself stretches to the width of notebook\n",
    ")\n",
    "\n",
    "show(layout)"
   ]
  },
  {
   "cell_type": "markdown",
   "metadata": {},
   "source": [
    "Combining Bokeh's layout and sizing modes, you can create complex layouts that\n",
    "automatically scale and stretch to fill available space. See\n",
    "[Grids and layouts](https://docs.bokeh.org/en/latest/docs/user_guide/basic/layouts.html)\n",
    "in the user guide for more examples and information."
   ]
  },
  {
   "cell_type": "markdown",
   "metadata": {},
   "source": [
    "### Tabs\n",
    "\n",
    "An alternative way to combine multiple plots and widgets into a single document is to\n",
    "use tabs.\n",
    "\n",
    "To add tabs to a Bokeh document, use the `Tabs` object. This is a widget that allows\n",
    "a user to switch between different `TabPanels`.\n",
    "\n",
    "In the following example, there are two figures (`p1` and `p2`). Each plot is added\n",
    "to a `TabPanel` (`tab1` and `tab2`). The two `TabPanel` objects are then added to a `Tabs` object. This\n",
    "works similarly to ``layout``:"
   ]
  },
  {
   "cell_type": "code",
   "execution_count": null,
   "metadata": {},
   "outputs": [],
   "source": [
    "from bokeh.models import TabPanel, Tabs\n",
    "\n",
    "# Define the first figure\n",
    "p1 = figure(width=300, height=300)\n",
    "p1.scatter([1, 2, 3, 4, 5], [6, 7, 2, 4, 5], size=20, color=\"navy\", alpha=0.5)\n",
    "tab1 = TabPanel(child=p1, title=\"circle\")  # add the first figure to a tab panel\n",
    "\n",
    "# Define the second figure\n",
    "p2 = figure(width=300, height=300)\n",
    "p2.line([1, 2, 3, 4, 5], [6, 7, 2, 4, 5], line_width=3, color=\"navy\", alpha=0.5)\n",
    "tab2 = TabPanel(child=p2, title=\"line\")  # add the second figure to a tab panel\n",
    "\n",
    "# add the tab panels to the Tabs widget\n",
    "tabs = Tabs(tabs=[tab1, tab2])\n",
    "\n",
    "show(tabs)"
   ]
  },
  {
   "cell_type": "markdown",
   "metadata": {},
   "source": [
    "# Next section\n",
    "\n",
    "<a href=\"11_widgets_interactivity.ipynb\" target=\"_blank\">\n",
    "    <img src=\"assets/arrow.svg\" alt=\"Next section\" width=\"100\" align=\"right\">\n",
    "</a>\n",
    "\n",
    "In the [next chapter](11_widgets_interactivity.ipynb), you'll learn about widgets.\n",
    "You will also learn how to use widgets and other objects to make your plots interactive."
   ]
  }
 ],
 "metadata": {
  "kernelspec": {
   "display_name": "Python 3 (ipykernel)",
   "language": "python",
   "name": "python3"
  },
  "language_info": {
   "codemirror_mode": {
    "name": "ipython",
    "version": 3
   },
   "file_extension": ".py",
   "mimetype": "text/x-python",
   "name": "python",
   "nbconvert_exporter": "python",
   "pygments_lexer": "ipython3",
   "version": "3.12.0"
  },
  "vscode": {
   "interpreter": {
    "hash": "0494a81e5f69860dcb844ce8e12eb9c88a7e813ddbfb0fbade72137f5ce45437"
   }
  }
 },
 "nbformat": 4,
 "nbformat_minor": 4
}
