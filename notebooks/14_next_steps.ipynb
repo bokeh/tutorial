{
 "cells": [
  {
   "cell_type": "markdown",
   "metadata": {},
   "source": [
    "<table style=\"float:left; border:none\">\n",
    "   <tr style=\"border:none\">\n",
    "       <td style=\"border:none\">\n",
    "           <a href=\"https://bokeh.org/\" target=\"_blank\">\n",
    "           <img\n",
    "               src=\"assets/bokeh-transparent.png\"\n",
    "               style=\"width:50px\"\n",
    "           >\n",
    "           </a>\n",
    "       </td>\n",
    "       <td style=\"border:none\">\n",
    "           <h1>Bokeh Tutorial</h1>\n",
    "       </td>\n",
    "   </tr>\n",
    "</table>\n",
    "\n",
    "<div style=\"float:right;\"><a href=\"TOC.ipynb\" target=\"_blank\">Table of contents</a><br><h2>14 Next steps</h2></div>"
   ]
  },
  {
   "cell_type": "markdown",
   "metadata": {},
   "source": [
    "Throughout the previous chapters of this tutorial, you learned the basics of building\n",
    "interactive visualizations with Bokeh. This chapter provides you with pointers to more\n",
    "advanced topics for you to explore:\n",
    "\n",
    "* [Bokeh Server](#Bokeh-Server)\n",
    "* [BokehJS as a standalone library](#BokehJS-as-a-standalone-library)\n",
    "* [Bokeh extensions](#Bokeh-extensions)\n",
    "* [Plotting with high-level tools (Panel, HoloViews, and hvPlot)](#Plotting-with-high-level-tools-(Panel,-HoloViews,-and-hvPlot))\n",
    "* [Other resources for learning Bokeh](#Other-resources-for-learning-Bokeh)\n",
    "* [Contributing to Bokeh](#Contributing-to-bokeh)"
   ]
  },
  {
   "cell_type": "markdown",
   "metadata": {},
   "source": [
    "### Bokeh Server\n",
    "\n",
    "Bokeh includes a powerful server component. You can use the Bokeh server to connect your\n",
    "JavaScript-based visualization running in a browser to Python code running on a server.\n",
    "\n",
    "The following code cell displays an example of a Bokeh server app. The source code for\n",
    "this Bokeh server app is available in the [Bokeh repository](https://github.com/bokeh/bokeh/blob/main/examples/server/app/sliders.py)."
   ]
  },
  {
   "cell_type": "code",
   "execution_count": null,
   "metadata": {},
   "outputs": [],
   "source": [
    "from IPython.display import display, IFrame\n",
    "\n",
    "display(IFrame(src=\"https://demo.bokeh.org/sliders\", width=900, height=500))"
   ]
  },
  {
   "cell_type": "markdown",
   "metadata": {},
   "source": [
    "Bokeh server essentially synchronizes data between the underlying Python environment and\n",
    "the BokehJS library running in the browser.\n",
    "\n",
    "Some use cases for Bokeh server include:\n",
    "- respond to UI and tool events in the browser with computations or queries using Python\n",
    "    code instead of JavaScript callbacks\n",
    "- stream real-time data from a server to a Bokeh visualization in a browser\n",
    "- quickly deploy a visualization for sharing with others\n",
    "- combine Bokeh server with NGINX or Apache to add authentication or other capabilities\n",
    "\n",
    "For more information about Bokeh server, see\n",
    "[Bokeh server](https://docs.bokeh.org/en/latest/docs/user_guide/server.html)\n",
    "in the user guide."
   ]
  },
  {
   "cell_type": "markdown",
   "metadata": {},
   "source": [
    "### BokehJS as a standalone library\n",
    "\n",
    "BokehJS is the JavaScript library that takes care of displaying Bokeh visualizations\n",
    "in the browser.\n",
    "\n",
    "In this tutorial, you have used Bokeh's Python API to create BokehJS code automatically.\n",
    "However, you can also use BokehJS directly in your own JavaScript code. This way, you\n",
    "can combine BokehJS with frameworks like React or Vue, for example.\n",
    "\n",
    "For more information and interactive examples, see\n",
    "[BokehJS](https://docs.bokeh.org/en/3.0.2/docs/user_guide/advanced/bokehjs.html)\n",
    "in the user guide. Note that the BokehJS API is considered experimental."
   ]
  },
  {
   "cell_type": "markdown",
   "metadata": {},
   "source": [
    "### Bokeh extensions\n",
    "\n",
    "Bokeh extensions are a way to add new functionality to Bokeh.\n",
    "\n",
    "For example, you can create an extension to define a new tool for the toolbar or to\n",
    "wrap a third-party JavaScript library in a Bokeh model.\n",
    "\n",
    "For more information and examples, see\n",
    "[Custom extensions](https://docs.bokeh.org/en/3.0.2/docs/user_guide/advanced/extensions.html)\n",
    "in the user guide."
   ]
  },
  {
   "cell_type": "markdown",
   "metadata": {},
   "source": [
    "### Plotting with high-level tools (Panel, HoloViews, and hvPlot)\n",
    "\n",
    "Bokeh is included in several high-level visualization tools. Depending on your use case,\n",
    "it may be easier to use these tools instead of Bokeh directly.\n",
    "\n",
    "#### Panel\n",
    "\n",
    "<a href=\"https://panel.holoviz.org/\" target=\"_blank\">\n",
    "    <img src=\"https://panel.holoviz.org/_images/logo_horizontal_light_theme.png\" alt=\"Panel logo\" style=\"height: 75px;\">\n",
    "</a>\n",
    "\n",
    "[Panel](https://panel.holoviz.org/) is a Python library for building interactive\n",
    "dashboards and web applications.\n",
    "It provides a high-level reactive interface on top of Bokeh.\n",
    "\n",
    "Panel enables full interoperability between Jupyter notebooks and Bokeh server.\n",
    "This lets you develop or prototype applications in a notebook and deploy them on a server.\n",
    "Panel also interfaces with other plotting libraries and lets you incorporate multiple\n",
    "data-science artifacts into a single Bokeh application.\n",
    "Furthermore, the library includes a number of JavaScript templates to let you customize\n",
    "the appearance of your Bokeh apps.\n",
    "\n",
    "\n",
    "#### HoloViews\n",
    "\n",
    "<a href=\"https://holoviews.org/\" target=\"_blank\">\n",
    "    <img src=\"https://holoviews.org/_static/logo_horizontal.png\" alt=\"HoloViews logo\" style=\"height: 75px;\">\n",
    "</a>\n",
    "\n",
    "[HoloViews](https://holoviews.org/) is a Python library for building data\n",
    "visualizations in an automated way. It provides a declarative, high-level interface to\n",
    "describe and then visualize data.\n",
    "\n",
    "HoloViews focuses on interaction with Jupyter notebooks and enables quick prototyping of\n",
    "figures for data analysis.\n",
    "\n",
    "For example, building an interactive figure with three linked Bokeh plots requires only\n",
    "one line of code in HoloViews:\n",
    "\n",
    "![HoloViews example](assets/hv_sample.png)\n",
    "\n",
    "### hvPlot\n",
    "\n",
    "<a href=\"https://hvplot.holoviz.org/\" target=\"_blank\">\n",
    "    <img src=\"https://hvplot.holoviz.org/_static/logo_horizontal.svg\" alt=\"hvPlot logo\" style=\"height: 50px;\">\n",
    "</a>\n",
    "\n",
    "[hvPlot](https://hvplot.holoviz.org/) is a concise API that lets you plot data from\n",
    "pandas directly in Bokeh. It provides a ``.hvplot()`` function that you can use instead\n",
    "of the standard ``.plot()`` function.\n",
    "\n",
    "In addition to tying into pandas, hvPlot also integrates with other libraries like\n",
    "xarray, dask, geopandas, and more.\n",
    "\n",
    "This API is particularly convenient for working with data interactively. It helps you\n",
    "produce common types of plots quickly."
   ]
  },
  {
   "cell_type": "markdown",
   "metadata": {},
   "source": [
    "### Other resources for learning Bokeh\n",
    "\n",
    "There are lots of resources available to help you learn Bokeh. Here are some of the\n",
    "most important ones:\n",
    "\n",
    "* [**Bokeh user guide**](http://docs.bokeh.org/en/latest/docs/user_guide.html): A\n",
    "comprehensive guide to all aspects of Bokeh.\n",
    "* [**Bokeh reference guide**](http://docs.bokeh.org/en/latest/docs/reference.html): A\n",
    "detailed reference of all Bokeh models and functions.\n",
    "* [**Bokeh gallery**](http://docs.bokeh.org/en/latest/docs/gallery.html): A collection\n",
    "of examples that show how to use Bokeh to create different kinds of plots.\n",
    "* [**Bokeh examples**](https://github.com/bokeh/bokeh/tree/main/examples/): Additional\n",
    "    examples, including server apps.\n",
    "* [**Bokeh first steps**](http://docs.bokeh.org/en/latest/docs/first_steps.html): A\n",
    "quick, high-level introduction to Bokeh.\n",
    "* [**Bokeh discourse**](https://discourse.bokeh.org/): A forum for users and developers\n",
    "to ask questions and discuss Bokeh.\n",
    "* [**Bokeh developer guide**](http://docs.bokeh.org/en/latest/docs/dev_guide.html): A\n",
    "resource for developers who want to contribute to Bokeh.\n",
    "\n",
    "### Contributing to Bokeh\n",
    "\n",
    "Bokeh is an open-source project.\n",
    "It only exists because of people like you who use Bokeh and are willing to contribute\n",
    "back to the project.\n",
    "Bokeh is made possible by a diverse group of software developers, testers, writers,\n",
    "outreach experts, and much more.\n",
    "There are many ways to contribute to Bokeh!\n",
    "\n",
    "If you are interested in contributing to Bokeh, see the comprehensive\n",
    "[contributor guide](https://docs.bokeh.org/en/latest/docs/dev_guide.html) for more\n",
    "information."
   ]
  }
 ],
 "metadata": {
  "kernelspec": {
   "display_name": "global-global-interactive-dataviz-bokeh",
   "language": "python",
   "name": "conda-env-global-global-interactive-dataviz-bokeh-py"
  },
  "language_info": {
   "codemirror_mode": {
    "name": "ipython",
    "version": 3
   },
   "file_extension": ".py",
   "mimetype": "text/x-python",
   "name": "python",
   "nbconvert_exporter": "python",
   "pygments_lexer": "ipython3",
   "version": "3.11.4"
  },
  "vscode": {
   "interpreter": {
    "hash": "0494a81e5f69860dcb844ce8e12eb9c88a7e813ddbfb0fbade72137f5ce45437"
   }
  }
 },
 "nbformat": 4,
 "nbformat_minor": 4
}
