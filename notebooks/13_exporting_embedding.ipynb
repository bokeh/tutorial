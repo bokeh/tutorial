{
 "cells": [
  {
   "cell_type": "markdown",
   "metadata": {},
   "source": [
    "<table style=\"float:left; border:none\">\n",
    "   <tr style=\"border:none\">\n",
    "       <td style=\"border:none\">\n",
    "           <a href=\"https://bokeh.org/\" target=\"_blank\">\n",
    "           <img\n",
    "               src=\"assets/bokeh-transparent.png\"\n",
    "               style=\"width:50px\"\n",
    "           >\n",
    "           </a>\n",
    "       </td>\n",
    "       <td style=\"border:none\">\n",
    "           <h1>Bokeh Tutorial</h1>\n",
    "       </td>\n",
    "   </tr>\n",
    "</table>\n",
    "\n",
    "<div style=\"float:right;\"><a href=\"TOC.ipynb\" target=\"_blank\">Table of contents</a><br><h2>13 Exporting and embedding</h2></div>"
   ]
  },
  {
   "cell_type": "markdown",
   "metadata": {},
   "source": [
    "So far, you have used `output_notebook()` to generate interactive Bokeh output directly in Jupyter notebooks.\n",
    "\n",
    "You can also use Bokeh to generate **standalone HTML files** or **embed Bokeh documents\n",
    "in other contexts**.\n",
    "Bokeh also supports **export to SVG and PNG files**."
   ]
  },
  {
   "cell_type": "markdown",
   "metadata": {},
   "source": [
    "### Standalone HTML files\n",
    "\n",
    "Bokeh allows you to save a document as a standalone HTML file.\n",
    "This is useful for sharing your work with others or for embedding it in a website.\n",
    "The HTML document that Bokeh creates includes all the data and JavaScript code for\n",
    "your document.\n",
    "\n",
    "Creating a standalone HTML file is a two-step process:\n",
    "- First, you use the `output_file()` function to specify some file-related options:\n",
    "    - `filename` is the name of the HTML file to generate\n",
    "    - `title` is the title of the HTML document\n",
    "    - `mode` specifies how BokehJS should be included in the HTML file.\n",
    "        By default, BokehJS will be loaded from Bokeh's Content Delivery Network (CDN).\n",
    "        This means that the HTML file will not work offline.\n",
    "        To include BokehJS in the HTML file instead, set `mode` to `\"inline\"`. This way,\n",
    "        the HTML file will work offline, but it will be larger.\n",
    "- Second, you use either `show()` or `save()` to generate the HTML file:\n",
    "    - `save()` will save the HTML file to disk\n",
    "    - `show()` will save the HTML file and open it in a new browser tab\n",
    "\n",
    "Run the following code cell to generate a standalone HTML file:"
   ]
  },
  {
   "cell_type": "code",
   "execution_count": null,
   "metadata": {},
   "outputs": [],
   "source": [
    "from bokeh.plotting import figure, output_file, save\n",
    "\n",
    "# prepare some data\n",
    "x = [1, 2, 3, 4, 5]\n",
    "y = [4, 5, 5, 7, 2]\n",
    "\n",
    "# set output to static HTML file\n",
    "output_file(filename=\"custom_filename.html\", title=\"Static HTML file\")\n",
    "\n",
    "# create a new plot\n",
    "p = figure(sizing_mode=\"stretch_width\", height=250)\n",
    "\n",
    "# add a circle renderer\n",
    "circle = p.scatter(x, y, fill_color=\"red\", size=15)\n",
    "\n",
    "# save the results to a file\n",
    "# 🔁 replace with show(p) to see the HTML file opened in a browser window\n",
    "save(p)"
   ]
  },
  {
   "cell_type": "markdown",
   "metadata": {},
   "source": [
    "Calling `output_file` **switches Bokeh to file output mode persistently**.\n",
    "This means that all subsequent calls to `show` will generate output to the specified file.\n",
    "\n",
    "To reset the output mode, call `reset_output`:"
   ]
  },
  {
   "cell_type": "code",
   "execution_count": null,
   "metadata": {},
   "outputs": [],
   "source": [
    "from bokeh.io import reset_output\n",
    "\n",
    "reset_output()"
   ]
  },
  {
   "cell_type": "markdown",
   "metadata": {},
   "source": [
    "Since you are currently running Bokeh in a Jupyter notebook, you can also use the\n",
    "`output_notebook()` function. This switches Bokeh back to notebook output mode."
   ]
  },
  {
   "cell_type": "code",
   "execution_count": null,
   "metadata": {},
   "outputs": [],
   "source": [
    "from bokeh.io import output_notebook\n",
    "\n",
    "output_notebook()"
   ]
  },
  {
   "cell_type": "markdown",
   "metadata": {},
   "source": [
    "### Embedding Bokeh documents\n",
    "\n",
    "Using the `output_file()` function creates a file that contains nothing but the Bokeh\n",
    "document.\n",
    "However, you can also embed Bokeh documents as an element of a larger web page.\n",
    "This way, you can include Bokeh in a Jinja template, for example.\n",
    "\n",
    "One way to do this is to use the `components()` function.\n",
    "This function returns a tuple containing two elements:\n",
    "* The first element is a `script` element that contains the JavaScript code for the\n",
    "    Bokeh document.\n",
    "* The second element is a `div` element that contains the HTML code for the Bokeh\n",
    "    document.\n",
    "\n",
    "You can then use these elements in your own HTML code.\n",
    "\n",
    "The following code cell shows how to use the `components()` function:"
   ]
  },
  {
   "cell_type": "code",
   "execution_count": null,
   "metadata": {},
   "outputs": [],
   "source": [
    "# from bokeh.plotting import figure\n",
    "from bokeh.embed import components\n",
    "\n",
    "plot = figure()\n",
    "plot.scatter([1, 2], [3, 4])\n",
    "\n",
    "script, div = components(plot)"
   ]
  },
  {
   "cell_type": "markdown",
   "metadata": {},
   "source": [
    "This is the script generated by this example:"
   ]
  },
  {
   "cell_type": "code",
   "execution_count": null,
   "metadata": {},
   "outputs": [],
   "source": [
    "script"
   ]
  },
  {
   "cell_type": "markdown",
   "metadata": {},
   "source": [
    "And this is the div to embed in the HTML page:"
   ]
  },
  {
   "cell_type": "code",
   "execution_count": null,
   "metadata": {},
   "outputs": [],
   "source": [
    "div"
   ]
  },
  {
   "cell_type": "markdown",
   "metadata": {},
   "source": [
    "Using Bokeh with these components requires the underlying HTML document to also load\n",
    "the BokehJS library itself. This can either be a local JS file you embed or you can\n",
    "load BokehJS from the Bokeh CDN.\n",
    "See [Web pages](https://docs.bokeh.org/en/latest/docs/user_guide/output/embed.html)\n",
    "in the user guide for more information."
   ]
  },
  {
   "cell_type": "markdown",
   "metadata": {},
   "source": [
    "### SVG and PNG export\n",
    "\n",
    "In addition to storing visualizations in HTML, you can also export a Bokeh document as\n",
    "an SVG or PNG file.\n",
    "\n",
    "Before you can use these file export options, you need to **install the `selenium`\n",
    "Python package** using either `conda` or `pip`. Uncomment and run one of the following two options:"
   ]
  },
  {
   "cell_type": "code",
   "execution_count": null,
   "metadata": {},
   "outputs": [],
   "source": [
    "# !conda install selenium firefox geckodriver -c conda-forge -y\n",
    "# !pip install selenium"
   ]
  },
  {
   "cell_type": "markdown",
   "metadata": {},
   "source": [
    "See [Additional dependencies](https://docs.bokeh.org/en/latest/docs/user_guide/output/export.html#additional-dependencies)\n",
    "in the user guide for more details and options.\n",
    "\n",
    "After installing selenium, you can use the `export_png()` function:"
   ]
  },
  {
   "cell_type": "code",
   "execution_count": null,
   "metadata": {},
   "outputs": [],
   "source": [
    "from bokeh.io import export_png\n",
    "\n",
    "p = figure(width=300, height=300)\n",
    "circle = p.scatter([1, 2, 3], [2, 5, 4])\n",
    "\n",
    "# save the results to a file\n",
    "export_png(p, filename=\"plot.png\")"
   ]
  },
  {
   "cell_type": "markdown",
   "metadata": {},
   "source": [
    "This is the resulting PNG file:"
   ]
  },
  {
   "cell_type": "code",
   "execution_count": null,
   "metadata": {},
   "outputs": [],
   "source": [
    "from IPython.display import display, Image\n",
    "\n",
    "display(Image(filename=export_png(p)))"
   ]
  },
  {
   "cell_type": "markdown",
   "metadata": {},
   "source": [
    "Similarly, you can also export a Bokeh document as an SVG file:"
   ]
  },
  {
   "cell_type": "code",
   "execution_count": null,
   "metadata": {},
   "outputs": [],
   "source": [
    "from bokeh.io import export_svg\n",
    "\n",
    "export_svg(p, filename=\"plot.svg\")"
   ]
  },
  {
   "cell_type": "markdown",
   "metadata": {},
   "source": [
    "The resulting SVG looks like this:"
   ]
  },
  {
   "cell_type": "code",
   "execution_count": null,
   "metadata": {},
   "outputs": [],
   "source": [
    "from IPython.display import SVG\n",
    "\n",
    "display(SVG(filename=export_svg(p)[0]))"
   ]
  },
  {
   "cell_type": "markdown",
   "metadata": {},
   "source": [
    "For more information about exporting to PNG and SVG, see\n",
    "[PNG and SVG export](https://docs.bokeh.org/en/latest/docs/user_guide/output/export.html)\n",
    "in the user guide."
   ]
  },
  {
   "cell_type": "markdown",
   "metadata": {},
   "source": [
    "# Next section\n",
    "\n",
    "<a href=\"14_next_steps.ipynb\" target=\"_blank\">\n",
    "    <img src=\"assets/arrow.svg\" alt=\"Next section\" width=\"100\" align=\"right\">\n",
    "</a>\n",
    "\n",
    "The [next chapter](14_next_steps.ipynb) contains some next steps and additional\n",
    "resources that will be helpful to know when working with Bokeh."
   ]
  }
 ],
 "metadata": {
  "kernelspec": {
   "display_name": "Python 3 (ipykernel)",
   "language": "python",
   "name": "python3"
  },
  "language_info": {
   "codemirror_mode": {
    "name": "ipython",
    "version": 3
   },
   "file_extension": ".py",
   "mimetype": "text/x-python",
   "name": "python",
   "nbconvert_exporter": "python",
   "pygments_lexer": "ipython3",
   "version": "3.12.0"
  },
  "vscode": {
   "interpreter": {
    "hash": "0494a81e5f69860dcb844ce8e12eb9c88a7e813ddbfb0fbade72137f5ce45437"
   }
  }
 },
 "nbformat": 4,
 "nbformat_minor": 4
}
