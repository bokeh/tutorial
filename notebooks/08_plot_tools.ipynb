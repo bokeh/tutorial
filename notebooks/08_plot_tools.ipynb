{
 "cells": [
  {
   "cell_type": "markdown",
   "metadata": {},
   "source": [
    "<table style=\"float:left; border:none\">\n",
    "   <tr style=\"border:none\">\n",
    "       <td style=\"border:none\">\n",
    "           <a href=\"https://bokeh.org/\" target=\"_blank\">\n",
    "           <img\n",
    "               src=\"assets/bokeh-transparent.png\"\n",
    "               style=\"width:50px\"\n",
    "           >\n",
    "           </a>\n",
    "       </td>\n",
    "       <td style=\"border:none\">\n",
    "           <h1>Bokeh Tutorial</h1>\n",
    "       </td>\n",
    "   </tr>\n",
    "</table>\n",
    "\n",
    "<div style=\"float:right;\"><a href=\"TOC.ipynb\" target=\"_blank\">Table of contents</a><br><h2>08 Plot tools and tooltips</h2></div>"
   ]
  },
  {
   "cell_type": "code",
   "execution_count": null,
   "metadata": {},
   "outputs": [],
   "source": [
    "# load tutorial data\n",
    "from tutorial_data import data"
   ]
  },
  {
   "cell_type": "code",
   "execution_count": null,
   "metadata": {},
   "outputs": [],
   "source": [
    "# activate notebook output\n",
    "from bokeh.io import output_notebook\n",
    "\n",
    "output_notebook()"
   ]
  },
  {
   "cell_type": "markdown",
   "metadata": {},
   "source": [
    "This chapter provides an overview of the tools that are available in the Bokeh toolbar.\n",
    "\n",
    "![Example of Bokeh toolbar](assets/bokeh_toolbar.png)\n",
    "\n",
    "The Bokeh toolbar is a collection of tools that are displayed together with a plot.\n",
    "You have seen the toolbar in all previous examples. This chapter is about configuring\n",
    "the toolbar and its tools."
   ]
  },
  {
   "cell_type": "markdown",
   "metadata": {},
   "source": [
    "### General toolbar configuration\n",
    "\n",
    "By default, the Bokeh toolbar is displayed to the right of every plot. \n",
    "\n",
    "You can change this by setting the `toolbar_location` property of the figure:"
   ]
  },
  {
   "cell_type": "code",
   "execution_count": null,
   "metadata": {},
   "outputs": [],
   "source": [
    "from bokeh.plotting import figure, show\n",
    "\n",
    "# 🔁 Try different values for the toolbar_location parameter\n",
    "p = figure(\n",
    "    height=300,\n",
    "    toolbar_location=\"below\",  # can be \"above\", \"below\" \"left\", \"right\", or None\n",
    ")\n",
    "\n",
    "p.line(x=list(range(10)), y=list(range(10)))\n",
    "show(p)"
   ]
  },
  {
   "cell_type": "markdown",
   "metadata": {},
   "source": [
    "To completely disable the toolbar for a plot, set `toolbar_location` to `None`."
   ]
  },
  {
   "cell_type": "markdown",
   "metadata": {},
   "source": [
    "### Adding and removing tools"
   ]
  },
  {
   "cell_type": "markdown",
   "metadata": {},
   "source": [
    "When you configure the toolbar with the ``figure()`` method, you can specify **which\n",
    "tools to include**.\n",
    "\n",
    "You can pass a sequence of tool names to the `tools` argument. The following list contains\n",
    "some of the most commonly used tools for viewing data:\n",
    "\n",
    "* `pan` - pan the plot\n",
    "* `xpan` or `ypan` - pan the plot only in the x- or y-direction\n",
    "* `wheel_zoom` - zoom the plot in and out using the mouse wheel\n",
    "* `xwheel_zoom` or `ywheel_zoom` - zoom the plot only in the x- or y-direction\n",
    "* `zoom_in` or `zoom_out` - zoom the plot in and out when clicking on this toolbar button\n",
    "* `box_zoom` - zoom the plot in and out using a rectangular selection\n",
    "* `save` - save the plot to a file\n",
    "* `reset` - reset the plot to its original state\n",
    "* `help` - display help about the available tools\n",
    "\n",
    "Use the following code cell to try out different tools in the toolbar:"
   ]
  },
  {
   "cell_type": "code",
   "execution_count": null,
   "metadata": {},
   "outputs": [],
   "source": [
    "from bokeh.plotting import figure\n",
    "\n",
    "# set up a figure with a toolbar\n",
    "p = figure(\n",
    "    height=300,\n",
    "    tools=(\"box_zoom\", \"wheel_zoom\", \"save\", \"reset\"),  # 🔁 swap out tools from the list above\n",
    ")\n",
    "\n",
    "p.line(x=list(range(10)), y=list(range(10)))\n",
    "show(p)"
   ]
  },
  {
   "cell_type": "markdown",
   "metadata": {},
   "source": [
    "Bokeh contains a lot more tools than the ones listed above.\n",
    "\n",
    "You can find more examples\n",
    "in [Plot tools](https://docs.bokeh.org/en/latest/docs/user_guide/interaction/tools.html)\n",
    "in the Bokeh user guide. A full list of tools is available in the entry for\n",
    "[tools](https://docs.bokeh.org/en/latest/docs/reference/models/tools.html) in the\n",
    "Bokeh reference guide."
   ]
  },
  {
   "cell_type": "markdown",
   "metadata": {},
   "source": [
    "### Defining active tools\n",
    "\n",
    "You can **change which tools are active** by setting the ``active_drag``, ``active_inspect``,\n",
    "``active_scroll``, and ``active_tap`` properties of a toolbar.\n",
    "\n",
    "The reason why Bokeh has separate properties for different types of tools is that\n",
    "you can have several tools of different types active at the same time. For example,\n",
    "you can have an active scroll tool and an active inspect tool at the same time.\n",
    "\n",
    "The following code cell uses the ``xpan`` tool as its active drag tool.\n",
    "Update the code in line 7 to make the ``ypan`` tool active by default instead:"
   ]
  },
  {
   "cell_type": "code",
   "execution_count": null,
   "metadata": {},
   "outputs": [],
   "source": [
    "from bokeh.plotting import figure\n",
    "\n",
    "# set up a figure with a toolbar\n",
    "p = figure(\n",
    "    height=300,\n",
    "    tools=(\"reset\", \"pan\", \"ypan\", \"xpan\", \"save\"),\n",
    "    active_drag=\"xpan\",  # 🔁 update this line to make \"ypan\" the active drag tool\n",
    ")\n",
    "\n",
    "p.line(x=list(range(10)), y=list(range(10)))\n",
    "show(p)"
   ]
  },
  {
   "cell_type": "markdown",
   "metadata": {},
   "source": [
    "### HoverTool and tooltips\n",
    "\n",
    "The `HoverTool` is a special tool that **displays a tooltip when the user hovers the\n",
    "mouse over a data point or taps on a data point**.\n",
    "\n",
    "To enable tooltips, you need to add a `hover` tool to the list of tools. You can then\n",
    "use the `tooltips` argument to specify which data fields to display in the tooltip.\n",
    "\n",
    "Run the cell below and hover over the data points:"
   ]
  },
  {
   "cell_type": "code",
   "execution_count": null,
   "metadata": {},
   "outputs": [],
   "source": [
    "from bokeh.models import HoverTool\n",
    "from bokeh.models import ColumnDataSource\n",
    "\n",
    "source = ColumnDataSource(\n",
    "    data={\n",
    "        \"x\": [1, 2, 3, 6, 9],\n",
    "        \"y\": [3, 7, 8, 2, 1],\n",
    "    }\n",
    ")\n",
    "\n",
    "p = figure(\n",
    "    toolbar_location=None,\n",
    "    tools=\"hover\",  # add the hover tool to the figure (the hover tool will work even if the toolbar is hidden)\n",
    "    tooltips=\"Data point is at @x, @y\",  # define a tooltip using data from the x and y columns\n",
    "    height=300,\n",
    ")\n",
    "\n",
    "# add renderers\n",
    "p.scatter(\"x\", \"y\", size=25, source=source)\n",
    "p.line(\"x\", \"y\", line_width=2, source=source)\n",
    "\n",
    "# show the results\n",
    "show(p)"
   ]
  },
  {
   "cell_type": "markdown",
   "metadata": {},
   "source": [
    "The text that is displayed in the tooltip uses **special syntax to refer to data from\n",
    "the ColumnDataSource**.\n",
    "\n",
    "In the example above, the tooltip text is `\"Data point is at @x, @y`. The `@x`\n",
    "and `@y` are replaced with the actual value of the `x` and `y` columns in the\n",
    "ColumnDataSource at that point.\n",
    "\n",
    "#### Tooltip fields\n",
    "\n",
    "There are several **other field names** that you can use in tooltips. See\n",
    "[Basic tooltips](https://docs.bokeh.org/en/latest/docs/user_guide/interaction/tools.html#basic-tooltips)\n",
    "in the user guide for an overview.\n",
    "\n",
    "#### Tooltip formatting\n",
    "\n",
    "Similar to how you defined the number format for axes, you can **format the numbers in\n",
    "the tooltips**. To define the format of a data field in a tooltip string, add a format\n",
    "string in curly braces after the field name. For example:\n",
    "* `\"@x{$0.00}\"` will display the value of the `x` column with two decimal places.\n",
    "* `\"@y{($ 0.00 a)}\"` will display the value of the `y` column as a Dollar value with two\n",
    "  decimal places and use SI prefixes (k, M, G, etc.) for large numbers.\n",
    "* `\"@x{(0,0)}\"` will display the value of the `x` column as a number with a thousand\n",
    "  separator.\n",
    "See [Formatting tooltip fields](https://docs.bokeh.org/en/latest/docs/user_guide/interaction/tools.html#formatting-tooltip-fields) in the user guide for more examples.\n",
    "\n",
    "### Tabular tooltips\n",
    "\n",
    "Tooltips can also have **multiple lines and use multiple data fields**. Use a list of\n",
    "tuples to specify tooltips with multiple lines.\n",
    "\n",
    "For example:\n",
    "\n",
    "```python\n",
    "hover = HoverTool(\n",
    "    tooltips=[\n",
    "        (\"index\", \"$index\"),\n",
    "        (\"(x,y)\", \"($x, $y)\"),\n",
    "    ]\n",
    ")\n",
    "```"
   ]
  },
  {
   "cell_type": "markdown",
   "metadata": {},
   "source": [
    "### HoverTool and tooltip example\n",
    "\n",
    "With the HoverTool, the ColumnDataSource, and the information about customizing visual\n",
    "properties, you can recreate the \"Top 10 carriers by passengers\" plot from the demo\n",
    "dashboard.\n",
    "\n",
    "First, take a look at the data this plot is visualizing:"
   ]
  },
  {
   "cell_type": "code",
   "execution_count": null,
   "metadata": {},
   "outputs": [],
   "source": [
    "# load data from demo data set\n",
    "df = data.get_biggest_airlines_by_passengers()\n",
    "df.head(10)"
   ]
  },
  {
   "cell_type": "markdown",
   "metadata": {},
   "source": [
    "This table contains the following columns:\n",
    "* `unique_carrier_name`: full names of the carriers\n",
    "* `unique_carrier`: IATA codes of the carriers\n",
    "* `passengers`: the total number of passengers flown in 2021 for each\n",
    "of the carriers.\n",
    "* `position`: the position of the carrier in a ranking based on the number of passengers\n",
    "  flown in 2021."
   ]
  },
  {
   "cell_type": "markdown",
   "metadata": {},
   "source": [
    "The next code cell contains the code to create the plot. After running this cell, you\n",
    "can hover over the blue bars to see the tooltip for each of the carriers:"
   ]
  },
  {
   "cell_type": "code",
   "execution_count": null,
   "metadata": {},
   "outputs": [],
   "source": [
    "from bokeh.models import NumeralTickFormatter, TapTool\n",
    "\n",
    "# load data for ColumnDataSource from demo data set\n",
    "source = ColumnDataSource(data.get_biggest_airlines_by_passengers())\n",
    "\n",
    "# define tooltips as a list of tuples\n",
    "TOOLTIPS = [\n",
    "    (\"Position\", \"@position\"),\n",
    "    (\"Carrier\", \"@unique_carrier_name\"),\n",
    "    (\"Passengers\", \"@passengers{(0,0)}\"),\n",
    "]\n",
    "\n",
    "# set up a figure with the tooltips to use the TOOLTIPS list\n",
    "largest_carriers_plot = figure(\n",
    "    x_range=source.data[\"unique_carrier_name\"][:10],\n",
    "    title=\"Top 10 carriers by passengers (domestic routes)\",\n",
    "    height=300,\n",
    "    tooltips=TOOLTIPS,\n",
    ")\n",
    "\n",
    "# create a vbar renderer with the data from the ColumnDataSource\n",
    "carriers_vbar = largest_carriers_plot.vbar(\n",
    "    x=\"unique_carrier_name\",\n",
    "    top=\"passengers\",\n",
    "    source=source,\n",
    "    legend_label=\"Passengers\",\n",
    "    width=0.6,\n",
    ")\n",
    "\n",
    "# customize the appearance of the grid and x-axis\n",
    "largest_carriers_plot.xgrid.grid_line_color = None\n",
    "largest_carriers_plot.yaxis.formatter = NumeralTickFormatter(format=\"0,0\")\n",
    "largest_carriers_plot.xaxis.major_label_orientation = 0.8  # rotate labels by roughly pi/4\n",
    "\n",
    "show(largest_carriers_plot)"
   ]
  },
  {
   "cell_type": "markdown",
   "metadata": {},
   "source": [
    "# Next section\n",
    "\n",
    "<a href=\"09_more_plot_types.ipynb\" target=\"_blank\">\n",
    "    <img src=\"assets/arrow.svg\" alt=\"Next section\" width=\"100\" align=\"right\">\n",
    "</a>\n",
    "\n",
    "In the [next chapter](09_more_plot_types.ipynb), you'll learn about more plot types:\n",
    "Map plots and wedge plots."
   ]
  }
 ],
 "metadata": {
  "kernelspec": {
   "display_name": "Python 3 (ipykernel)",
   "language": "python",
   "name": "python3"
  },
  "language_info": {
   "codemirror_mode": {
    "name": "ipython",
    "version": 3
   },
   "file_extension": ".py",
   "mimetype": "text/x-python",
   "name": "python",
   "nbconvert_exporter": "python",
   "pygments_lexer": "ipython3",
   "version": "3.12.0"
  },
  "vscode": {
   "interpreter": {
    "hash": "0494a81e5f69860dcb844ce8e12eb9c88a7e813ddbfb0fbade72137f5ce45437"
   }
  }
 },
 "nbformat": 4,
 "nbformat_minor": 4
}
