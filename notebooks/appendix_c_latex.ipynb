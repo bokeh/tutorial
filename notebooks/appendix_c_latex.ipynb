{
 "cells": [
  {
   "cell_type": "markdown",
   "metadata": {},
   "source": [
    "<table style=\"float:left; border:none\">\n",
    "   <tr style=\"border:none\">\n",
    "       <td style=\"border:none\">\n",
    "           <a href=\"https://bokeh.org/\" target=\"_blank\">\n",
    "           <img\n",
    "               src=\"assets/bokeh-transparent.png\"\n",
    "               style=\"width:50px\"\n",
    "           >\n",
    "           </a>\n",
    "       </td>\n",
    "       <td style=\"border:none\">\n",
    "           <h1>Bokeh Tutorial</h1>\n",
    "       </td>\n",
    "   </tr>\n",
    "</table>\n",
    "\n",
    "<div style=\"float:right;\"><a href=\"TOC.ipynb\" target=\"_blank\">Table of contents</a><br><h2>Appendix C: LaTeX</h2></div>"
   ]
  },
  {
   "cell_type": "markdown",
   "metadata": {},
   "source": [
    "Bokeh supports LaTeX equations in a number of different elements.\n",
    "\n",
    "This is based on the [Bessel equation example](https://docs.bokeh.org/en/latest/docs/examples/styling/mathtext/latex_bessel.html) in the Bokeh documentation:"
   ]
  },
  {
   "cell_type": "code",
   "execution_count": null,
   "metadata": {},
   "outputs": [],
   "source": [
    "from bokeh.io import output_notebook\n",
    "from bokeh.models import ColorBar, CustomJS, Div, FixedTicker, Label, LinearColorMapper, Paragraph, Slider\n",
    "from bokeh.palettes import TolPRGn, PiYG\n",
    "from bokeh.plotting import column, figure, show\n",
    "import numpy as np\n",
    "from scipy.special import jv\n",
    "\n",
    "output_notebook()"
   ]
  },
  {
   "cell_type": "code",
   "execution_count": null,
   "metadata": {},
   "outputs": [],
   "source": [
    "p = figure(\n",
    "    width=700, height=450,\n",
    "    title=r\"$$\\text{Bessel functions of the first kind: } J_\\alpha(x) = \\sum_{m=0}^{\\infty}\"\n",
    "          r\"\\frac{(-1)^m}{m!\\:\\Gamma(m+\\alpha+1)} \\left(\\frac{x}{2}\\right)^{2m+\\alpha}$$\",\n",
    ")\n",
    "p.x_range.range_padding = 0\n",
    "p.xaxis.axis_label = r\"$$x$$\"\n",
    "p.yaxis.axis_label = r\"$$J_\\alpha(x)$$\"\n",
    "p.title.text_font_size = \"14px\"\n",
    "\n",
    "x = np.linspace(0.0, 14.0, 100)\n",
    "\n",
    "for i, (xlabel, ylabel) in enumerate(zip([0.5, 1.6, 2.8, 4.2], [0.95, 0.6, 0.5, 0.45])):\n",
    "    p.line(x, jv(i, x), line_width=3, color=PiYG[4][i])\n",
    "    p.add_layout(Label(text=r\"$$J_\" + str(i) + \"(x)$$\", x=xlabel, y=ylabel))\n",
    "\n",
    "show(p)"
   ]
  },
  {
   "cell_type": "markdown",
   "metadata": {},
   "source": [
    "Note:\n",
    "\n",
    "- Use of standard LaTeX delimeters of ``$$``. Other options are available.\n",
    "- Use raw Python strings e.g. ``r\"$$\\alpha$$\"`` so that backslashes are interpreted as normal characters rather than control sequences. \n",
    "- ``Div`` and ``Paragraph`` accept LaTeX for just part of their contents, but for all other elements the whole contents must be LaTeX.\n",
    "    - To put normal text in a LaTeX string use ``\\text{...}``.\n",
    "    - We are actively working on improvements in this area.\n",
    "\n",
    "\n",
    "## Where can LaTeX be used?"
   ]
  },
  {
   "cell_type": "code",
   "execution_count": null,
   "metadata": {},
   "outputs": [],
   "source": [
    "p = figure(width=500, height=400)\n",
    "p.scatter(1, 1, size=0)\n",
    "\n",
    "p.title = r\"$$\\LaTeX \\text{ figure title}$$\"\n",
    "p.axis.axis_label = r\"$$\\LaTeX \\text{ axis label}$$\"\n",
    "p.axis.ticker = FixedTicker(ticks=[1])\n",
    "p.axis.major_label_overrides = {1: r\"$$\\LaTeX \\text{ tick label}$$\"}\n",
    "p.yaxis.major_label_orientation = \"vertical\"\n",
    "p.add_layout(Label(text=r\"$$\\LaTeX \\text{ label}$$\", text_font_size=\"26px\",\n",
    "                   angle=0.4, text_baseline=\"middle\", text_align=\"center\", x=1, y=1))\n",
    "\n",
    "slider = Slider(start=0, end=100, value=50, step=1, title=r\"$$\\LaTeX \\text{ slider}$$\")\n",
    "div = Div(text=r\"$$\\LaTeX$$ div\")\n",
    "paragraph = Paragraph(text=r\"$$\\LaTeX$$ paragraph\")\n",
    "\n",
    "color_mapper = LinearColorMapper(palette=PiYG[8])\n",
    "colorbar = ColorBar(color_mapper=color_mapper, title=r\"$$\\LaTeX \\text{ colorbar title}$$\")\n",
    "p.add_layout(colorbar, \"right\")\n",
    "\n",
    "show(column(p, slider, div, paragraph))"
   ]
  },
  {
   "cell_type": "markdown",
   "metadata": {},
   "source": [
    "For further information see the [LaTeX section](https://docs.bokeh.org/en/latest/docs/user_guide/styling/mathtext.html#latex) in the User Guide."
   ]
  }
 ],
 "metadata": {
  "kernelspec": {
   "display_name": "Python 3 (ipykernel)",
   "language": "python",
   "name": "python3"
  },
  "language_info": {
   "codemirror_mode": {
    "name": "ipython",
    "version": 3
   },
   "file_extension": ".py",
   "mimetype": "text/x-python",
   "name": "python",
   "nbconvert_exporter": "python",
   "pygments_lexer": "ipython3",
   "version": "3.12.0"
  },
  "vscode": {
   "interpreter": {
    "hash": "0494a81e5f69860dcb844ce8e12eb9c88a7e813ddbfb0fbade72137f5ce45437"
   }
  }
 },
 "nbformat": 4,
 "nbformat_minor": 4
}
