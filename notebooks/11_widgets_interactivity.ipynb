{
 "cells": [
  {
   "cell_type": "markdown",
   "metadata": {},
   "source": [
    "<table style=\"float:left; border:none\">\n",
    "   <tr style=\"border:none\">\n",
    "       <td style=\"border:none\">\n",
    "           <a href=\"https://bokeh.org/\" target=\"_blank\">\n",
    "           <img\n",
    "               src=\"assets/bokeh-transparent.png\"\n",
    "               style=\"width:50px\"\n",
    "           >\n",
    "           </a>\n",
    "       </td>\n",
    "       <td style=\"border:none\">\n",
    "           <h1>Bokeh Tutorial</h1>\n",
    "       </td>\n",
    "   </tr>\n",
    "</table>\n",
    "\n",
    "<div style=\"float:right;\"><a href=\"TOC.ipynb\" target=\"_blank\">Table of contents</a><br><h2>11 Widgets and interactivity</h2></div>"
   ]
  },
  {
   "cell_type": "code",
   "execution_count": null,
   "metadata": {},
   "outputs": [],
   "source": [
    "# load tutorial data\n",
    "from tutorial_data import data"
   ]
  },
  {
   "cell_type": "code",
   "execution_count": null,
   "metadata": {},
   "outputs": [],
   "source": [
    "# activate notebook output\n",
    "from bokeh.io import output_notebook\n",
    "\n",
    "output_notebook()"
   ]
  },
  {
   "cell_type": "markdown",
   "metadata": {},
   "source": [
    "In this chapter, you learn how to **make your Bokeh plots interactive**. This includes\n",
    "making parts of your plot clickable and adding widgets to your plots. This way, you\n",
    "can create user interfaces that allow your users to interact with your data."
   ]
  },
  {
   "cell_type": "markdown",
   "metadata": {},
   "source": [
    "### Simple interactions: URLs and interactive legends\n",
    "\n",
    "Bokeh allows you to define complex interactions with custom JavaScript callback code.\n",
    "However, there are also several **simple interaction types** that you can use without\n",
    "writing any JavaScript.\n",
    "\n",
    "In this tutorial, you will learn how to use the following interaction types:\n",
    "*  **[OpenURL](11_widgets_interactivity.ipynb#OpenURL)**: You can define URLs that are\n",
    "  opened when a user clicks on a glyph.\n",
    "* **[Interactive legends](11_widgets_interactivity.ipynb#Muting-and-hiding-glyphs)**:\n",
    "  You can make your legend clickable. This will mute or hide the corresponding glyphs."
   ]
  },
  {
   "cell_type": "markdown",
   "metadata": {},
   "source": [
    "#### OpenURL\n",
    "\n",
    "The `OpenURL` class allows you to **define URLs that are opened when a user clicks on a\n",
    "glyph**.\n",
    "\n",
    "Let's create a DataFrame with population data for the world's five largest countries.\n",
    "This DataFrame also includes a Wikipedia URL for each country:"
   ]
  },
  {
   "cell_type": "code",
   "execution_count": null,
   "metadata": {},
   "outputs": [],
   "source": [
    "import pandas as pd\n",
    "\n",
    "population_df = pd.DataFrame(\n",
    "    {\n",
    "        \"country\": [\"China\", \"India\", \"USA\", \"Indonesia\", \"Pakistan\"],\n",
    "        \"population\": [1412600000, 1375586000, 333340028, 275773800, 235825000],\n",
    "        \"wikipedia_url\": [\"https://en.wikipedia.org/wiki/China\", \"https://en.wikipedia.org/wiki/India\", \"https://en.wikipedia.org/wiki/United_States\", \"https://en.wikipedia.org/wiki/Indonesia\", \"https://en.wikipedia.org/wiki/Pakistan\"],\n",
    "    }\n",
    ")\n",
    "population_df"
   ]
  },
  {
   "cell_type": "markdown",
   "metadata": {},
   "source": [
    "Create a bar chart with the population data. Each bar is clickable and opens\n",
    "the corresponding Wikipedia page.\n",
    "\n",
    "This code uses the `OpenURL` class to define the URL that is opened when a user\n",
    "clicks on a bar. \n",
    "\n",
    "The `OpenURL` class takes a `url` parameter that defines the URL\n",
    "template. The template can contain placeholders that are replaced with the values\n",
    "of the data source columns. In this example, the `@wikipedia_url` placeholder is\n",
    "replaced with the value of the `wikipedia_url` column in the DataFrame.\n",
    "\n",
    "To make the bars clickable, you also need to have the tap tool enabled. This is\n",
    "done by adding `\"tap\"` to the `tools` parameter of the `figure()` function."
   ]
  },
  {
   "cell_type": "code",
   "execution_count": null,
   "metadata": {},
   "outputs": [],
   "source": [
    "from bokeh.plotting import figure, show\n",
    "from bokeh.models import NumeralTickFormatter, OpenURL, TapTool, ColumnDataSource\n",
    "\n",
    "p = figure(\n",
    "    x_range=population_df[\"country\"],\n",
    "    height=350,\n",
    "    title=\"Most populous countries\",\n",
    "    tools=\"tap\",  # enable the tap tool to make the bars clickable\n",
    ")\n",
    "p.vbar(x=\"country\", top=\"population\", width=0.9, source=population_df)\n",
    "p.yaxis.formatter = NumeralTickFormatter(format=\"0,0\")\n",
    "\n",
    "# Configure the OpenURL as the tap tool's callback\n",
    "url = \"@wikipedia_url\"  # use the URLs stored in the wikipedia_url column\n",
    "taptool = p.select(type=TapTool)\n",
    "taptool.callback = OpenURL(url=url)  # define the OpenURL object as the tap tool's callback\n",
    "\n",
    "show(p)"
   ]
  },
  {
   "cell_type": "markdown",
   "metadata": {},
   "source": [
    "#### OpenURL example\n",
    "\n",
    "The \"Top 10 carriers by passengers\" plot in the demo dashboard uses OpenURL. You can\n",
    "click on a bar to open the IATA's page for the corresponding airline.\n",
    "\n",
    "The DataFrame for this board contains a `unique_carrier` column. This column contains\n",
    "the IATA code for each airline:"
   ]
  },
  {
   "cell_type": "code",
   "execution_count": null,
   "metadata": {},
   "outputs": [],
   "source": [
    "data.get_biggest_airlines_by_passengers().head()"
   ]
  },
  {
   "cell_type": "markdown",
   "metadata": {},
   "source": [
    "The url for the OpenURL object uses a field to add the code to the IATA URL:\n",
    "\n",
    "```python\n",
    "url = \"https://www.iata.org/en/publications/directories/code-search/?airline.search=@unique_carrier\"\n",
    "```\n",
    "\n",
    "For example: for \"Southwest Airlines Co.\", the IATA code in the `unique_carrier` column\n",
    "is \"WN\". This means that\n",
    "https://www.iata.org/en/publications/directories/code-search/?airline.search=WN will be\n",
    "the URL.\n",
    "\n",
    "The code cell below shows the code for the complete plot, including the OpenURL object:"
   ]
  },
  {
   "cell_type": "code",
   "execution_count": null,
   "metadata": {},
   "outputs": [],
   "source": [
    "from bokeh.models import NumeralTickFormatter, TapTool\n",
    "\n",
    "# load data for ColumnDataSource from demo data set\n",
    "source = ColumnDataSource(data.get_biggest_airlines_by_passengers())\n",
    "\n",
    "# Define tooltips as a list of tuples\n",
    "TOOLTIPS = [\n",
    "    (\"Position\", \"@position\"),\n",
    "    (\"Carrier\", \"@unique_carrier_name\"),\n",
    "    (\"Passengers\", \"@passengers{(0,0)}\"),\n",
    "]\n",
    "\n",
    "# set up a figure with the tooltips to use the TOOLTIPS list\n",
    "largest_carriers_plot = figure(\n",
    "    x_range=source.data[\"unique_carrier_name\"][:10],\n",
    "    title=\"Top 10 carriers by passengers (domestic routes)\",\n",
    "    height=300,\n",
    "    tooltips=TOOLTIPS,\n",
    "    tools=\"tap, hover\",\n",
    "    toolbar_location=None,\n",
    ")\n",
    "\n",
    "# create a vbar renderer with the data from the ColumnDataSource\n",
    "carriers_vbar = largest_carriers_plot.vbar(\n",
    "    x=\"unique_carrier_name\",\n",
    "    top=\"passengers\",\n",
    "    nonselection_alpha=0.8,\n",
    "    source=source,\n",
    "    legend_label=\"Passengers\",\n",
    "    width=0.6,\n",
    ")\n",
    "\n",
    "# customize the appearance of the grid and x-axis\n",
    "largest_carriers_plot.xgrid.grid_line_color = None\n",
    "largest_carriers_plot.yaxis.formatter = NumeralTickFormatter(format=\"0,0\")\n",
    "largest_carriers_plot.xaxis.major_label_orientation = 0.8  # rotate labels by roughly pi/4\n",
    "\n",
    "# Add TapTool to look up airline IATA code on click\n",
    "url = \"https://www.iata.org/en/publications/directories/code-search/?airline.search=@unique_carrier\"\n",
    "taptool = largest_carriers_plot.select(type=TapTool)\n",
    "taptool.callback = OpenURL(url=url)\n",
    "\n",
    "show(largest_carriers_plot)"
   ]
  },
  {
   "cell_type": "markdown",
   "metadata": {},
   "source": [
    "For more information about ``OpenURL``, see [OpenURL](https://docs.bokeh.org/en/latest/docs/user_guide/interaction/js_callbacks.html#openurl) in the user guide."
   ]
  },
  {
   "cell_type": "markdown",
   "metadata": {
    "tags": []
   },
   "source": [
    "#### Muting and hiding glyphs\n",
    "\n",
    "Bokeh also includes a quick way to make a **legend clickable**. This allows you to mute\n",
    "or hide the corresponding glyphs.\n",
    "\n",
    "To make a legend clickable, use the legend's `click_policy` parameter. This parameter\n",
    "can have the following values:\n",
    "\n",
    "* **`mute`**: This mutes the corresponding glyphs. This means that the glyphs are\n",
    "   still visible, but they are grayed out.\n",
    "* **`hide`**: This hides the corresponding glyphs. This means that the glyphs are\n",
    "    not visible anymore.\n",
    "* **`none`**: The legend is not clickable. This is the default value.\n"
   ]
  },
  {
   "cell_type": "markdown",
   "metadata": {},
   "source": [
    "This example uses the [sampledata that comes with Bokeh](https://docs.bokeh.org/en/latest/docs/reference/sampledata.html#bokeh-sampledata).\n",
    "You can download it with the following code:"
   ]
  },
  {
   "cell_type": "code",
   "execution_count": null,
   "metadata": {
    "tags": []
   },
   "outputs": [],
   "source": [
    "import bokeh.sampledata\n",
    "\n",
    "bokeh.sampledata.download()"
   ]
  },
  {
   "cell_type": "markdown",
   "metadata": {},
   "source": [
    "In the code cell below, change the `click_policy` parameter from `\"mute\"` to `\"hide\"`.\n",
    "Rerun the cell and try the different behaviors."
   ]
  },
  {
   "cell_type": "code",
   "execution_count": null,
   "metadata": {},
   "outputs": [],
   "source": [
    "import pandas as pd\n",
    "\n",
    "from bokeh.palettes import Spectral4\n",
    "from bokeh.plotting import figure, show\n",
    "from bokeh.sampledata.stocks import AAPL, GOOG, IBM, MSFT\n",
    "\n",
    "p = figure(width=800, height=250, x_axis_type=\"datetime\")\n",
    "p.title.text = \"Click on legend entries to hide the corresponding lines\"\n",
    "\n",
    "for stocks, name, color in zip([AAPL, IBM, MSFT, GOOG], [\"AAPL\", \"IBM\", \"MSFT\", \"GOOG\"], Spectral4):\n",
    "    df = pd.DataFrame(stocks)\n",
    "    df[\"date\"] = pd.to_datetime(df[\"date\"])\n",
    "    p.line(df[\"date\"], df[\"close\"], line_width=2, color=color, alpha=0.8, legend_label=name)\n",
    "\n",
    "p.legend.location = \"top_left\"\n",
    "p.legend.click_policy = \"hide\"  # 🔁 change to \"mute\" to mute the lines instead of hiding them\n",
    "\n",
    "show(p)"
   ]
  },
  {
   "cell_type": "markdown",
   "metadata": {},
   "source": [
    "#### Interactive legends example\n",
    "\n",
    "The plot \"Distance flown vs. number of passengers, freight, and mail\" is a massive\n",
    "scatter plot with almost 225.000 points. These points use different glyphs for the\n",
    "three different types of data:\n",
    "\n",
    "* circle glyphs for passengers\n",
    "* square glyphs for freight\n",
    "* triangle glyphs for mail\n",
    "\n",
    "The plot's legend uses the `click_policy` parameter set to `\"hide\"`. This means that\n",
    "a user can hide any of the three glyph types by clicking on the corresponding legend.\n",
    "This makes the plot a lot more readable.\n",
    "\n",
    "The following code cell contains the full code for this plot. Due to the large number\n",
    "of points, the plot takes a few seconds to render:"
   ]
  },
  {
   "cell_type": "code",
   "execution_count": null,
   "metadata": {},
   "outputs": [],
   "source": [
    "from bokeh.palettes import Category10\n",
    "\n",
    "# define a list of markers to use for the scatter plot\n",
    "MARKERS = [\"circle\", \"square\", \"triangle\"]\n",
    "\n",
    "source = ColumnDataSource(data.get_distance_df())\n",
    "\n",
    "# set up the tooltips\n",
    "TOOLTIPS = [\n",
    "    (\"Distance\", \"@distance{(0,0)} miles\"),\n",
    "    (\"Route\", \"@origin, @dest\"),\n",
    "    (\"Amount\", \"$y{(0,0)}\"),\n",
    "]\n",
    "\n",
    "# set up the figure\n",
    "distance_plot = figure(\n",
    "    title=\"Distance flown vs. number of passengers, freight, and mail\",\n",
    "    height=300,\n",
    "    sizing_mode=\"stretch_width\",  # use the full width of the parent element\n",
    "    tooltips=TOOLTIPS,\n",
    "    output_backend=\"webgl\",  # use webgl to speed up rendering (https://docs.bokeh.org/en/latest/docs/user_guide/output/webgl.html)\n",
    "    tools=\"pan,box_zoom,reset,save\",\n",
    "    active_drag=\"box_zoom\",  # enable box zoom by default\n",
    ")\n",
    "\n",
    "# loop through the three metrics (\"passengers\", \"freight\", \"mail\") and plot them\n",
    "i = 0\n",
    "for metric in data.metrics:\n",
    "    distance_plot.scatter(\n",
    "        \"distance\",\n",
    "        metric,\n",
    "        source=source,\n",
    "        legend_label=metric.capitalize(),\n",
    "        color=Category10[3][i],  # assign a different color to each metric\n",
    "        marker=MARKERS[i],  # assign a different marker to each metric\n",
    "        alpha=0.5,\n",
    "    )\n",
    "    i += 1\n",
    "\n",
    "# customize plot appearance\n",
    "distance_plot.yaxis.formatter = NumeralTickFormatter(format=\"0,0\")\n",
    "distance_plot.xaxis.axis_label = \"Distance (miles)\"\n",
    "distance_plot.legend.click_policy = \"hide\"  # set the legend click policy to hide\n",
    "\n",
    "show(distance_plot)"
   ]
  },
  {
   "cell_type": "markdown",
   "metadata": {},
   "source": [
    "### Custom interactions: Widgets and JavaScript callbacks\n",
    "\n",
    "The interactive examples you saw so far (OpenURL and interactive legends) are\n",
    "pre-defined interactions. However, Bokeh also allows you to define custom interactions.\n",
    "\n",
    "Bokeh interactions are a complex topic. This tutorial will only cover some basics to get\n",
    "you started. A lot more information is available in the\n",
    "[Interaction](https://docs.bokeh.org/en/latest/docs/user_guide/interaction.html) section\n",
    "of the user guide."
   ]
  },
  {
   "cell_type": "markdown",
   "metadata": {},
   "source": [
    "#### Widgets\n",
    "\n",
    "Before diving into interactions, let's first look at the **interactive elements you can\n",
    "use to build user interfaces**.\n",
    "\n",
    "So far, you have built different plots. However, Bokeh also includes a large library of\n",
    "user interface (UI) elements. These UI elements are called **widgets**.\n",
    "\n",
    "A lot of those widgets are designed to receive user input. For example: a button, a\n",
    "text field, or a slider.\n",
    "\n",
    "All widgets are importable from the `bokeh.models` module. The following code is an\n",
    "example of a CheckboxButtonGroup:"
   ]
  },
  {
   "cell_type": "code",
   "execution_count": null,
   "metadata": {},
   "outputs": [],
   "source": [
    "from bokeh.models import CheckboxButtonGroup\n",
    "\n",
    "LABELS = [\"Option 1\", \"Option 2\", \"Option 3\"]\n",
    "\n",
    "checkbox_button_group = CheckboxButtonGroup(labels=LABELS, active=[0, 1])\n",
    "\n",
    "show(checkbox_button_group)"
   ]
  },
  {
   "cell_type": "markdown",
   "metadata": {},
   "source": [
    "Each widget has its own parameters to customize its behavior. For example, the following\n",
    "parameters are specific for the functionality of a Slider widget:\n",
    "\n",
    "* `start`: The minimum value of the slider.\n",
    "* `end`: The maximum value of the slider.\n",
    "* `step`: The step size by which a user can increase or decrease the value.\n",
    "* `value`: The initial value of the slider.\n",
    "\n",
    "Use the following cell to try different values for these parameters:"
   ]
  },
  {
   "cell_type": "code",
   "execution_count": null,
   "metadata": {},
   "outputs": [],
   "source": [
    "from bokeh.models import Slider\n",
    "\n",
    "# 🔁 change the start, end, value, and step parameters and rerun this cell to see how they affect the slider\n",
    "slider = Slider(start=0, end=10, value=1, step=0.1, title=\"Slider Example\")\n",
    "\n",
    "show(slider)"
   ]
  },
  {
   "cell_type": "markdown",
   "metadata": {},
   "source": [
    "In addition to widgets that receive user input, Bokeh also includes widgets that\n",
    "display information. For example:\n",
    "\n",
    "* The `Paragraph` widget displays text.\n",
    "* The `Div` widget displays HTML content.\n",
    "\n",
    "The following code cell contains an example of a `Div` widget:"
   ]
  },
  {
   "cell_type": "code",
   "execution_count": null,
   "metadata": {},
   "outputs": [],
   "source": [
    "from bokeh.models import Div\n",
    "\n",
    "div = Div(\n",
    "    text=r\"\"\"\n",
    "<div style=\"background-color: darkolivegreen; padding:10px;\">\n",
    "    <h2>Bokeh's Div widget</h2>\n",
    "    <p> Bokeh's Div widget uses <a href=\"https://en.wikipedia.org/wiki/HTML\">HTML</a> to display text and other information.</p target=\"_blank\">\n",
    "    <p> It is one of the elements that support <a href=\"https://docs.bokeh.org/en/latest/docs/user_guide/styling/mathtext.html\">LaTeX and MathML math expressions</a>. For example:</p target=\"_blank\">\n",
    "    <p>$$\\sin^2(x) + \\cos^2(x) = 1$$</p>\n",
    "</div>\n",
    "\"\"\",\n",
    ")\n",
    "\n",
    "show(div)"
   ]
  },
  {
   "cell_type": "markdown",
   "metadata": {},
   "source": [
    "Bokeh handles widgets in a similar way to plots. You already saw that you use the same\n",
    "`show()` function to display widgets. Widgets become much more useful when you use them\n",
    "in [layouts](10_layouts.ipynb).\n",
    "The following example combines an explanation in a Div widget with two\n",
    "plots:"
   ]
  },
  {
   "cell_type": "code",
   "execution_count": null,
   "metadata": {},
   "outputs": [],
   "source": [
    "import numpy as np\n",
    "from bokeh.layouts import layout\n",
    "\n",
    "# create a div widget with explanatory text\n",
    "div = Div(\n",
    "    text=\"\"\"\n",
    "<h1>Sine and cosine waves</h1>\n",
    "<p>The main difference between the sine and cosine functions is that the sine function\n",
    "has a phase shift of 90 degrees, while the cosine function has a phase shift of 0 degrees.\n",
    "This means that the sine function starts at a maximum value and oscillates between\n",
    "positive and negative values, while the cosine function starts at a minimum value and\n",
    "oscillates between 0 and a positive maximum value.</p>\n",
    "\"\"\"\n",
    ")\n",
    "\n",
    "# create a plot demonstrating a sine wave\n",
    "p1 = figure(height=300)\n",
    "x = np.linspace(0, 10, 100)\n",
    "y = np.sin(x)\n",
    "p1.line(x, y, line_width=7, line_color=\"orange\")\n",
    "p1.xaxis.fixed_location = 0\n",
    "\n",
    "# create a plot demonstrating a cosine wave\n",
    "p2 = figure(height=300)\n",
    "y = np.cos(x)\n",
    "p2.line(x, y, line_width=7, line_color=\"darkgreen\")\n",
    "p2.xaxis.fixed_location = 0\n",
    "\n",
    "# define the layout\n",
    "layout = layout(\n",
    "    [\n",
    "        [div],\n",
    "        [p1, p2],\n",
    "    ],\n",
    "    sizing_mode=\"stretch_width\",\n",
    ")\n",
    "\n",
    "show(layout)"
   ]
  },
  {
   "cell_type": "markdown",
   "metadata": {},
   "source": [
    "#### Pre-defined callbacks\n",
    "\n",
    "Bokeh uses callbacks to **react to user interactions**. A callback is a piece of code\n",
    "that is **executed when a user interacts with a widget or a plot**.\n",
    "\n",
    "Bokeh includes some pre-defined callbacks that you can use without writing any\n",
    "JavaScript. For example:\n",
    "\n",
    "* Use the `js_link()` method to link the properties of two objects.\n",
    "* Use a `SetValue` object to set the value of a property in one object from\n",
    "  another object."
   ]
  },
  {
   "cell_type": "markdown",
   "metadata": {},
   "source": [
    "##### Linking properties with `js_link()`\n",
    "\n",
    "The `js_link()` method allows you to **control a property of one object with input from\n",
    "another object**.\n",
    "\n",
    "For example, you can use `js_link()` to link the value of a slider to the ``size``\n",
    "property of a circle glyph. This means that the user can change the diameter of the\n",
    "circle by moving the slider:"
   ]
  },
  {
   "cell_type": "code",
   "execution_count": null,
   "metadata": {},
   "outputs": [],
   "source": [
    "from bokeh.layouts import column\n",
    "from bokeh.models import Slider\n",
    "\n",
    "plot = figure(width=400, height=200)\n",
    "circles = plot.scatter([1, 2, 3, 4, 5], [3, 2, 5, 6, 4], size=25, alpha=0.5)\n",
    "\n",
    "slider = Slider(start=1, end=100, step=1, value=25, title=\"Circle diameter\", sizing_mode=\"stretch_width\")\n",
    "slider.js_link(\"value\", circles.glyph, \"size\")  # add a js_link between the slider and the circle size\n",
    "\n",
    "show(column(slider, plot))"
   ]
  },
  {
   "cell_type": "markdown",
   "metadata": {},
   "source": [
    "Let's walk through the details of how this works:\n",
    "\n",
    "For this example, it is important to **assign a variable name to the circle\n",
    "glyphs**.\n",
    "In most previous examples, you just called a method to add a glyph to a plot.\n",
    "For example: `p.scatter(x=x, y=y)`.\n",
    "In order for `js_link()` to work, you need to be able to reference the glyph.\n",
    "For this reason, you need to assign a variable name when you call the glyph method.\n",
    "For example: `circles = p.scatter(x=x, y=y)`.\n",
    "This allows you to **reference this glyph renderer later in your code**. The glyphs\n",
    "themselves are accessible through the **`glyph` attribute of a glyph renderer**.\n",
    "For example: `circles.glyph`.\n",
    "\n",
    "Now that you can access the circle glyph and its properties, let's look at the\n",
    "line where you call the `js_link()` method:\n",
    "\n",
    "```python\n",
    "slider.js_link(\"value\", circles.glyph, \"size\")\n",
    "```\n",
    "\n",
    "First of all, the `js_link()` method is called on the object you want to read the data\n",
    "from. This is the **source object**.\n",
    "In this case, you want to read data from the ``slider`` object.\n",
    "This is why the `js_link()` method is called on ``slider``.\n",
    "\n",
    "The `js_link()` method takes three parameters:\n",
    "1. The name of the **property to read from the source object**. In this case, you want to\n",
    "   read the current value of the slider. This value is stored in the slider's ``value``\n",
    "   property.\n",
    "2. The object you want to write data to. This is the **target object**. In this case,\n",
    "   you are writing values to the ``circle`` glyph object. The properties of a glyph\n",
    "   renderer's glyphs are accessible through the ``glyph`` attribute. This is why you use\n",
    "   ``circles.glyph``.\n",
    "3. The specific **property of the target object you want to write to**. In this case,\n",
    "   you want to change the ``size`` property of the circle glyphs. This is why you use\n",
    "   ``\"size\"``.\n",
    "\n",
    "For more information on the `js_link()` method, see\n",
    "[Linked properties](https://docs.bokeh.org/en/latest/docs/user_guide/interaction/linking.html#linked-properties)\n",
    "in the user guide."
   ]
  },
  {
   "cell_type": "markdown",
   "metadata": {},
   "source": [
    "##### Setting values with `SetValue`\n",
    "\n",
    "The `js_link()` method continuously updates the values of the target object every time\n",
    "the linked value of the source object changes.\n",
    "\n",
    "The `SetValue` object works in a similar way. The main difference is that it is **event-\n",
    "driven**.\n",
    "\n",
    "Many Bokeh objects emit events. For example, when a user clicks on a button. You can\n",
    "define actions that happen when a specific event is emitted.\n",
    "\n",
    "The `SetValue` object is one of those actions that you can link to an event.\n",
    "\n",
    "In the following example, you use the `SetValue` object to change the value of the\n",
    "Button's ``label`` property from \"Foo\" to \"Bar\". This event is triggered when a user\n",
    "clicks on the button:"
   ]
  },
  {
   "cell_type": "code",
   "execution_count": null,
   "metadata": {},
   "outputs": [],
   "source": [
    "from bokeh.io import show\n",
    "from bokeh.models import Button, SetValue\n",
    "\n",
    "button = Button(label=\"Foo\", button_type=\"primary\")\n",
    "action = SetValue(button, \"label\", \"Bar\")\n",
    "button.js_on_event(\"button_click\", action)\n",
    "\n",
    "show(button)"
   ]
  },
  {
   "cell_type": "markdown",
   "metadata": {},
   "source": [
    "Let's look at the details of how SetValue works in this example:\n",
    "\n",
    "First, you **create a Button object** and assign it to the variable ``button``.\n",
    "\n",
    "Second, you **define the action you want to perform** when an event happens.\n",
    "In this case, you use a ``SetValue`` object to define the action.\n",
    "The SetValue object takes three parameters:\n",
    "\n",
    "1. The **object you want to change a property of**. In this case, you want to change the\n",
    "    value of the ``button`` object.\n",
    "2. The **property of the object you want to change**. In this case, you want to change\n",
    "    the value of the ``label`` property of the button.\n",
    "3. The **value you want to update the property to**. In this case, you want to change\n",
    "    the value of the ``label`` property to ``\"Bar\"``.\n",
    "\n",
    "Next, you **call the ``js_on_event()`` method on this button object**.\n",
    "This method enables event-driven actions on this button object.\n",
    "The ``js_on_event()`` method takes two parameters:\n",
    "1. The name of the event you want to listen to. In this case, you want to listen to\n",
    "   the ``\"button_click\"`` event. This event is emitted when a user clicks on the button.\n",
    "2. The action you want to perform when the event is emitted. In this case, you use a\n",
    "   `SetValue` object to define the action.\n",
    "\n",
    "For a list of all events available in Bokeh, see\n",
    "[bokeh.events](https://docs.bokeh.org/en/latest/docs/reference/events.html) in the\n",
    "reference guide."
   ]
  },
  {
   "cell_type": "markdown",
   "metadata": {},
   "source": [
    "#### Custom JavaScript callbacks\n",
    "\n",
    "The `SetValue` object you just saw is a pre-defined callback. It has a clear structure\n",
    "and accomplishes a specific task: change a specific value of a specific object.\n",
    "\n",
    "In some cases, you might want to **define a more flexible callback**.\n",
    "This is where the `CustomJS` object comes in.\n",
    "You can use it to define callbacks, just like you did with `SetValue`.\n",
    "But with `CustomJS`, you can use your own JavaScript code to define a completely custom\n",
    "callback.\n",
    "\n",
    "The following example uses a `CustomJS` object to display a JavaScript alert when a user\n",
    "clicks on a button:"
   ]
  },
  {
   "cell_type": "code",
   "execution_count": null,
   "metadata": {},
   "outputs": [],
   "source": [
    "from bokeh.models import Button, CustomJS\n",
    "\n",
    "button = Button(label=\"Click this button\")  # define a button\n",
    "action = CustomJS(code=\"alert('You clicked the button!')\")  # define an action with custom JavaScript code\n",
    "button.js_on_event(\"button_click\", action)  # add the action to the button's \"button_click\" event\n",
    "\n",
    "show(button)"
   ]
  },
  {
   "cell_type": "markdown",
   "metadata": {},
   "source": [
    "Bokeh's `CustomJS` callbacks become even more powerful when you use its `args`\n",
    "parameter. This parameter allows you to pass additional arguments to your JavaScript\n",
    "code. The `args` parameter takes a dictionary as an argument:\n",
    "\n",
    "* The keys of this dictionary are the names of the arguments you want to pass to your\n",
    "  JavaScript code.\n",
    "* The values of this dictionary are the Bokeh objects you want to pass to your\n",
    "JavaScript code.\n",
    "\n",
    "You can pass any Bokeh object to your JavaScript code, including plots or a\n",
    "ColumnDataSource. This way, you can interact with Bokeh objects from your JavaScript code.\n",
    "\n",
    "You have already learned about the ``js_on_event()`` method. This method allows you\n",
    "to perform actions when a specific event happens. Bokeh has a second method to trigger\n",
    "actions: the ``js_on_change()`` method. It works very similarly to ``js_on_event()``.\n",
    "However, it allows you to trigger actions when a specific property of a Bokeh object\n",
    "changes.\n",
    "\n",
    "In the following example, you use the ``js_on_change()`` method to trigger custom\n",
    "JavaScript code when the ``value`` property of a slider changes. This custom\n",
    "JavaScript code is defined in the ``CustomJS`` object. It receives the plot's\n",
    "ColumnDataSource as an argument. This way, the JavaScript code can access and\n",
    "manipulate the data in the plot:"
   ]
  },
  {
   "cell_type": "code",
   "execution_count": null,
   "metadata": {},
   "outputs": [],
   "source": [
    "from bokeh.layouts import column\n",
    "from bokeh.models import ColumnDataSource, CustomJS, Slider\n",
    "\n",
    "x = [x * 0.005 for x in range(0, 200)]\n",
    "y = x\n",
    "\n",
    "# create a ColumnDataSource called \"source\"\n",
    "source = ColumnDataSource(data=dict(x=x, y=y))\n",
    "\n",
    "# set up the figure\n",
    "plot = figure(width=400, height=200, x_range=(0, 1), y_range=(0, 1))\n",
    "\n",
    "# set up a line renderer using the \"source\" ColumnDataSource\n",
    "plot.line(\"x\", \"y\", source=source, line_width=3, line_alpha=0.6)\n",
    "\n",
    "# Set up a CustomJS callback\n",
    "callback = CustomJS(\n",
    "    args=dict(source=source),  # pass the ColumnDataSource as an argument to the callback so that it can be modified by the JavaScript code\n",
    "    code=\"\"\"\n",
    "const f = this.value  // in JavaScript, the model that triggered the callback is accessible as the \"this\" variable\n",
    "const x = source.data.x  // the ColumnDataSource is accessible as the source variable that was passed as the args argument to the CustomJS callback\n",
    "const y = Array.from(x, (x) => Math.pow(x, f))\n",
    "source.data = { x, y }  // update the ColumnDataSource with the new data\n",
    "    \"\"\",\n",
    ")\n",
    "\n",
    "slider = Slider(start=0.1, end=4, value=1, step=0.1, title=\"power\", sizing_mode=\"stretch_width\")\n",
    "slider.js_on_change(\"value\", callback)\n",
    "\n",
    "layout = column(slider, plot)\n",
    "\n",
    "show(layout)"
   ]
  },
  {
   "cell_type": "markdown",
   "metadata": {},
   "source": [
    "For more information on the `CustomJS` object, see\n",
    "[CustomJS callbacks](https://docs.bokeh.org/en/latest/docs/user_guide/interaction/js_callbacks.html#customjs-callbacks)\n",
    "in the user guide.\n",
    "\n",
    "More examples are available in the Bokeh gallery, such as the\n",
    "[slider](https://docs.bokeh.org/en/latest/docs/examples/interaction/js_callbacks/slider.html),\n",
    "[color_sliders](https://docs.bokeh.org/en/latest/docs/examples/interaction/js_callbacks/color_sliders.html)\n",
    ", or the [customjs_lasso_mean](https://docs.bokeh.org/en/latest/docs/examples/interaction/js_callbacks/customjs_lasso_mean.html)\n",
    "examples."
   ]
  },
  {
   "cell_type": "markdown",
   "metadata": {},
   "source": [
    "### CustomJS example\n",
    "\n",
    "The \"Top carriers by passengers\" plot in the airline demo dashboard contains a CustomJS\n",
    "callback. It also uses the OpenURL callback.\n",
    "\n",
    "The plot is combined with a slider widget. This slider allows the user to\n",
    "change how many carriers to consider. The CustomJS callback is triggered whenever\n",
    "the slider's value changes. It updates the plot's ``x_range`` to display additional or\n",
    "fewer carriers.\n",
    "\n",
    "The following cell contains the full code for this plot. This includes the CustomJS\n",
    "callback and the OpenURL callback:"
   ]
  },
  {
   "cell_type": "code",
   "execution_count": null,
   "metadata": {},
   "outputs": [],
   "source": [
    "# define the initial number of carriers to display\n",
    "initial_carriers = 10\n",
    "\n",
    "# read date from the demo data set\n",
    "source = ColumnDataSource(data.get_biggest_airlines_by_passengers())\n",
    "\n",
    "# set up tooltips\n",
    "TOOLTIPS = [\n",
    "    (\"Position\", \"@position\"),\n",
    "    (\"Carrier\", \"@unique_carrier_name\"),\n",
    "    (\"Passengers\", \"@passengers{(0,0)}\"),\n",
    "]\n",
    "\n",
    "# set up the figure\n",
    "largest_carriers_plot = figure(\n",
    "    x_range=source.data[\"unique_carrier_name\"][:initial_carriers],  # initially, display the top 10 carriers as the plot's x_range\n",
    "    title=f\"Top {initial_carriers} carriers by passengers (domestic routes)\",  # initially, display 10 as the number of carriers in the title\n",
    "    height=300,\n",
    "    sizing_mode=\"stretch_width\",\n",
    "    tooltips=TOOLTIPS,\n",
    "    tools=\"tap, hover\",\n",
    "    toolbar_location=None,\n",
    ")\n",
    "\n",
    "# add a vbar renderer\n",
    "carriers_vbar = largest_carriers_plot.vbar(\n",
    "    x=\"unique_carrier_name\",\n",
    "    top=\"passengers\",\n",
    "    nonselection_alpha=0.8,\n",
    "    source=source,\n",
    "    legend_label=\"Passengers\",\n",
    "    width=0.6,\n",
    ")\n",
    "\n",
    "largest_carriers_plot.xgrid.grid_line_color = None  # remove grid lines\n",
    "largest_carriers_plot.yaxis.formatter = NumeralTickFormatter(format=\"0,0\")  # format y-axis ticks\n",
    "largest_carriers_plot.xaxis.major_label_orientation = 0.8  # rotate labels by roughly pi/4\n",
    "\n",
    "# Add TapTool to look up airline IATA code\n",
    "url = \"https://www.iata.org/en/publications/directories/code-search/?airline.search=@unique_carrier\"\n",
    "taptool = largest_carriers_plot.select(type=TapTool)\n",
    "taptool.callback = OpenURL(url=url)\n",
    "\n",
    "# Set up Slider widget\n",
    "number_slider = Slider(\n",
    "    start=1,\n",
    "    end=25,\n",
    "    value=len(largest_carriers_plot.x_range.factors),\n",
    "    title=\"Number of airlines to consider\",\n",
    ")\n",
    "\n",
    "# Set up CustomJS callback\n",
    "custom_js = CustomJS(\n",
    "    args={  # the args parameter is a dictionary of the variables that will be accessible in the JavaScript code\n",
    "        \"largest_carriers_plot\": largest_carriers_plot,  # the first variable will be called \"largest_carriers_plot\" and links to the largest_carriers_plot Python object\n",
    "        \"carriers\": source.data[\"unique_carrier_name\"],  # the second variable will be called \"carriers\" and links to list of carrier names in the source ColumnDataSource\n",
    "    },\n",
    "    code=\"\"\"\n",
    "    largest_carriers_plot.title.text = \"Top \" + this.value + \" carriers by passenger (domestic routes)\"  // update the plot title using the slider's value (this.value)\n",
    "    largest_carriers_plot.x_range.factors = carriers.slice(0,this.value)  // update the plot's x_range using data from the list of carrier names and the slider's value (this.value)\n",
    "    \"\"\",\n",
    ")\n",
    "\n",
    "# Add callback to slider widget\n",
    "number_slider.js_on_change(\"value\", custom_js)\n",
    "\n",
    "# assemble the layout\n",
    "largest_carriers_layout = column([number_slider, largest_carriers_plot], sizing_mode=\"stretch_width\")\n",
    "\n",
    "show(largest_carriers_layout)"
   ]
  },
  {
   "cell_type": "markdown",
   "metadata": {},
   "source": [
    "# Next section\n",
    "\n",
    "<a href=\"12_demo_dashboard.ipynb\" target=\"_blank\">\n",
    "    <img src=\"assets/arrow.svg\" alt=\"Next section\" width=\"100\" align=\"right\">\n",
    "</a>\n",
    "\n",
    "In the [next chapter](12_demo_dashboard.ipynb), you will combine all the concepts you\n",
    "have learned in this tutorial to build a complete dashboard."
   ]
  }
 ],
 "metadata": {
  "kernelspec": {
   "display_name": "Python 3 (ipykernel)",
   "language": "python",
   "name": "python3"
  },
  "language_info": {
   "codemirror_mode": {
    "name": "ipython",
    "version": 3
   },
   "file_extension": ".py",
   "mimetype": "text/x-python",
   "name": "python",
   "nbconvert_exporter": "python",
   "pygments_lexer": "ipython3",
   "version": "3.12.0"
  },
  "vscode": {
   "interpreter": {
    "hash": "0494a81e5f69860dcb844ce8e12eb9c88a7e813ddbfb0fbade72137f5ce45437"
   }
  }
 },
 "nbformat": 4,
 "nbformat_minor": 4
}
