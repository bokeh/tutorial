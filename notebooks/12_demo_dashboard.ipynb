{
 "cells": [
  {
   "cell_type": "markdown",
   "metadata": {},
   "source": [
    "<table style=\"float:left; border:none\">\n",
    "   <tr style=\"border:none\">\n",
    "       <td style=\"border:none\">\n",
    "           <a href=\"https://bokeh.org/\" target=\"_blank\">\n",
    "           <img\n",
    "               src=\"assets/bokeh-transparent.png\"\n",
    "               style=\"width:50px\"\n",
    "           >\n",
    "           </a>\n",
    "       </td>\n",
    "       <td style=\"border:none\">\n",
    "           <h1>Bokeh Tutorial</h1>\n",
    "       </td>\n",
    "   </tr>\n",
    "</table>\n",
    "\n",
    "<div style=\"float:right;\"><a href=\"TOC.ipynb\" target=\"_blank\">Table of contents</a><br><h2>12 Building the demo dashboard</h2></div>"
   ]
  },
  {
   "cell_type": "code",
   "execution_count": null,
   "metadata": {},
   "outputs": [],
   "source": [
    "# load tutorial data\n",
    "from tutorial_data import data"
   ]
  },
  {
   "cell_type": "code",
   "execution_count": null,
   "metadata": {},
   "outputs": [],
   "source": [
    "# activate notebook output\n",
    "from bokeh.io import show, output_notebook\n",
    "\n",
    "output_notebook()"
   ]
  },
  {
   "cell_type": "markdown",
   "metadata": {},
   "source": [
    "In this chapter, you will **combine all the concepts you have learned in the previous\n",
    "chapters** to build the [dashboard you saw in the introduction](01_introduction.ipynb#What's-in-this-tutorial).\n",
    "\n",
    "Each of the following sections contains links to previous chapters. These links take you\n",
    "to where these concepts were first introduced. If you are not familiar with a\n",
    "concept or if you need a refresher, you should click those links and read\n",
    "those chapters first."
   ]
  },
  {
   "cell_type": "markdown",
   "metadata": {},
   "source": [
    "### 12.1 The dashboard header\n",
    "\n",
    "The first element of the demo dashboard is the header.\n",
    "\n",
    "The header is a [Div widget](11_widgets_interactivity.ipynb#widgets).\n",
    "It contains the title and some basic information about the data in the dashboard.\n",
    "\n",
    "The head Div element uses the following two parameters:\n",
    "\n",
    "* `text`: A HTML string with the text to display in the Div element.\n",
    "* `sizing_mode`: The [sizing mode](10_layouts.ipynb#Sizing-modes) of the Div element. In this case, it is set to\n",
    "  `stretch_width` to make the Div element stretch to the full width of the\n",
    "  dashboard.\n",
    "\n",
    "This is the code to create the header Div element:"
   ]
  },
  {
   "cell_type": "code",
   "execution_count": null,
   "metadata": {},
   "outputs": [],
   "source": [
    "from bokeh.models import Div\n",
    "\n",
    "header_div = Div(\n",
    "    text=\"\"\"\n",
    "<h1>US domestic air carriers</h1>\n",
    "<p>Data: Bureau of Transportation Statistics, <a href=\"https://transtats.bts.gov/DL_SelectFields.asp?gnoyr_VQ=FIL&QO_fu146_anzr=Nv4%20Pn44vr45\" target=\"_blank\">Air Carriers: T-100 Domestic Market (U.S. Carriers)</a></p target=\"_blank\">\n",
    "\"\"\",\n",
    "    sizing_mode=\"stretch_width\",\n",
    ")\n",
    "\n",
    "show(header_div)"
   ]
  },
  {
   "cell_type": "markdown",
   "metadata": {},
   "source": [
    "### 12.2 Biggest carriers (bar chart)\n",
    "\n",
    "The first plot in the dashboard is a\n",
    "[bar chart](04_basic_plots.ipynb#Categorical_data_in_bar_charts).\n",
    "The bar chart shows the biggest carriers by number of passengers transported. The bar\n",
    "chart has three interactive features:\n",
    "\n",
    "* The user can use a [slider widget](11_widgets_interactivity.ipynb#Widgets) to select\n",
    "    how many carriers to display in the bar chart.\n",
    "* The user can click on a bar in the cart. This opens the IATA website with information\n",
    "    about the selected carrier using an [OpenURL callback](11_widgets_interactivity.ipynb#OpenURL).\n",
    "* The user can hover over a bar in the chart. Additional information is displayed in a\n",
    "    [tooltip](08_plot_tools.ipynb#HoverTool-and-tooltips).\n"
   ]
  },
  {
   "cell_type": "markdown",
   "metadata": {},
   "source": [
    "#### 12.2.1 Biggest carriers: Data review\n",
    "\n",
    "Before diving into the code, let's take a look at the underlying DataFrame:"
   ]
  },
  {
   "cell_type": "code",
   "execution_count": null,
   "metadata": {},
   "outputs": [],
   "source": [
    "df = data.get_biggest_airlines_by_passengers()\n",
    "df.head()"
   ]
  },
  {
   "cell_type": "markdown",
   "metadata": {},
   "source": [
    "The data contains the following columns:\n",
    "* `unique_carrier_name`: The full name of the carrier.\n",
    "* `unique_carrier`: The IATA code of the carrier.\n",
    "* `passengers`: The total number of passengers transported by the carrier in 2021\n",
    "    (domestic flights)\n",
    "* `position`: The ranking of the carrier by number of passengers transported."
   ]
  },
  {
   "cell_type": "markdown",
   "metadata": {},
   "source": [
    "#### 12.2.2 Biggest carriers: Step-by-step code walkthrough\n",
    "\n",
    "The code below is the complete code to create the \"Top carriers by passengers\" plot. It\n",
    "consists of the following elements:"
   ]
  },
  {
   "cell_type": "markdown",
   "metadata": {},
   "source": [
    "* You begin by importing various building blocks from the `bokeh.models` module:"
   ]
  },
  {
   "cell_type": "code",
   "execution_count": null,
   "metadata": {},
   "outputs": [],
   "source": [
    "from bokeh.models import ColumnDataSource, NumeralTickFormatter, OpenURL, TapTool, Slider, CustomJS\n",
    "from bokeh.layouts import column\n",
    "from bokeh.plotting import figure"
   ]
  },
  {
   "cell_type": "markdown",
   "metadata": {},
   "source": [
    "* Define an **initial number of carriers to display**. This number will later\n",
    "    be changed by the Slider widget:"
   ]
  },
  {
   "cell_type": "code",
   "execution_count": null,
   "metadata": {},
   "outputs": [],
   "source": [
    "# define the initial number of carriers to display\n",
    "initial_carriers = 10"
   ]
  },
  {
   "cell_type": "markdown",
   "metadata": {},
   "source": [
    "* Create a **[ColumnDataSource](06_data_sources.ipynb) object**. You load this data from the demo data set\n",
    "    (`data`)."
   ]
  },
  {
   "cell_type": "code",
   "execution_count": null,
   "metadata": {},
   "outputs": [],
   "source": [
    "# read date from the demo data set\n",
    "source = ColumnDataSource(data.get_biggest_airlines_by_passengers())"
   ]
  },
  {
   "cell_type": "markdown",
   "metadata": {},
   "source": [
    "- Before setting up the figure, you **define the [tooltip](08_plot_tools.ipynb#HoverTool-and-tooltips) contents**. \n",
    "    You'll use this ``TOOLTIPS`` list when creating the figure."
   ]
  },
  {
   "cell_type": "code",
   "execution_count": null,
   "metadata": {},
   "outputs": [],
   "source": [
    "# set up tooltips\n",
    "TOOLTIPS = [\n",
    "    (\"Position\", \"@position\"),\n",
    "    (\"Carrier\", \"@unique_carrier_name\"),\n",
    "    (\"Passengers\", \"@passengers{(0,0)}\"),\n",
    "]"
   ]
  },
  {
   "cell_type": "markdown",
   "metadata": {},
   "source": [
    "- Define a **[figure](04_basic_plots.ipynb#Basic-plot-setup)** called `largest_carriers_plot`. This includes the following\n",
    "    parameters:\n",
    "    - for the figure's ``x_range``, you use the carrier names from the\n",
    "    `unique_carrier_name` column. The ColumnDataSource contains more than 10 carriers,\n",
    "    so you limit the ``x_range`` to the first 10 carriers.\n",
    "    - You define a ``title`` for the plot. This title includes the ``initial_carriers``\n",
    "        variable\n",
    "    - You define a height and set the [sizing mode](10_layouts.ipynb#Sizing-modes) to `stretch_width`. This means that the\n",
    "        figure will stretch to the full width it has available in the layout.\n",
    "    - You add the TOOLTIPS list to the figure.\n",
    "    - You set the [toolbar location](08_plot_tools.ipynb#General-toolbar-configuration) to ``None``. This makes the toolbar invisible."
   ]
  },
  {
   "cell_type": "code",
   "execution_count": null,
   "metadata": {},
   "outputs": [],
   "source": [
    "# set up the figure\n",
    "largest_carriers_plot = figure(\n",
    "    x_range=source.data[\"unique_carrier_name\"][:initial_carriers],  # initially, display the top 10 carriers as the plot's x_range\n",
    "    title=f\"Top {initial_carriers} carriers by passengers (domestic routes)\",  # initially, display 10 as the number of carriers in the title\n",
    "    height=300,\n",
    "    sizing_mode=\"stretch_width\",\n",
    "    tooltips=TOOLTIPS,\n",
    "    toolbar_location=None,\n",
    ")"
   ]
  },
  {
   "cell_type": "markdown",
   "metadata": {},
   "source": [
    "* Use the ``vbar`` method to [define the bars](04_basic_plots.ipynb#Categorical-data-in-bar-charts).\n",
    "    This includes the following parameters:\n",
    "    * The ``x`` coordinates of the bars are the carrier names from the `unique_carrier_name`\n",
    "        column.\n",
    "    * The vbar's ``top`` values are the number of passengers from the `passengers` column.\n",
    "    * Setting ``nonselection_alpha=0.8`` is relevant when a user clicks on a bar to open\n",
    "        the IATA website. This parameter makes all non-clicked (i.e. non-selected) bars\n",
    "        semi-transparent. This way, a user can easily see which bar was clicked.\n",
    "    * The data ``source`` for this renderer is the ColumnDataSource object called `source`.\n",
    "    * Set the ``legend_label`` to \"Passengers\". This way, Bokeh will automatically generate\n",
    "        a legend for the plot.\n",
    "    * The vbars have a ``width`` of 0.6."
   ]
  },
  {
   "cell_type": "code",
   "execution_count": null,
   "metadata": {},
   "outputs": [],
   "source": [
    "# add a vbar renderer\n",
    "carriers_vbar = largest_carriers_plot.vbar(\n",
    "    x=\"unique_carrier_name\",\n",
    "    top=\"passengers\",\n",
    "    nonselection_alpha=0.8,\n",
    "    source=source,\n",
    "    legend_label=\"Passengers\",\n",
    "    width=0.6,\n",
    ")"
   ]
  },
  {
   "cell_type": "markdown",
   "metadata": {},
   "source": [
    "* Tweak the plot's appearance:"
   ]
  },
  {
   "cell_type": "code",
   "execution_count": null,
   "metadata": {},
   "outputs": [],
   "source": [
    "# customize plot appearance\n",
    "largest_carriers_plot.xgrid.grid_line_color = None  # remove grid lines\n",
    "largest_carriers_plot.yaxis.formatter = NumeralTickFormatter(format=\"0,0\")  # format y-axis ticks\n",
    "largest_carriers_plot.xaxis.major_label_orientation = 0.8  # rotate labels by roughly pi/4"
   ]
  },
  {
   "cell_type": "markdown",
   "metadata": {},
   "source": [
    "* Add a TapTool to look up airline IATA code. \n",
    "    Combined with an [OpenURL callback](11_widgets_interactivity.ipynb#OpenURL), a user\n",
    "    can click on any of the bars in the plot.\n",
    "    This opens the IATA website with information about the selected carrier.\n",
    "\n",
    "    The url for each carrier is constructed with the IATA code from the `unique_carrier`\n",
    "    column.\n",
    "    Use an [OpenURL callback](11_widgets_interactivity.ipynb#OpenURL) to open the IATA\n",
    "    website."
   ]
  },
  {
   "cell_type": "code",
   "execution_count": null,
   "metadata": {},
   "outputs": [],
   "source": [
    "# Add TapTool to look up airline IATA code\n",
    "url = \"https://www.iata.org/en/publications/directories/code-search/?airline.search=@unique_carrier\"\n",
    "taptool = largest_carriers_plot.select(type=TapTool)\n",
    "taptool.callback = OpenURL(url=url)"
   ]
  },
  {
   "cell_type": "markdown",
   "metadata": {},
   "source": [
    "* Define a [slider widget](11_widgets_interactivity.ipynb#Widgets) called `number_slider`.\n",
    "    This includes the following parameters:\n",
    "    * The slider's ``start`` value is 1. This means that the lowest possible value for\n",
    "        the slider is 1.\n",
    "    * The slider's ``end`` value is 25. This is the maximum number of carriers a user\n",
    "        can display.\n",
    "    * The slider's ``value`` is the initial number of carriers to display. This value\n",
    "        is read from `len(largest_carriers_plot.x_range.factors)`. This means the slider\n",
    "        uses the number of carriers in the largest_carriers_plot `x_range` as its\n",
    "        initial value. This value is set to 10 in the code above.\n",
    "    * The slider's ``title`` is \"Number of airlines to consider\".\n",
    "    * The slider's ``width`` is 400.\n",
    "    * The slider's [sizing mode](10_layouts.ipynb#Sizing-modes) is set to `stretch_width`. This makes the slider\n",
    "        stretch to the maximum available width."
   ]
  },
  {
   "cell_type": "code",
   "execution_count": null,
   "metadata": {},
   "outputs": [],
   "source": [
    "# Set up Slider widget\n",
    "number_slider = Slider(\n",
    "    start=1,\n",
    "    end=25,\n",
    "    value=len(largest_carriers_plot.x_range.factors),\n",
    "    title=\"Number of airlines to consider\",\n",
    "    sizing_mode=\"stretch_width\",\n",
    ")"
   ]
  },
  {
   "cell_type": "markdown",
   "metadata": {},
   "source": [
    "* Define a [CustomJS callback](11_widgets_interactivity.ipynb#Custom-JavaScript-callbacks)\n",
    "    to link the slider to the bar chart.\n",
    "    This callback includes the following parameters:\n",
    "    * The ``args`` parameter makes the following elements accessible from the JavaScript\n",
    "        code:\n",
    "        * `largest_carriers_plot`, the bar chart plot object.\n",
    "        * `source.data[\"unique_carrier_name\"]`, the carrier names from the ColumnDataSource\n",
    "            object.\n",
    "    * The ``code`` parameter contains the custom JavaScript code. This code updates\n",
    "        the bar chart based on the slider's value."
   ]
  },
  {
   "cell_type": "code",
   "execution_count": null,
   "metadata": {},
   "outputs": [],
   "source": [
    "# Set up CustomJS callback\n",
    "custom_js = CustomJS(\n",
    "    args={  # the args parameter is a dictionary of the variables that will be accessible in the JavaScript code\n",
    "        \"largest_carriers_plot\": largest_carriers_plot,  # the first variable will be called \"largest_carriers_plot\" and links to the largest_carriers_plot Python object\n",
    "        \"carriers\": source.data[\"unique_carrier_name\"],  # the second variable will be called \"carriers\" and links to list of carrier names in the source ColumnDataSource\n",
    "    },\n",
    "    code=\"\"\"\n",
    "    largest_carriers_plot.title.text = \"Top \" + this.value + \" carriers by passenger (domestic routes)\"  // update the plot title using the slider's value (this.value)\n",
    "    largest_carriers_plot.x_range.factors = carriers.slice(0,this.value)  // update the plot's x_range using data from the list of carrier names and the slider's value (this.value)\n",
    "    \"\"\",\n",
    ")"
   ]
  },
  {
   "cell_type": "markdown",
   "metadata": {},
   "source": [
    "* Add the CustomJS callback to the slider's ``on_change``\n",
    "    [event](11_widgets_interactivity.ipynb#Setting-values-with-SetValue):"
   ]
  },
  {
   "cell_type": "code",
   "execution_count": null,
   "metadata": {},
   "outputs": [],
   "source": [
    "# Add callback to slider widget\n",
    "number_slider.js_on_change(\"value\", custom_js)"
   ]
  },
  {
   "cell_type": "markdown",
   "metadata": {},
   "source": [
    "* Finally, combine the slider widget (``number_slider``) and the plot\n",
    "(`largest_carriers_plot`) into a [layout](10_layouts.ipynb#Grid-layout):"
   ]
  },
  {
   "cell_type": "code",
   "execution_count": null,
   "metadata": {},
   "outputs": [],
   "source": [
    "# assemble the layout\n",
    "largest_carriers_layout = column([number_slider, largest_carriers_plot], sizing_mode=\"stretch_width\")"
   ]
  },
  {
   "cell_type": "markdown",
   "metadata": {},
   "source": [
    "Now, you are able to display the full plot with its interactive features:"
   ]
  },
  {
   "cell_type": "code",
   "execution_count": null,
   "metadata": {},
   "outputs": [],
   "source": [
    "show(largest_carriers_layout)"
   ]
  },
  {
   "cell_type": "markdown",
   "metadata": {},
   "source": [
    "#### 12.2.3 Biggest carriers: Full plot code\n",
    "\n",
    "This is the full code for the \"Top carriers by passengers\" plot:"
   ]
  },
  {
   "cell_type": "code",
   "execution_count": null,
   "metadata": {},
   "outputs": [],
   "source": [
    "from bokeh.models import ColumnDataSource, NumeralTickFormatter, OpenURL, TapTool, Slider, CustomJS\n",
    "from bokeh.layouts import column\n",
    "from bokeh.plotting import figure\n",
    "\n",
    "# define the initial number of carriers to display\n",
    "initial_carriers = 10\n",
    "\n",
    "# read date from the demo data set\n",
    "source = ColumnDataSource(data.get_biggest_airlines_by_passengers())\n",
    "\n",
    "# set up tooltips\n",
    "TOOLTIPS = [\n",
    "    (\"Position\", \"@position\"),\n",
    "    (\"Carrier\", \"@unique_carrier_name\"),\n",
    "    (\"Passengers\", \"@passengers{(0,0)}\"),\n",
    "]\n",
    "\n",
    "# set up the figure\n",
    "largest_carriers_plot = figure(\n",
    "    x_range=source.data[\"unique_carrier_name\"][:initial_carriers],  # initially, display the top 10 carriers as the plot's x_range\n",
    "    title=f\"Top {initial_carriers} carriers by passengers (domestic routes)\",  # initially, display 10 as the number of carriers in the title\n",
    "    height=300,\n",
    "    sizing_mode=\"stretch_width\",\n",
    "    tooltips=TOOLTIPS,\n",
    "    toolbar_location=None,\n",
    ")\n",
    "\n",
    "# add a vbar renderer\n",
    "carriers_vbar = largest_carriers_plot.vbar(\n",
    "    x=\"unique_carrier_name\",\n",
    "    top=\"passengers\",\n",
    "    nonselection_alpha=0.8,\n",
    "    source=source,\n",
    "    legend_label=\"Passengers\",\n",
    "    width=0.6,\n",
    ")\n",
    "\n",
    "# customize plot appearance\n",
    "largest_carriers_plot.xgrid.grid_line_color = None  # remove grid lines\n",
    "largest_carriers_plot.yaxis.formatter = NumeralTickFormatter(format=\"0,0\")  # format y-axis ticks\n",
    "largest_carriers_plot.xaxis.major_label_orientation = 0.8  # rotate labels by roughly pi/4\n",
    "\n",
    "# Add TapTool to look up airline IATA code\n",
    "url = \"https://www.iata.org/en/publications/directories/code-search/?airline.search=@unique_carrier\"\n",
    "taptool = largest_carriers_plot.select(type=TapTool)\n",
    "taptool.callback = OpenURL(url=url)\n",
    "\n",
    "# Set up Slider widget\n",
    "number_slider = Slider(\n",
    "    start=1,\n",
    "    end=25,\n",
    "    value=len(largest_carriers_plot.x_range.factors),\n",
    "    title=\"Number of airlines to consider\",\n",
    "    sizing_mode=\"stretch_width\",\n",
    ")\n",
    "\n",
    "# Set up CustomJS callback\n",
    "custom_js = CustomJS(\n",
    "    args={  # the args parameter is a dictionary of the variables that will be accessible in the JavaScript code\n",
    "        \"largest_carriers_plot\": largest_carriers_plot,  # the first variable will be called \"largest_carriers_plot\" and links to the largest_carriers_plot Python object\n",
    "        \"carriers\": source.data[\"unique_carrier_name\"],  # the second variable will be called \"carriers\" and links to list of carrier names in the source ColumnDataSource\n",
    "    },\n",
    "    code=\"\"\"\n",
    "    largest_carriers_plot.title.text = \"Top \" + this.value + \" carriers by passenger (domestic routes)\"  // update the plot title using the slider's value (this.value)\n",
    "    largest_carriers_plot.x_range.factors = carriers.slice(0,this.value)  // update the plot's x_range using data from the list of carrier names and the slider's value (this.value)\n",
    "    \"\"\",\n",
    ")\n",
    "\n",
    "# Add callback to slider widget\n",
    "number_slider.js_on_change(\"value\", custom_js)\n",
    "\n",
    "# assemble the layout\n",
    "largest_carriers_layout = column([number_slider, largest_carriers_plot], sizing_mode=\"stretch_width\")\n",
    "\n",
    "show(largest_carriers_layout)"
   ]
  },
  {
   "cell_type": "markdown",
   "metadata": {},
   "source": [
    "### 12.3 Development of passengers, freight, and mail (line chart)\n",
    "\n",
    "The second plot in the dashboard is a\n",
    "[line chart](04_basic_plots.ipynb#Adding-a-line-chart).\n",
    "It visualizes how the total number of passengers, freight, and mail has developed\n",
    "throughout 2021.\n",
    "This chart considers all domestic flight data for the top 10 carriers.\n",
    "\n",
    "The line chart has two interactive features:\n",
    "\n",
    "* The user can hover over a point on one of the lines. Additional information is\n",
    "    displayed in a [tooltip](08_plot_tools.ipynb#HoverTool-and-tooltips).\n",
    "* The user can click on an entry on the legend.\n",
    "    This [mutes](11_widgets_interactivity.ipynb#Muting-and-hiding-glyphs) the\n",
    "    corresponding line. This means that the line becomes almost completely transparent\n",
    "    when a user clicks on the legend entry."
   ]
  },
  {
   "cell_type": "markdown",
   "metadata": {},
   "source": [
    "#### 12.3.1 Development of passengers, freight, and mail: Data review\n",
    "\n",
    "This is the underlying DataFrame for this plot:"
   ]
  },
  {
   "cell_type": "code",
   "execution_count": null,
   "metadata": {},
   "outputs": [],
   "source": [
    "df = data.get_monthly_values()\n",
    "df.head(3)"
   ]
  },
  {
   "cell_type": "markdown",
   "metadata": {},
   "source": [
    "The DataFrame contains the following columns:\n",
    "* `passengers`: The total number of passengers transported in that month\n",
    "* `freight`: The total amount of freight transported in that month\n",
    "* `mail`: The total amount of mail transported in that month\n",
    "* `month_name`: The month name"
   ]
  },
  {
   "cell_type": "markdown",
   "metadata": {},
   "source": [
    "This plot also uses a list of all available metrics. This list is also available in the\n",
    "demo data set (`data`):"
   ]
  },
  {
   "cell_type": "code",
   "execution_count": null,
   "metadata": {},
   "outputs": [],
   "source": [
    "data.metrics"
   ]
  },
  {
   "cell_type": "markdown",
   "metadata": {},
   "source": [
    "#### 12.3.2 Development of passengers, freight, and mail: Step-by-step code walkthrough\n",
    "\n",
    "The code to create the \"Development of passengers, freight, and mail\" plot consists of\n",
    "the following elements:"
   ]
  },
  {
   "cell_type": "markdown",
   "metadata": {},
   "source": [
    "* You begin by importing additional models from the `bokeh.models` module. In this case,\n",
    "    you import the Category10 [palette](05_styling.ipynb#Color-mappers-and-pallets).\n",
    "    You will use this palette to generate colors for the lines."
   ]
  },
  {
   "cell_type": "code",
   "execution_count": null,
   "metadata": {},
   "outputs": [],
   "source": [
    "from bokeh.palettes import Category10"
   ]
  },
  {
   "cell_type": "markdown",
   "metadata": {},
   "source": [
    "* Create a **[ColumnDataSource](06_data_sources.ipynb) object**.\n",
    "    You load this data from the demo data set (`data`)."
   ]
  },
  {
   "cell_type": "code",
   "execution_count": null,
   "metadata": {},
   "outputs": [],
   "source": [
    "# read date from the demo data set\n",
    "source = ColumnDataSource(data.get_monthly_values())"
   ]
  },
  {
   "cell_type": "markdown",
   "metadata": {},
   "source": [
    "* Define the **[tooltip](08_plot_tools.ipynb#HoverTool-and-tooltips) contents**. You'll use the ``TOOLTIPS``\n",
    "    list when creating the figure. This tooltip uses fields that are replaced\n",
    "    with data in the tooltip:\n",
    "    *  ``$name`` is replaced with the name of the line (e.g. \"Passengers\") that the\n",
    "        user hovers over.\n",
    "    * ``$y{(0,0)`` is replaced with the y value of the point that the user hovers over.\n",
    "        The ``0,0`` part of the expression means that the value is displayed with a\n",
    "        comma as the thousands separator."
   ]
  },
  {
   "cell_type": "code",
   "execution_count": null,
   "metadata": {},
   "outputs": [],
   "source": [
    "# set up tooltips\n",
    "TOOLTIPS = \"$name: $y{(0,0)}\""
   ]
  },
  {
   "cell_type": "markdown",
   "metadata": {},
   "source": [
    "* Define a [figure](04_basic_plots.ipynb#Basic-plot-setup) called\n",
    "    `largest_carriers_development_plot`.\n",
    "    This includes the following parameters:\n",
    "    * You define a title for the plot.\n",
    "    * You define the x-axis range to be the months from the `month_name` column.\n",
    "    * You define a height and set the sizing mode to `stretch_width`.\n",
    "    * You add the TOOLTIPS list to the figure."
   ]
  },
  {
   "cell_type": "code",
   "execution_count": null,
   "metadata": {},
   "outputs": [],
   "source": [
    "# set up the figure\n",
    "largest_carriers_development_plot = figure(\n",
    "    title=\"Domestic passengers, freight, and mail (top 10 carriers)\",\n",
    "    x_range=source.data[\"month_name\"],\n",
    "    height=300,\n",
    "    sizing_mode=\"stretch_width\",\n",
    "    tooltips=TOOLTIPS,\n",
    ")"
   ]
  },
  {
   "cell_type": "markdown",
   "metadata": {},
   "source": [
    "* Configure the hover tool's [tooltips](08_plot_tools.ipynb#HoverTool-and-tooltips).\n",
    "    By setting `mode` to `vline`, you make the tooltips stick to the plot's vertical\n",
    "    grid lines. In this case, there is one vertical line per month."
   ]
  },
  {
   "cell_type": "code",
   "execution_count": null,
   "metadata": {},
   "outputs": [],
   "source": [
    "# configure HoverTool\n",
    "largest_carriers_development_plot.hover.mode = \"vline\""
   ]
  },
  {
   "cell_type": "markdown",
   "metadata": {},
   "source": [
    "- Set up the three line renderers for passengers, freight, and mail.\n",
    "    Since all three line renderers are very similar, you can use a `for` loop to create\n",
    "    them. \n",
    "    \n",
    "    You loop over the three metrics defined in\n",
    "    ``data.metrics`` (`['passengers', 'freight', 'mail']`).\n",
    "    The only other difference between the three line renderer is the\n",
    "    [color](05_styling.ipynb#Colors-in-Bokeh) assigned to the line.\n",
    "    To make sure all three lines use a different color, use an incremental counter that\n",
    "    picks a different color from the Category10\n",
    "    [palette](05_styling.ipynb#Color-mappers-and-pallets) for each line."
   ]
  },
  {
   "cell_type": "code",
   "execution_count": null,
   "metadata": {},
   "outputs": [],
   "source": [
    "# set up three line renderers\n",
    "color = 0\n",
    "for metric in data.metrics:\n",
    "    largest_carriers_development_plot.line(\n",
    "        x=\"month_name\",  # use the month_name column as the x-axis\n",
    "        y=metric,  # use the metric column as the y-axis\n",
    "        legend_label=metric.capitalize(),  # use the current metric as the legend label\n",
    "        source=source,\n",
    "        width=2,\n",
    "        color=Category10[3][color],  # use the `color` variable to pick a different color for each iteration\n",
    "        alpha=1,\n",
    "        muted_alpha=0.2,  # make lines transparent when muted\n",
    "        name=metric,\n",
    "    )\n",
    "    color += 1"
   ]
  },
  {
   "cell_type": "markdown",
   "metadata": {},
   "source": [
    "- Tweak the plot's appearance:\n",
    "    - Use a [NumeralTickFormatter](05_styling.ipynb#Customizing-Axes) to format the\n",
    "        numbers on the y-axis\n",
    "    - Add a label to the x-axis\n",
    "    - [Rotate the labels](05_styling.ipynb#Customizing-Axes) on the x-axis.\n",
    "        When you add this plot to the layout they will be easier to read this way.\n",
    "    - set the `click_policy` to `\"hide\"`. This way, the corresponding line glyph\n",
    "        will [disappear when a user clicks on a legend entry](11_widgets_interactivity.ipynb#Muting-and-hiding-glyphs)."
   ]
  },
  {
   "cell_type": "code",
   "execution_count": null,
   "metadata": {},
   "outputs": [],
   "source": [
    "# customize plot appearance\n",
    "largest_carriers_development_plot.yaxis.formatter = NumeralTickFormatter(format=\"0,0\")\n",
    "largest_carriers_development_plot.xaxis.axis_label = \"Month\"\n",
    "largest_carriers_development_plot.xaxis.major_label_orientation = 0.8  # rotate labels by roughly pi/4\n",
    "largest_carriers_development_plot.legend.click_policy = \"mute\""
   ]
  },
  {
   "cell_type": "markdown",
   "metadata": {},
   "source": [
    "Now, you are able to display the full plot with its interactive features:"
   ]
  },
  {
   "cell_type": "code",
   "execution_count": null,
   "metadata": {},
   "outputs": [],
   "source": [
    "show(largest_carriers_development_plot)"
   ]
  },
  {
   "cell_type": "markdown",
   "metadata": {},
   "source": [
    "#### 12.3.3 Development of passengers, freight, and mail: Full plot code\n",
    "\n",
    "This is the full code for the \"Development of passengers, freight, and mail\" plot:"
   ]
  },
  {
   "cell_type": "code",
   "execution_count": null,
   "metadata": {},
   "outputs": [],
   "source": [
    "from bokeh.palettes import Category10\n",
    "\n",
    "# read date from the demo data set\n",
    "source = ColumnDataSource(data.get_monthly_values())\n",
    "\n",
    "# set up tooltips\n",
    "TOOLTIPS = \"$name: $y{(0,0)}\"\n",
    "\n",
    "# set up the figure\n",
    "largest_carriers_development_plot = figure(\n",
    "    title=\"Domestic passengers, freight, and mail (top 10 carriers)\",\n",
    "    x_range=source.data[\"month_name\"],\n",
    "    height=300,\n",
    "    sizing_mode=\"stretch_width\",\n",
    "    tooltips=TOOLTIPS,\n",
    ")\n",
    "\n",
    "# configure HoverTool\n",
    "largest_carriers_development_plot.hover.mode = \"vline\"\n",
    "\n",
    "# set up three line renderers\n",
    "color = 0\n",
    "for metric in data.metrics:\n",
    "    largest_carriers_development_plot.line(\n",
    "        x=\"month_name\",\n",
    "        y=metric,\n",
    "        legend_label=metric.capitalize(),\n",
    "        source=source,\n",
    "        width=2,\n",
    "        color=Category10[3][color],\n",
    "        alpha=1,\n",
    "        muted_alpha=0.2,\n",
    "        name=metric,\n",
    "    )\n",
    "    color += 1\n",
    "\n",
    "# customize plot appearance\n",
    "largest_carriers_development_plot.yaxis.formatter = NumeralTickFormatter(format=\"0,0\")\n",
    "largest_carriers_development_plot.xaxis.axis_label = \"Month\"\n",
    "largest_carriers_development_plot.xaxis.major_label_orientation = 0.8  # rotate labels by roughly pi/4\n",
    "largest_carriers_development_plot.legend.click_policy = \"mute\"\n",
    "\n",
    "show(largest_carriers_development_plot)"
   ]
  },
  {
   "cell_type": "markdown",
   "metadata": {},
   "source": [
    "### 12.4 Distance flown vs. number of passengers, freight, and mail (scatter plot)\n",
    "\n",
    "The third plot in the dashboard is a [scatter plot](04_basic_plots.ipynb#Scatter-Plots).\n",
    "It visualizes all available data in the data set.\n",
    "\n",
    "The scatter plot has two interactive features:\n",
    "\n",
    "* The user can hover over any scatter point. Additional information is\n",
    "    displayed in a [tooltip](08_plot_tools.ipynb#HoverTool-and-tooltips).\n",
    "* The user can click on an entry on the legend.\n",
    "    This [toggles the visibility](11_widgets_interactivity.ipynb#Muting-and-hiding-glyphs)\n",
    "    of the corresponding line."
   ]
  },
  {
   "cell_type": "markdown",
   "metadata": {},
   "source": [
    "#### 12.4.1 Distance flown vs. number of passengers, freight, and mail: Data Review\n",
    "\n",
    "This is the underlying DataFrame for this plot:"
   ]
  },
  {
   "cell_type": "code",
   "execution_count": null,
   "metadata": {},
   "outputs": [],
   "source": [
    "df = data.get_distance_df()\n",
    "df.head(3)"
   ]
  },
  {
   "cell_type": "markdown",
   "metadata": {},
   "source": [
    "This plot also uses a list of all available metrics. This list is also available in the\n",
    "demo data set (`data`):"
   ]
  },
  {
   "cell_type": "code",
   "execution_count": null,
   "metadata": {},
   "outputs": [],
   "source": [
    "data.metrics"
   ]
  },
  {
   "cell_type": "markdown",
   "metadata": {},
   "source": [
    "#### 12.4.2 Distance flown vs. number of passengers, freight, and mail: Step-by-step code walkthrough\n",
    "\n",
    "The code to create the \"Distance flown\" plot consists of\n",
    "the following elements:"
   ]
  },
  {
   "cell_type": "markdown",
   "metadata": {},
   "source": [
    "* Define a list of three different scatter marker types. You will use these scatter\n",
    "    markers when you create the three scatters for passengers, freight, and mail."
   ]
  },
  {
   "cell_type": "code",
   "execution_count": null,
   "metadata": {},
   "outputs": [],
   "source": [
    "# define a list of markers to use for the scatter plot\n",
    "MARKERS = [\"circle\", \"square\", \"triangle\"]"
   ]
  },
  {
   "cell_type": "markdown",
   "metadata": {},
   "source": [
    "* Create a **[ColumnDataSource](06_data_sources.ipynb) object**. You load this data from the demo data set\n",
    "    (`data`)."
   ]
  },
  {
   "cell_type": "code",
   "execution_count": null,
   "metadata": {},
   "outputs": [],
   "source": [
    "# read date from the demo data set\n",
    "source = ColumnDataSource(data.get_distance_df())"
   ]
  },
  {
   "cell_type": "markdown",
   "metadata": {},
   "source": [
    "* Define the **[tooltip](08_plot_tools.ipynb#HoverTool-and-tooltips) contents**:"
   ]
  },
  {
   "cell_type": "code",
   "execution_count": null,
   "metadata": {},
   "outputs": [],
   "source": [
    "# set up the tooltips\n",
    "TOOLTIPS = [\n",
    "    (\"Distance\", \"@distance{(0,0)} miles\"),\n",
    "    (\"Route\", \"@origin, @dest\"),\n",
    "    (\"Amount\", \"$y{(0,0)}\"),\n",
    "]"
   ]
  },
  {
   "cell_type": "markdown",
   "metadata": {},
   "source": [
    "* Define a [figure](04_basic_plots.ipynb#Basic-plot-setup) called `distance_plot`.\n",
    "    This includes the following parameters:\n",
    "    * define a title for the plot.\n",
    "    * define a height and set the [sizing mode](10_layouts.ipynb#Sizing-modes) to `stretch_width`.\n",
    "    * add the TOOLTIPS list to the figure.\n",
    "    * Set the output_backend to use\n",
    "        [Bokeh's WebGL output](https://docs.bokeh.org/en/latest/docs/user_guide/output/webgl.html).\n",
    "        WebGL is a rendering mode that is optimized for plots with lots of points.\n",
    "        The WebGL output backend uses hardware acceleration from a Graphics Processing Unit (GPU) in compatible browsers.\n",
    "    * Define the [tools for the toolbar](08_plot_tools.ipynb#Adding-and-removing-tools).\n",
    "    * Make `box_zoom` the [default zoom tool](08_plot_tools.ipynb#Defining-active-tools).\n"
   ]
  },
  {
   "cell_type": "code",
   "execution_count": null,
   "metadata": {},
   "outputs": [],
   "source": [
    "# set up the figure\n",
    "distance_plot = figure(\n",
    "    title=\"Distance flown vs. number of passengers, freight, and mail\",\n",
    "    height=300,\n",
    "    sizing_mode=\"stretch_width\",  # use the full width of the parent element\n",
    "    tooltips=TOOLTIPS,\n",
    "    output_backend=\"webgl\",  # use webgl to speed up rendering\n",
    "    tools=\"pan,box_zoom,reset,save\",\n",
    "    active_drag=\"box_zoom\",  # enable box zoom by default\n",
    ")"
   ]
  },
  {
   "cell_type": "markdown",
   "metadata": {},
   "source": [
    "\n",
    "This works similarly to the previous plot. In addition to assigning different colors in\n",
    "each iteration, you also assign a different marker types. "
   ]
  },
  {
   "cell_type": "code",
   "execution_count": null,
   "metadata": {},
   "outputs": [],
   "source": [
    "# loop through the three metrics (\"passengers\", \"freight\", \"mail\") and plot them\n",
    "i = 0\n",
    "for metric in data.metrics:\n",
    "    distance_plot.scatter(\n",
    "        \"distance\",\n",
    "        metric,\n",
    "        source=source,\n",
    "        legend_label=metric.capitalize(),\n",
    "        color=Category10[3][i],  # assign a different color to each metric\n",
    "        marker=MARKERS[i],  # assign a different marker to each metric\n",
    "        alpha=0.5,\n",
    "    )\n",
    "    i += 1"
   ]
  },
  {
   "cell_type": "markdown",
   "metadata": {},
   "source": [
    "- Tweak the plot's appearance:\n",
    "    - Use a [NumeralTickFormatter](05_styling.ipynb#Customizing-Axes) to format the\n",
    "        numbers on the y-axis\n",
    "    - Add a label to the x-axis\n",
    "    - set the `click_policy` to `\"hide\"`. This way, the corresponding\n",
    "        [scatter glyphs will disappear](11_widgets_interactivity.ipynb#Muting-and-hiding-glyphs)\n",
    "        when a user clicks on a legend entry."
   ]
  },
  {
   "cell_type": "code",
   "execution_count": null,
   "metadata": {},
   "outputs": [],
   "source": [
    "# customize plot appearance\n",
    "distance_plot.yaxis.formatter = NumeralTickFormatter(format=\"0,0\")\n",
    "distance_plot.xaxis.axis_label = \"Distance (miles)\"\n",
    "distance_plot.legend.click_policy = \"hide\"  # set the legend click policy to hide"
   ]
  },
  {
   "cell_type": "markdown",
   "metadata": {},
   "source": [
    "- Finally, display the full plot. Because it contains several thousand data points, it\n",
    "    may take a few seconds to load."
   ]
  },
  {
   "cell_type": "code",
   "execution_count": null,
   "metadata": {},
   "outputs": [],
   "source": [
    "show(distance_plot)"
   ]
  },
  {
   "cell_type": "markdown",
   "metadata": {},
   "source": [
    "#### 12.4.3 Distance flown vs. number of passengers, freight, and mail: Full plot code\n"
   ]
  },
  {
   "cell_type": "code",
   "execution_count": null,
   "metadata": {},
   "outputs": [],
   "source": [
    "# define a list of markers to use for the scatter plot\n",
    "MARKERS = [\"circle\", \"square\", \"triangle\"]\n",
    "\n",
    "source = ColumnDataSource(data.get_distance_df())\n",
    "\n",
    "# set up the tooltips\n",
    "TOOLTIPS = [\n",
    "    (\"Distance\", \"@distance{(0,0)} miles\"),\n",
    "    (\"Route\", \"@origin, @dest\"),\n",
    "    (\"Amount\", \"$y{(0,0)}\"),\n",
    "]\n",
    "\n",
    "# set up the figure\n",
    "distance_plot = figure(\n",
    "    title=\"Distance flown vs. number of passengers, freight, and mail\",\n",
    "    height=300,\n",
    "    sizing_mode=\"stretch_width\",  # use the full width of the parent element\n",
    "    tooltips=TOOLTIPS,\n",
    "    output_backend=\"webgl\",  # use webgl to speed up rendering\n",
    "    tools=\"pan,box_zoom,reset,save\",\n",
    "    active_drag=\"box_zoom\",  # enable box zoom by default\n",
    ")\n",
    "\n",
    "# loop through the three metrics (\"passengers\", \"freight\", \"mail\") and plot them\n",
    "i = 0\n",
    "for metric in data.metrics:\n",
    "    distance_plot.scatter(  # use the scatter method to use different markers\n",
    "        \"distance\",\n",
    "        metric,\n",
    "        source=source,\n",
    "        legend_label=metric.capitalize(),\n",
    "        color=Category10[3][i],  # assign a different color to each metric\n",
    "        marker=MARKERS[i],  # assign a different marker to each metric\n",
    "        alpha=0.5,\n",
    "    )\n",
    "    i += 1\n",
    "\n",
    "# customize plot appearance\n",
    "distance_plot.yaxis.formatter = NumeralTickFormatter(format=\"0,0\")\n",
    "distance_plot.xaxis.axis_label = \"Distance (miles)\"\n",
    "distance_plot.legend.click_policy = \"hide\"  # set the legend click policy to hide\n",
    "\n",
    "show(distance_plot)"
   ]
  },
  {
   "cell_type": "markdown",
   "metadata": {},
   "source": [
    "### 12.5 Departures per state (map plot)\n",
    "\n",
    "The fourth plot in the dashboard is a [map plot](09_more_plot_types.ipynb#Map-plots).\n",
    "It visualizes the number of domestic routes departing from each state.\n",
    "\n",
    "The map plot includes interactive [tooltips](08_plot_tools.ipynb#HoverTool-and-tooltips)\n",
    "to provide additional information about each state."
   ]
  },
  {
   "cell_type": "markdown",
   "metadata": {},
   "source": [
    "#### 12.5.1 Departures per state: Data Review\n",
    "\n",
    "This map is based on two data sets:"
   ]
  },
  {
   "cell_type": "markdown",
   "metadata": {},
   "source": [
    "1. A [GeoJSON file](09_more_plot_types.ipynb#GeoJSONDataSource) with the shapes of all\n",
    "    US states.\n",
    "    This data is handled by [geopandas](https://geopandas.org/).\n",
    "    Alaska and Hawaii are moved from their actual location to make visualization easier:"
   ]
  },
  {
   "cell_type": "code",
   "execution_count": null,
   "metadata": {},
   "outputs": [],
   "source": [
    "import geopandas as gpd\n",
    "\n",
    "states_gdf = gpd.read_file(\"../data/us-states.geojson\")\n",
    "states_gdf.plot()  # use geopandas to plot the state shapes"
   ]
  },
  {
   "cell_type": "markdown",
   "metadata": {},
   "source": [
    "2. A pandas DataFrame with the number of domestic routes beginning and ending in each\n",
    "    state.\n",
    "    This dataset is included in the demo data set (`data`):"
   ]
  },
  {
   "cell_type": "code",
   "execution_count": null,
   "metadata": {},
   "outputs": [],
   "source": [
    "data.get_states_routes_df().head(2)"
   ]
  },
  {
   "cell_type": "markdown",
   "metadata": {},
   "source": [
    "The [GeoJSONDataSource](09_more_plot_types.ipynb#GeoJSONDataSource) for this plot is\n",
    "the result of a ``join`` operation. The join operation creates a DataFrame with both the state shapes and the number of routes:"
   ]
  },
  {
   "cell_type": "code",
   "execution_count": null,
   "metadata": {},
   "outputs": [],
   "source": [
    "states_gdf = states_gdf.join(data.get_states_routes_df(), on=states_gdf[\"Name\"])\n",
    "states_gdf.head(2)"
   ]
  },
  {
   "cell_type": "markdown",
   "metadata": {},
   "source": [
    "In this DataFrame, you have the following columns that you'll use in the map plot:\n",
    "- `Name`: The name of the state\n",
    "- `origin`: The number of domestic routes beginning in that state\n",
    "- `geometry`: The shape of the state"
   ]
  },
  {
   "cell_type": "markdown",
   "metadata": {},
   "source": [
    "#### 12.5.2 Departures per state: Step-by-step code walkthrough"
   ]
  },
  {
   "cell_type": "markdown",
   "metadata": {},
   "source": [
    "- First, import any additional objects that you need. In this case, you also load\n",
    "    geopandas to process the GeoJSON data."
   ]
  },
  {
   "cell_type": "code",
   "execution_count": null,
   "metadata": {},
   "outputs": [],
   "source": [
    "import geopandas as gpd\n",
    "\n",
    "from bokeh.models import GeoJSONDataSource\n",
    "from bokeh.palettes import Cividis\n",
    "from bokeh.transform import linear_cmap"
   ]
  },
  {
   "cell_type": "markdown",
   "metadata": {},
   "source": [
    "* The map plot uses a **[GeoJSONDataSource](09_more_plot_types.ipynb#GeoJSONDataSource)**.\n",
    "    This data source is created from the `states` DataFrame.\n",
    "    As described above, this is based on a joined DataFrame.\n",
    "    The joined DataFrame combines data from the GeoJSON file with data from the demo\n",
    "    data set."
   ]
  },
  {
   "cell_type": "code",
   "execution_count": null,
   "metadata": {},
   "outputs": [],
   "source": [
    "# read the geojson file containing the state shapes\n",
    "states_gdf = gpd.read_file(\"../data/us-states.geojson\")\n",
    "# read the pre-processed data frame from the demo data set and join it to the state shapes\n",
    "states_gdf = states_gdf.join(data.get_states_routes_df(), on=states_gdf[\"Name\"])\n",
    "# create the GeoJSONDataSource\n",
    "geo_source = GeoJSONDataSource(geojson=states_gdf.to_json())"
   ]
  },
  {
   "cell_type": "markdown",
   "metadata": {},
   "source": [
    "- Set up the **[tooltips](08_plot_tools.ipynb#HoverTool-and-tooltips)**.\n",
    "    The tooltips are displayed when the user hovers over a state.\n",
    "    The tooltips include the name of the state and the number of routes departing from\n",
    "    that state."
   ]
  },
  {
   "cell_type": "code",
   "execution_count": null,
   "metadata": {},
   "outputs": [],
   "source": [
    "# set up the tooltips\n",
    "TOOLTIPS = [\n",
    "    (\"State\", \"@Name\"),\n",
    "    (\"# of routes departing from here\", \"@origin{(0,0)}\"),\n",
    "]"
   ]
  },
  {
   "cell_type": "markdown",
   "metadata": {},
   "source": [
    "- Define a **[figure](04_basic_plots.ipynb#Basic-plot-setup)** called `map_plot`.\n",
    "    This includes the following parameters:\n",
    "    - set a `width` and `height` for the plot. This way, you define the\n",
    "        [aspect ratio](10_layouts.ipynb#Scale-mode) of the map.\n",
    "        Defining the aspect ratio is important to make sure that the map\n",
    "        doesn't get distorted. This could happen when the user resizes the browser\n",
    "        window, for example.\n",
    "    - set the [sizing mode](10_layouts.ipynb#Sizing-modes) to `scale_width`. This way, the plot will always fill the\n",
    "        available width in the browser window. At the same time, it will keep the\n",
    "        aspect ratio defined by the `width` and `height` parameters.\n",
    "    * add the ``TOOLTIPS`` list to the figure.\n",
    "    * define a ``title`` for the plot.\n",
    "    * deactivate the x- and y-axes. Also, [deactivate the toolbar](08_plot_tools.ipynb#General-toolbar-configuration).\n",
    "    * Set the ``grid_line_color`` to ``None`` to remove the grid lines.\n"
   ]
  },
  {
   "cell_type": "code",
   "execution_count": null,
   "metadata": {},
   "outputs": [],
   "source": [
    "# set up the figure\n",
    "map_plot = figure(\n",
    "    height=200,  # set a width and height to define the aspect ratio\n",
    "    width=300,\n",
    "    sizing_mode=\"scale_width\",\n",
    "    tooltips=TOOLTIPS,\n",
    "    title=\"Number of routes with a state as its origin (all domestic carriers)\",\n",
    "    x_axis_location=None,  # deactivate x-axis\n",
    "    y_axis_location=None,  # deactivate y-axis\n",
    "    toolbar_location=None,  # deactivate toolbar\n",
    ")\n",
    "map_plot.grid.grid_line_color = None  # make grid lines invisible"
   ]
  },
  {
   "cell_type": "markdown",
   "metadata": {},
   "source": [
    "- Define a **patches renderer** (polygons are called 'patches' in Bokeh). This renderer\n",
    "    does several things at once:\n",
    "    - It draws the state shapes (polygons) based on the `geometry` column in the\n",
    "        `states` DataFrame. Bokeh automatically converts these geometries into\n",
    "        `xs` and `ys` columns. These are the columns that Bokeh uses to draw the\n",
    "        polygons.\n",
    "    - It uses a [linear color mapper](05_styling.ipynb#Color-mappers-and-palettes) to\n",
    "        assign a `fill_color` to each state polygon. The color is based on the number of\n",
    "        routes departing from that state. Bokeh distributes the available colors from\n",
    "        the palette based on the min and max values in the `origin` column."
   ]
  },
  {
   "cell_type": "code",
   "execution_count": null,
   "metadata": {},
   "outputs": [],
   "source": [
    "us = map_plot.patches(  # use the patches method to draw the polygons of all states\n",
    "    xs=\"xs\",\n",
    "    ys=\"ys\",\n",
    "    fill_color=linear_cmap(field_name=\"origin\", palette=Cividis[256], low=states_gdf[\"origin\"].min(), high=states_gdf[\"origin\"].max()),  # color the states by mapping the number of routes to color values from a palette\n",
    "    source=geo_source,\n",
    "    line_color=\"darkgrey\",\n",
    "    line_width=1,\n",
    ")"
   ]
  },
  {
   "cell_type": "markdown",
   "metadata": {},
   "source": [
    "- Set up and add the **[color bar](05_styling.ipynb#Color-mappers-and-pallets)**.\n",
    "    The color bar provides a key to which color relates to which\n",
    "    number of routes. Adding the color bar takes two steps:\n",
    "    1. Defining the color bar with the ``construct_color_bar()`` method. This uses the\n",
    "        following parameters:\n",
    "        - `formatter`: How to format the numbers in the color bar. Use a\n",
    "            `NumeralTickFormatter` with the format string `0,0`. This means that\n",
    "            Bokeh uses a comma as a thousands separator.\n",
    "        - `height`: The height of the color bar in pixels.\n",
    "    2. Adding the color bar to the figure. Use the `add_layout` method to\n",
    "        add the object and place it below the map plot."
   ]
  },
  {
   "cell_type": "code",
   "execution_count": null,
   "metadata": {},
   "outputs": [],
   "source": [
    "# add the color bar\n",
    "color_bar = us.construct_color_bar(formatter=NumeralTickFormatter(format=\"0,0\"), height=10)\n",
    "\n",
    "map_plot.add_layout(obj=color_bar, place=\"below\")"
   ]
  },
  {
   "cell_type": "markdown",
   "metadata": {},
   "source": [
    "- Finally, display the full plot:"
   ]
  },
  {
   "cell_type": "code",
   "execution_count": null,
   "metadata": {},
   "outputs": [],
   "source": [
    "show(map_plot)"
   ]
  },
  {
   "cell_type": "markdown",
   "metadata": {},
   "source": [
    "#### 12.5.3 Departures per state: Full plot code\n"
   ]
  },
  {
   "cell_type": "code",
   "execution_count": null,
   "metadata": {},
   "outputs": [],
   "source": [
    "import geopandas as gpd\n",
    "\n",
    "from bokeh.models import GeoJSONDataSource\n",
    "from bokeh.palettes import Cividis\n",
    "from bokeh.transform import linear_cmap\n",
    "\n",
    "# read the geojson file containing the state shapes\n",
    "states_gdf = gpd.read_file(\"../data/us-states.geojson\")\n",
    "# read the pre-processed data frame from the demo data set and join it to the state shapes\n",
    "states_gdf = states_gdf.join(data.get_states_routes_df(), on=states_gdf[\"Name\"])\n",
    "# create the GeoJSONDataSource\n",
    "geo_source = GeoJSONDataSource(geojson=states_gdf.to_json())\n",
    "\n",
    "# set up the tooltips\n",
    "TOOLTIPS = [\n",
    "    (\"State\", \"@Name\"),\n",
    "    (\"# of routes departing from here\", \"@origin{(0,0)}\"),\n",
    "]\n",
    "\n",
    "# set up the figure\n",
    "map_plot = figure(\n",
    "    height=200,  # set a width and height to define the aspect ratio\n",
    "    width=300,\n",
    "    sizing_mode=\"scale_width\",\n",
    "    tooltips=TOOLTIPS,\n",
    "    title=\"Number of routes with a state as its origin (all domestic carriers)\",\n",
    "    x_axis_location=None,  # deactivate x-axis\n",
    "    y_axis_location=None,  # deactivate y-axis\n",
    "    toolbar_location=None,  # deactivate toolbar\n",
    ")\n",
    "map_plot.grid.grid_line_color = None  # make grid lines invisible\n",
    "\n",
    "# draw the state polygons\n",
    "us = map_plot.patches(  # use the patches method to draw the polygons of all states\n",
    "    xs=\"xs\",\n",
    "    ys=\"ys\",\n",
    "    fill_color=linear_cmap(field_name=\"origin\", palette=Cividis[256], low=states_gdf[\"origin\"].min(), high=states_gdf[\"origin\"].max()),  # color the states by mapping the number of routes to color values from a palette\n",
    "    source=geo_source,\n",
    "    line_color=\"darkgrey\",\n",
    "    line_width=1,\n",
    ")\n",
    "\n",
    "# add color bar\n",
    "color_bar = us.construct_color_bar(formatter=NumeralTickFormatter(format=\"0,0\"), height=10)\n",
    "map_plot.add_layout(obj=color_bar, place=\"below\")\n",
    "\n",
    "show(map_plot)"
   ]
  },
  {
   "cell_type": "markdown",
   "metadata": {},
   "source": [
    "### 12.6 Shares by carriers (tabbed donut chart)\n",
    "\n",
    "The fifth plot in the dashboard is a tabbed [donut chart](09_more_plot_types.ipynb#Donut-charts).\n",
    "It visualizes the shares of the top 10 carriers in each of the three metrics:\n",
    "passengers, freight, and mail.\n",
    "\n",
    "This plot has two interactive features:\n",
    "\n",
    "* The user can use the [tabs](10_layouts.ipynb#Tabs) at the top of the plot to switch\n",
    "    between the three metrics.\n",
    "* The user can hover over an element of the donut to see a\n",
    "    [tooltip](08_plot_tools.ipynb#HoverTool-and-tooltips) with additional information."
   ]
  },
  {
   "cell_type": "markdown",
   "metadata": {},
   "source": [
    "#### 12.6.1 Biggest carriers: Data review\n",
    "\n",
    "This plot uses three data sets: One for passengers, one for freight, and one for mail.\n",
    "\n",
    "All three are available in the demo data set (`data`). You can access any of these\n",
    "three using the metric parameter. This is the DataFrame for the passenger data:"
   ]
  },
  {
   "cell_type": "code",
   "execution_count": null,
   "metadata": {},
   "outputs": [],
   "source": [
    "df = data.get_top_carriers_by_metrics(\"passengers\")\n",
    "df.head(3)"
   ]
  },
  {
   "cell_type": "markdown",
   "metadata": {},
   "source": [
    "This DataFrame has the following columns:\n",
    "- `unique_carrier_name`: The name of the carrier\n",
    "- `passengers`: The number of passengers carried by that carrier\n",
    "- `angle`: pre-computed values for the angle of each wedge\n",
    "- `color`: pre-computed values for the color of each wedge\n",
    "\n",
    "For details about how to compute the angles, see the detailed example in the\n",
    "[Wedge plots section](09_more_plot_types.ipynb#Wedge-plots).\n",
    "For the specific code generating these DataFrames, see the function\n",
    "``get_top_carriers_by_metrics`` in [carriers_data.py](../data/carriers_data.py)."
   ]
  },
  {
   "cell_type": "markdown",
   "metadata": {},
   "source": [
    "This plot also uses a list of all available metrics. This list is also available in the\n",
    "demo data set (`data`):"
   ]
  },
  {
   "cell_type": "code",
   "execution_count": null,
   "metadata": {},
   "outputs": [],
   "source": [
    "data.metrics"
   ]
  },
  {
   "cell_type": "markdown",
   "metadata": {},
   "source": [
    "#### 12.6.2 Biggest carriers: Step-by-step code walkthrough"
   ]
  },
  {
   "cell_type": "markdown",
   "metadata": {},
   "source": [
    "- First, import any additional objects that you need. In this case, you need the\n",
    "    ``TabPanel`` and ``Tabs`` objects from bokeh.models.widgets. You'll also need the\n",
    "    ``cumsum`` function from ``bokeh.transform``:"
   ]
  },
  {
   "cell_type": "code",
   "execution_count": null,
   "metadata": {},
   "outputs": [],
   "source": [
    "from bokeh.models import TabPanel, Tabs\n",
    "from bokeh.transform import cumsum"
   ]
  },
  {
   "cell_type": "markdown",
   "metadata": {},
   "source": [
    "* This plot uses Bokeh's [Tabs widget](10_layouts.ipynb#Tabs) to create a tabbed interface.\n",
    "    The code contains a function called `create_annular_wedge`.\n",
    "    This function creates the donut chart for a specific metric.\n",
    "    This way, you only have to write the code once.\n",
    "    It is then run three times, once for every metric.\n",
    "\n",
    "    Let's take a closer look at the function:\n",
    "\n",
    "    * The function takes a single parameter, `metric`. This is a string defining the\n",
    "        metric that the function should use. The function uses this parameter to select\n",
    "        the correct data set from the `data` object. For example, if `metric` is\n",
    "        `\"passengers\"`, the function builds a donut chart with the passenger data.\n",
    "    * The function works very similar to the plots you created above. It defines\n",
    "        tooltips, a figure, and a renderer. It also customizes the plot appearance.\n",
    "        It returns the figure as an object."
   ]
  },
  {
   "cell_type": "code",
   "execution_count": null,
   "metadata": {},
   "outputs": [],
   "source": [
    "def create_annular_wedge(metric):\n",
    "\n",
    "    # load data for current metric from demo data set\n",
    "    source = ColumnDataSource(data.get_top_carriers_by_metrics(metric))\n",
    "\n",
    "    # set up the tooltips\n",
    "    TOOLTIPS = [\n",
    "        (\"Carrier\", \"@unique_carrier_name\"),\n",
    "        (metric.capitalize(), f\"@{metric}{{(0,0)}}\"),\n",
    "    ]\n",
    "\n",
    "    # set up the figure for the current metric\n",
    "    annular_plot = figure(\n",
    "        height=200,  # set a width and height to define the aspect ratio\n",
    "        width=300,\n",
    "        sizing_mode=\"scale_width\",\n",
    "        toolbar_location=None,\n",
    "        outline_line_color=None,\n",
    "        name=\"region\",\n",
    "        x_range=(-0.66, 1),\n",
    "        title=f\"Top ten carriers by {metric}\",\n",
    "        tooltips=TOOLTIPS,\n",
    "    )\n",
    "\n",
    "    # draw the annular wedges for the current metric\n",
    "    annular_plot.annular_wedge(\n",
    "        x=0,\n",
    "        y=0,\n",
    "        inner_radius=0.2,\n",
    "        outer_radius=0.4,\n",
    "        start_angle=cumsum(\"angle\", include_zero=True),\n",
    "        end_angle=cumsum(\"angle\"),\n",
    "        line_color=\"white\",\n",
    "        fill_color=\"color\",\n",
    "        legend_field=\"unique_carrier_name\",\n",
    "        source=source,\n",
    "    )\n",
    "\n",
    "    # customize plot appearance\n",
    "    annular_plot.axis.visible = False\n",
    "    annular_plot.grid.grid_line_color = None\n",
    "    annular_plot.legend.spacing = 1\n",
    "    annular_plot.legend.label_text_font_size = \"0.8em\"\n",
    "\n",
    "    return annular_plot"
   ]
  },
  {
   "cell_type": "markdown",
   "metadata": {},
   "source": [
    "- Before calling the function, get the list of metrics to use. This is available in the\n",
    "    demo data set (`data`):"
   ]
  },
  {
   "cell_type": "code",
   "execution_count": null,
   "metadata": {},
   "outputs": [],
   "source": [
    "# get list of metrics to consider from demo data set\n",
    "metrics = data.metrics"
   ]
  },
  {
   "cell_type": "markdown",
   "metadata": {},
   "source": [
    "- Next, create a list of `TabPanel` objects. To create each object, use a ``for`` loop.\n",
    "    This loop iterates over the list of metrics. Each iteration creates a single\n",
    "    `TabPanel` object with a different donut chart. The `TabPanel` object takes the\n",
    "    following parameters:\n",
    "    - `child`: The plot to display in the tab. In this case, use the `create_annular_wedge`\n",
    "        function to create the plot. Pass the metric name as a parameter.\n",
    "    - `title`: The title of the tab. This is where you call the ``create_annular_wedge``\n",
    "        function from above. Pass the metric name as a parameter."
   ]
  },
  {
   "cell_type": "code",
   "execution_count": null,
   "metadata": {},
   "outputs": [],
   "source": [
    "# call create_annular_wedge to create tabs with annular wedges for each metric\n",
    "tabs = []\n",
    "for metric in metrics:\n",
    "    tabs.append(TabPanel(child=create_annular_wedge(metric), title=metric.capitalize()))"
   ]
  },
  {
   "cell_type": "markdown",
   "metadata": {},
   "source": [
    "- Finally, create the [Tab layout](10_layouts.ipynb#Tabs).\n",
    "    The `Tabs` object takes the following parameters:\n",
    "    - `tabs`: The list of `TabPanel` objects that you created above.\n",
    "    - `sizing_mode`: The [sizing mode](10_layouts.ipynb#Sizing-modes) for the tabs, set to `\"stretch_width\"`."
   ]
  },
  {
   "cell_type": "code",
   "execution_count": null,
   "metadata": {},
   "outputs": [],
   "source": [
    "# display all plots as tabs\n",
    "annular_wedge_tabs = Tabs(tabs=tabs, sizing_mode=\"scale_width\")"
   ]
  },
  {
   "cell_type": "markdown",
   "metadata": {},
   "source": [
    "Display the full plot:"
   ]
  },
  {
   "cell_type": "code",
   "execution_count": null,
   "metadata": {},
   "outputs": [],
   "source": [
    "show(annular_wedge_tabs)"
   ]
  },
  {
   "cell_type": "markdown",
   "metadata": {},
   "source": [
    "#### 12.6.3 Biggest carriers: Full plot code"
   ]
  },
  {
   "cell_type": "code",
   "execution_count": null,
   "metadata": {},
   "outputs": [],
   "source": [
    "from bokeh.models import TabPanel, Tabs\n",
    "\n",
    "\n",
    "# Function to create annular wedge plots for all metrics (passengers, freight, or mail)\n",
    "def create_annular_wedge(metric):\n",
    "\n",
    "    # load data for current metric from demo data set\n",
    "    source = ColumnDataSource(data.get_top_carriers_by_metrics(metric))\n",
    "\n",
    "    # set up the tooltips\n",
    "    TOOLTIPS = [\n",
    "        (\"Carrier\", \"@unique_carrier_name\"),\n",
    "        (metric.capitalize(), f\"@{metric}{{(0,0)}}\"),\n",
    "    ]\n",
    "\n",
    "    # set up the figure for the current metric\n",
    "    annular_plot = figure(\n",
    "        height=200,  # set a width and height to define the aspect ratio\n",
    "        width=300,\n",
    "        sizing_mode=\"scale_width\",\n",
    "        toolbar_location=None,\n",
    "        outline_line_color=None,\n",
    "        name=\"region\",\n",
    "        x_range=(-0.66, 1),\n",
    "        title=f\"Top ten carriers by {metric}\",\n",
    "        tooltips=TOOLTIPS,\n",
    "    )\n",
    "\n",
    "    # draw the annular wedges for the current metric\n",
    "    annular_plot.annular_wedge(\n",
    "        x=0,\n",
    "        y=0,\n",
    "        inner_radius=0.2,\n",
    "        outer_radius=0.4,\n",
    "        start_angle=cumsum(\"angle\", include_zero=True),\n",
    "        end_angle=cumsum(\"angle\"),\n",
    "        line_color=\"white\",\n",
    "        fill_color=\"color\",\n",
    "        legend_field=\"unique_carrier_name\",\n",
    "        source=source,\n",
    "    )\n",
    "\n",
    "    # customize plot appearance\n",
    "    annular_plot.axis.visible = False\n",
    "    annular_plot.grid.grid_line_color = None\n",
    "    annular_plot.legend.spacing = 1\n",
    "    annular_plot.legend.label_text_font_size = \"0.8em\"\n",
    "\n",
    "    return annular_plot\n",
    "\n",
    "\n",
    "# get list of metrics to consider from demo data set\n",
    "metrics = data.metrics\n",
    "\n",
    "# call create_annular_wedge to create tabs with annular wedges for each metric\n",
    "tabs = []\n",
    "for metric in metrics:\n",
    "    tabs.append(TabPanel(child=create_annular_wedge(metric), title=metric.capitalize()))\n",
    "\n",
    "# display all plots as tabs\n",
    "annular_wedge_tabs = Tabs(tabs=tabs, sizing_mode=\"scale_width\")\n",
    "\n",
    "show(annular_wedge_tabs)"
   ]
  },
  {
   "cell_type": "markdown",
   "metadata": {},
   "source": [
    "### 12.7 Final layout"
   ]
  },
  {
   "cell_type": "markdown",
   "metadata": {},
   "source": [
    "The last step is to add all the plots to a single\n",
    "[layout](10_layouts.ipynb#Grid-layout):"
   ]
  },
  {
   "cell_type": "code",
   "execution_count": null,
   "metadata": {},
   "outputs": [],
   "source": [
    "from bokeh.layouts import layout\n",
    "\n",
    "layout = layout(\n",
    "    [\n",
    "        [header_div],\n",
    "        [largest_carriers_layout, largest_carriers_development_plot],\n",
    "        [distance_plot],\n",
    "        [map_plot, annular_wedge_tabs],\n",
    "    ],\n",
    "    sizing_mode=\"stretch_width\",\n",
    ")\n",
    "\n",
    "show(layout)"
   ]
  },
  {
   "cell_type": "markdown",
   "metadata": {},
   "source": [
    "# Next section\n",
    "\n",
    "<a href=\"13_exporting_embedding.ipynb\" target=\"_blank\">\n",
    "    <img src=\"assets/arrow.svg\" alt=\"Next section\" width=\"100\" align=\"right\">\n",
    "</a>\n",
    "\n",
    "In the [next chapter](13_exporting_embedding.ipynb), you'll learn how to embed and\n",
    "export your plots and layouts."
   ]
  }
 ],
 "metadata": {
  "kernelspec": {
   "display_name": "Python 3 (ipykernel)",
   "language": "python",
   "name": "python3"
  },
  "language_info": {
   "codemirror_mode": {
    "name": "ipython",
    "version": 3
   },
   "file_extension": ".py",
   "mimetype": "text/x-python",
   "name": "python",
   "nbconvert_exporter": "python",
   "pygments_lexer": "ipython3",
   "version": "3.12.0"
  }
 },
 "nbformat": 4,
 "nbformat_minor": 4
}
