{
 "cells": [
  {
   "cell_type": "markdown",
   "metadata": {},
   "source": [
    "<table style=\"float:left; border:none\">\n",
    "   <tr style=\"border:none\">\n",
    "       <td style=\"border:none\">\n",
    "           <a href=\"https://bokeh.org/\" target=\"_blank\">\n",
    "           <img\n",
    "               src=\"assets/bokeh-transparent.png\"\n",
    "               style=\"width:50px\"\n",
    "           >\n",
    "           </a>\n",
    "       </td>\n",
    "       <td style=\"border:none\">\n",
    "           <h1>Bokeh Tutorial</h1>\n",
    "       </td>\n",
    "   </tr>\n",
    "</table>\n",
    "\n",
    "<div style=\"float:right;\"><a href=\"TOC.ipynb\" target=\"_blank\">Table of contents</a><br><h2>04 Basic Plotting</h2></div>"
   ]
  },
  {
   "cell_type": "code",
   "execution_count": null,
   "metadata": {},
   "outputs": [],
   "source": [
    "# load tutorial data\n",
    "from tutorial_data import data"
   ]
  },
  {
   "cell_type": "code",
   "execution_count": null,
   "metadata": {},
   "outputs": [],
   "source": [
    "# activate notebook output\n",
    "from bokeh.io import output_notebook\n",
    "\n",
    "output_notebook()"
   ]
  },
  {
   "cell_type": "markdown",
   "metadata": {},
   "source": [
    "This chapter introduces several basic plots, using the `bokeh.plotting` interface.\n",
    "\n",
    "Building plots with the `bokeh.plotting` interface follows this\n",
    "general pattern:\n",
    "\n",
    "* You first define a basic figure, using most of the defaults that Bokeh\n",
    "provides.\n",
    "* You then customize specific elements of the figure to fit your needs.\n",
    "\n",
    "This way, you can build a fully functional, interactive plot with just a few\n",
    "lines of code."
   ]
  },
  {
   "cell_type": "markdown",
   "metadata": {},
   "source": [
    "### Basic plot setup\n",
    "\n",
    "All plots based on the `bokeh.plotting` interface use the `figure()` function to\n",
    "create a new plot.\n",
    "\n",
    "The first step is usually to import `figure` from `bokeh.plotting`:"
   ]
  },
  {
   "cell_type": "code",
   "execution_count": null,
   "metadata": {},
   "outputs": [],
   "source": [
    "from bokeh.plotting import figure"
   ]
  },
  {
   "cell_type": "markdown",
   "metadata": {},
   "source": [
    "The next step is to create a new plot with the `figure()` function:"
   ]
  },
  {
   "cell_type": "code",
   "execution_count": null,
   "metadata": {},
   "outputs": [],
   "source": [
    "plot = figure()"
   ]
  },
  {
   "cell_type": "markdown",
   "metadata": {},
   "source": [
    "You can add several optional arguments to the `figure()` function. For now,\n",
    "just use `height` and `width` to define the size of the plot:"
   ]
  },
  {
   "cell_type": "code",
   "execution_count": null,
   "metadata": {},
   "outputs": [],
   "source": [
    "plot = figure(height=300, width=300)"
   ]
  },
  {
   "cell_type": "markdown",
   "metadata": {},
   "source": [
    "You can think of using the `figure()` function as creating a blank canvas.\n",
    "Once you have created the canvas, you can add glyphs to create a plot.\n",
    "\n",
    "### Adding a line glyph\n",
    "\n",
    "To add a line glyph, use the `line()` function. \n",
    "\n",
    "This function requires some data to visualize as an input. For now, use a simple\n",
    "list of numbers. One list for the y-axis and one for the x-axis:"
   ]
  },
  {
   "cell_type": "code",
   "execution_count": null,
   "metadata": {},
   "outputs": [],
   "source": [
    "# define some data\n",
    "x = [1, 2, 3, 4, 5]\n",
    "y = [6, 7, 2, 1, 5]\n",
    "# use your plot's line() function to create a line plot with this data\n",
    "plot.line(x, y)"
   ]
  },
  {
   "cell_type": "markdown",
   "metadata": {},
   "source": [
    "The `line()` function returns a `GlyphRenderer` object. This represents the\n",
    "glyph that you have added to your plot.\n",
    "\n",
    "You now have a basic figure (created with `figure()`) and a line glyph (created\n",
    "with `line()`).\n",
    "The final step is to display the plot.\n",
    "Bokeh provides a `show()` function to display the plot:"
   ]
  },
  {
   "cell_type": "code",
   "execution_count": null,
   "metadata": {},
   "outputs": [],
   "source": [
    "from bokeh.plotting import show\n",
    "\n",
    "show(plot)"
   ]
  },
  {
   "cell_type": "markdown",
   "metadata": {},
   "source": [
    "The next cell contains all the code necessary to create a line chart.\n",
    "\n",
    "Try changing some of the parameters of the `figure()` and `line()` functions.\n",
    "The code cell contains some comments with suggestions for what to try.\n",
    "\n",
    "When you have made your changes, rerun this cell to see how the output changes:"
   ]
  },
  {
   "cell_type": "code",
   "execution_count": null,
   "metadata": {},
   "outputs": [],
   "source": [
    "from bokeh.plotting import figure, show\n",
    "\n",
    "# 🔁 uncomment and adjust some of the additional parameters to see what they do\n",
    "plot = figure(\n",
    "    height=300,\n",
    "    width=300,\n",
    "    # title='Basic Line Plot',\n",
    "    #  x_axis_label='x',\n",
    "    #  y_axis_label='y'\n",
    ")\n",
    "\n",
    "# 🔁 replace some of the values with different numbers to see how the plot changes\n",
    "x = [1, 2, 3, 4, 5]\n",
    "y = [6, 7, 2, 1, 5]\n",
    "\n",
    "# 🔁 uncomment and adjust some of the additional parameters to see what they do\n",
    "plot.line(\n",
    "    x,\n",
    "    y,\n",
    "    # legend_label=\"Temperature\",\n",
    "    # line_width=2,\n",
    "    # line_color=\"red\",\n",
    ")\n",
    "\n",
    "show(plot)"
   ]
  },
  {
   "cell_type": "markdown",
   "metadata": {},
   "source": [
    "### Line chart example\n",
    "Let's create a line chart with some real data from the dashboard you are\n",
    "building.\n",
    "We will use the total number of passengers on flights for each month in 2021.\n",
    "\n",
    "For convenience, the data for this tutorial is available in a class that you\n",
    "already imported at the top of this notebook. We are using a data frame called\n",
    "`monthly_values_df`:"
   ]
  },
  {
   "cell_type": "code",
   "execution_count": null,
   "metadata": {},
   "outputs": [],
   "source": [
    "monthly_values_df = data.get_monthly_values()\n",
    "monthly_values_df.head(5)"
   ]
  },
  {
   "cell_type": "markdown",
   "metadata": {},
   "source": [
    "For now, we will only use the `passengers` column and the month number from the\n",
    "DataFrame's index.\n",
    "\n",
    "Use `figure()` with the `height`, `width`, and `title` parameters to create a new\n",
    "plot.\n",
    "\n",
    "Next, load the data from the `monthly_values_df` data frame. Use this data\n",
    "to add a line glyph to the plot, using `line()` with some of the parameters you\n",
    "saw above. Finally, use `show()` to display the plot:"
   ]
  },
  {
   "cell_type": "code",
   "execution_count": null,
   "metadata": {},
   "outputs": [],
   "source": [
    "# set up the plot\n",
    "plot = figure(\n",
    "    height=300,\n",
    "    width=600,\n",
    "    title=\"Domestic Airline Passengers (2021)\",\n",
    ")\n",
    "\n",
    "# use data from the monthly_values_df DataFrame\n",
    "x = monthly_values_df.index  # x-axis is the number of the month\n",
    "y = monthly_values_df[\"passengers\"]  # y-axis is the number of passengers\n",
    "\n",
    "# add a line glyph to the plot\n",
    "plot.line(\n",
    "    x,\n",
    "    y,\n",
    "    legend_label=\"Passengers\",\n",
    "    line_width=3,\n",
    "    line_color=\"blue\",\n",
    ")\n",
    "\n",
    "show(plot)"
   ]
  },
  {
   "cell_type": "markdown",
   "metadata": {},
   "source": [
    "## Scatter Plots\n",
    "\n",
    "A scatter plot is a plot that uses multiple points to visualize data. These\n",
    "points can be represented by different shapes, such as circles, squares, or\n",
    "even custom images.\n",
    "\n",
    "Creating a scatter plot follows a similar pattern as creating a line chart:\n",
    "\n",
    "1. Create a new figure using the `figure()` function.\n",
    "2. Add the scatter plot points to the figure using the scatter glyph function.\n",
    "3. Display the plot using the `show()` function.\n",
    "\n",
    "For example:"
   ]
  },
  {
   "cell_type": "code",
   "execution_count": null,
   "metadata": {},
   "outputs": [],
   "source": [
    "# create a new plot using the figure function\n",
    "p = figure(width=400, height=200)\n",
    "\n",
    "# add a circle renderer with x and y coordinates and size\n",
    "p.scatter([1, 2, 3, 4, 5], [6, 7, 2, 4, 5], size=15)\n",
    "\n",
    "show(p)  # show the results"
   ]
  },
  {
   "cell_type": "markdown",
   "metadata": {},
   "source": [
    "Changing the shapes representing the points in your scatter plot is easy.\n",
    "Just specify the `marker` type for a different scatter glyph shape. The default is `circle`\n",
    "\n",
    "The cell below contains a scatter plot with different scatter markers that you\n",
    "can try. This example also uses additional arguments to change the color\n",
    "(`color`) and opacity (`alpha`) of the points.\n",
    "\n",
    "Uncomment a glyph function and rerun the cell to see the result:"
   ]
  },
  {
   "cell_type": "code",
   "execution_count": null,
   "metadata": {},
   "outputs": [],
   "source": [
    "# create a new plot and define some data\n",
    "p = figure(width=400, height=200)\n",
    "x = [1, 2, 3, 4, 5]\n",
    "y = [6, 7, 2, 4, 5]\n",
    "\n",
    "# 🔁 use one of the different marker types to see what they do\n",
    "# p.scatter(x, y, size=15, color=\"red\", alpha=0.5, marker=\"triangle\")\n",
    "# p.scatter(x, y, size=15, color=\"yellow\", alpha=0.5, marker=\"triangle_dot\")\n",
    "# p.scatter(x, y, size=15, color=\"pink\", alpha=0.5, marker=\"square\")\n",
    "# p.scatter(x, y, size=15, color=\"blue\", alpha=0.5, marker=\"square_dot\")\n",
    "# p.scatter(x, y, size=15, color=\"green\", alpha=0.5, marker=\"square_cross\")\n",
    "# p.scatter(x, y, size=15, color=\"maroon\", alpha=0.5, marker=\"square_pin\")\n",
    "# p.scatter(x, y, size=15, color=\"orange\", alpha=0.5, marker=\"asterisk\")\n",
    "\n",
    "show(p)  # show the results"
   ]
  },
  {
   "cell_type": "markdown",
   "metadata": {},
   "source": [
    "See [Scatter markers](https://docs.bokeh.org/en/latest/docs/user_guide/basic/scatters.html#scatter-markers)\n",
    "in the Bokeh user guide for an overview of all available scatter markers."
   ]
  },
  {
   "cell_type": "markdown",
   "metadata": {},
   "source": [
    "### Combining glyphs in a single plot\n",
    "\n",
    "So far, you have created a single line chart and a single scatter plot.\n",
    "However, you can also combine multiple glyphs in a single plot.\n",
    "\n",
    "All you need to do is call multiple glyph functions on the same figure:"
   ]
  },
  {
   "cell_type": "code",
   "execution_count": null,
   "metadata": {},
   "outputs": [],
   "source": [
    "plot = figure(height=300, width=300)\n",
    "x = [1, 2, 3, 4, 5]\n",
    "y = [6, 7, 2, 1, 5]\n",
    "\n",
    "# add a line chart to the plot\n",
    "plot.line(x, y)\n",
    "\n",
    "# add scatter markers to the plot\n",
    "plot.scatter(x, y, size=15, color=\"red\", alpha=0.5, marker=\"circle_dot\")\n",
    "\n",
    "show(plot)"
   ]
  },
  {
   "cell_type": "markdown",
   "metadata": {},
   "source": [
    "### Categorical data in bar charts\n",
    "\n",
    "Bar charts represent data for different categories as vertical or horizontal\n",
    "bars.\n",
    "\n",
    "In the examples so far, you have used a continuous range for the x-axis.\n",
    "Bar charts are a great way to visualize categorical data.\n",
    "This means that the x-axis is not a continuous range but a set of discrete categories.\n",
    "For example, a list of countries or a list of different products.\n",
    "\n",
    "In the example below, you will create a bar chart that shows a count for\n",
    "different kinds of fruits.\n",
    "\n",
    "The different fruits are the categories.\n",
    "To use categories instead of a continuous range of numbers, the `figure()` function\n",
    "has a parameter called `x_range`.\n",
    "This is where you pass the list of fruits.\n",
    "\n",
    "The glyph function for vertical bars is called `vbar()`.\n",
    "The height of the bars is determined by the `top` parameter.\n",
    "The `x` parameter determines which category the bar belongs to."
   ]
  },
  {
   "cell_type": "code",
   "execution_count": null,
   "metadata": {},
   "outputs": [],
   "source": [
    "fruits = [\"Apples\", \"Pears\", \"Nectarines\", \"Plums\", \"Grapes\", \"Strawberries\"]  # a list of categories\n",
    "counts = [5, 3, 4, 2, 4, 6]\n",
    "\n",
    "p = figure(x_range=fruits, height=350, title=\"Fruit Counts\")  # define the categories on the x-axis\n",
    "\n",
    "p.vbar(x=fruits, top=counts, width=0.9, color=\"firebrick\")\n",
    "\n",
    "show(p)"
   ]
  },
  {
   "cell_type": "markdown",
   "metadata": {},
   "source": [
    "### Bar chart example\n",
    "\n",
    "In the air travel dashboard you are building, a bar chart is used to visualize\n",
    "the number of passengers for the ten airlines with the highest number of passengers.\n",
    "\n",
    "This chart uses the `airlines_by_passengers_df` DataFrame:"
   ]
  },
  {
   "cell_type": "code",
   "execution_count": null,
   "metadata": {},
   "outputs": [],
   "source": [
    "airlines_by_passengers_df = data.get_biggest_airlines_by_passengers()\n",
    "airlines_by_passengers_df.head()"
   ]
  },
  {
   "cell_type": "markdown",
   "metadata": {},
   "source": [
    "Use `figure()` with the `height`, `width`, and `title` parameters to create a new\n",
    "plot. Next, load the data from the `monthly_values_df` data frame. Use this data\n",
    "to add a line glyph to the plot, using `line()` with some of the parameters you\n",
    "saw above. Finally, use `show()` to display the plot:"
   ]
  },
  {
   "cell_type": "code",
   "execution_count": null,
   "metadata": {},
   "outputs": [],
   "source": [
    "carriers_by_passengers_plot = figure(\n",
    "    x_range=airlines_by_passengers_df[\"unique_carrier_name\"][:10],  # use only the top ten carriers\n",
    "    title=\"Top 10 carriers by passengers (domestic routes)\",\n",
    "    height=300,\n",
    "    width=600,\n",
    ")\n",
    "carriers_by_passengers_plot.vbar(\n",
    "    x=airlines_by_passengers_df[\"unique_carrier_name\"],\n",
    "    top=airlines_by_passengers_df[\"passengers\"],\n",
    "    legend_label=\"Passengers\",\n",
    "    width=0.6,\n",
    ")\n",
    "\n",
    "carriers_by_passengers_plot.xaxis.major_label_orientation = 0.8  # rotate labels by roughly pi/4\n",
    "\n",
    "show(carriers_by_passengers_plot)"
   ]
  },
  {
   "cell_type": "markdown",
   "metadata": {},
   "source": [
    "Line, scatter, and bar charts are just some basic examples of the types of plots\n",
    "you can create with Bokeh. See [Basic plotting](https://docs.bokeh.org/en/latest/docs/user_guide/basic.html),\n",
    "[Topic guides](https://docs.bokeh.org/en/latest/docs/user_guide/topics.html), and\n",
    "[Gallery](https://docs.bokeh.org/en/latest/docs/gallery.html) in the Bokeh user guide\n",
    "for more plot types.\n",
    "\n",
    "You will also learn about more plot types in the next few chapters of this tutorial."
   ]
  },
  {
   "cell_type": "markdown",
   "metadata": {},
   "source": [
    "## Next section\n",
    "\n",
    "Looking at the example in the previous cell, you'll notice that there is one\n",
    "line that changes the orientation of labels on the x-axis to be diagonal:\n",
    "\n",
    "`carriers_by_passengers_plot.xaxis.major_label_orientation = 0.8 `\n",
    "\n",
    "This is an example of how you can customize the appearance of the different\n",
    "elements of your plot.\n",
    "\n",
    "<a href=\"05_styling.ipynb\" target=\"_blank\">\n",
    "    <img src=\"assets/arrow.svg\" alt=\"Next section\" width=\"100\" align=\"right\">\n",
    "</a>\n",
    "\n",
    "Customizing the appearance of your plot is what you'll learn about in the\n",
    "[next chapter](05_styling.ipynb) of this tutorial!"
   ]
  },
  {
   "cell_type": "code",
   "execution_count": null,
   "metadata": {},
   "outputs": [],
   "source": []
  }
 ],
 "metadata": {
  "kernelspec": {
   "display_name": "Python 3 (ipykernel)",
   "language": "python",
   "name": "python3"
  },
  "language_info": {
   "codemirror_mode": {
    "name": "ipython",
    "version": 3
   },
   "file_extension": ".py",
   "mimetype": "text/x-python",
   "name": "python",
   "nbconvert_exporter": "python",
   "pygments_lexer": "ipython3",
   "version": "3.12.0"
  },
  "vscode": {
   "interpreter": {
    "hash": "0494a81e5f69860dcb844ce8e12eb9c88a7e813ddbfb0fbade72137f5ce45437"
   }
  }
 },
 "nbformat": 4,
 "nbformat_minor": 4
}
